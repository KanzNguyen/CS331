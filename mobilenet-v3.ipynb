{
 "cells": [
  {
   "cell_type": "code",
   "execution_count": 2,
   "metadata": {
    "_cell_guid": "b1076dfc-b9ad-4769-8c92-a6c4dae69d19",
    "_uuid": "8f2839f25d086af736a60e9eeb907d3b93b6e0e5",
    "execution": {
     "iopub.execute_input": "2024-12-01T13:33:45.720409Z",
     "iopub.status.busy": "2024-12-01T13:33:45.719993Z",
     "iopub.status.idle": "2024-12-01T13:34:07.426057Z",
     "shell.execute_reply": "2024-12-01T13:34:07.424840Z",
     "shell.execute_reply.started": "2024-12-01T13:33:45.720371Z"
    },
    "trusted": true
   },
   "outputs": [],
   "source": [
    "import cv2\n",
    "from PIL import Image\n",
    "import numpy as np\n",
    "import pandas as pd\n",
    "import matplotlib.pyplot as plt\n",
    "import matplotlib.image as mpimg\n",
    "import os\n",
    "from sklearn.metrics import accuracy_score, confusion_matrix, classification_report, ConfusionMatrixDisplay, f1_score\n",
    "import joblib\n",
    "import torch\n",
    "import torch.nn as nn\n",
    "from torchvision.transforms import Resize, ToTensor, Compose, Normalize, transforms\n",
    "from torchvision.models import resnet18\n",
    "from tqdm import tqdm\n",
    "from torchvision import transforms\n",
    "from sklearn.decomposition import PCA\n",
    "from sklearn.decomposition import SparsePCA\n",
    "from sklearn.model_selection import train_test_split\n",
    "from sklearn.metrics import accuracy_score, classification_report\n",
    "from sklearn.svm import SVC\n",
    "from os import listdir\n",
    "from keras.models import Sequential\n",
    "from keras.layers import Conv1D, MaxPooling1D, Flatten, Dense, Dropout\n",
    "from keras.layers import Reshape\n",
    "from keras.layers import Input, Dense, concatenate\n",
    "from keras.models import Model\n",
    "from collections import defaultdict\n",
    "from xgboost import XGBClassifier\n",
    "from sklearn.utils import resample\n",
    "from sklearn.preprocessing import StandardScaler\n",
    "from torchvision.models import mobilenet_v3_large\n",
    "from sklearn.metrics import precision_score, recall_score\n",
    "import seaborn as sns"
   ]
  },
  {
   "cell_type": "code",
   "execution_count": 3,
   "metadata": {
    "execution": {
     "iopub.execute_input": "2024-12-01T13:34:07.428815Z",
     "iopub.status.busy": "2024-12-01T13:34:07.428074Z",
     "iopub.status.idle": "2024-12-01T13:34:07.435969Z",
     "shell.execute_reply": "2024-12-01T13:34:07.434749Z",
     "shell.execute_reply.started": "2024-12-01T13:34:07.428772Z"
    },
    "trusted": true
   },
   "outputs": [
    {
     "name": "stdout",
     "output_type": "stream",
     "text": [
      "Available models in torchvision.models:\n"
     ]
    }
   ],
   "source": [
    "import torchvision.models as models\n",
    "\n",
    "all_models = dir(models)\n",
    "model_names = [model for model in all_models if callable(getattr(models, model))]\n",
    "print(\"Available models in torchvision.models:\")\n",
    "#for name in model_names:\n",
    "#    print(name)"
   ]
  },
  {
   "cell_type": "code",
   "execution_count": 4,
   "metadata": {
    "execution": {
     "iopub.execute_input": "2024-12-01T13:34:07.437701Z",
     "iopub.status.busy": "2024-12-01T13:34:07.437186Z",
     "iopub.status.idle": "2024-12-01T13:34:07.586604Z",
     "shell.execute_reply": "2024-12-01T13:34:07.585477Z",
     "shell.execute_reply.started": "2024-12-01T13:34:07.437654Z"
    },
    "trusted": true
   },
   "outputs": [
    {
     "data": {
      "text/html": [
       "<div>\n",
       "<style scoped>\n",
       "    .dataframe tbody tr th:only-of-type {\n",
       "        vertical-align: middle;\n",
       "    }\n",
       "\n",
       "    .dataframe tbody tr th {\n",
       "        vertical-align: top;\n",
       "    }\n",
       "\n",
       "    .dataframe thead th {\n",
       "        text-align: right;\n",
       "    }\n",
       "</style>\n",
       "<table border=\"1\" class=\"dataframe\">\n",
       "  <thead>\n",
       "    <tr style=\"text-align: right;\">\n",
       "      <th></th>\n",
       "      <th>Image</th>\n",
       "      <th>Class</th>\n",
       "      <th>Mean</th>\n",
       "      <th>Variance</th>\n",
       "      <th>Standard Deviation</th>\n",
       "      <th>Entropy</th>\n",
       "      <th>Skewness</th>\n",
       "      <th>Kurtosis</th>\n",
       "      <th>Contrast</th>\n",
       "      <th>Energy</th>\n",
       "      <th>ASM</th>\n",
       "      <th>Homogeneity</th>\n",
       "      <th>Dissimilarity</th>\n",
       "      <th>Correlation</th>\n",
       "      <th>Coarseness</th>\n",
       "    </tr>\n",
       "  </thead>\n",
       "  <tbody>\n",
       "    <tr>\n",
       "      <th>0</th>\n",
       "      <td>Image1</td>\n",
       "      <td>0</td>\n",
       "      <td>6.535339</td>\n",
       "      <td>619.587845</td>\n",
       "      <td>24.891522</td>\n",
       "      <td>0.109059</td>\n",
       "      <td>4.276477</td>\n",
       "      <td>18.900575</td>\n",
       "      <td>98.613971</td>\n",
       "      <td>0.293314</td>\n",
       "      <td>0.086033</td>\n",
       "      <td>0.530941</td>\n",
       "      <td>4.473346</td>\n",
       "      <td>0.981939</td>\n",
       "      <td>7.458341e-155</td>\n",
       "    </tr>\n",
       "    <tr>\n",
       "      <th>1</th>\n",
       "      <td>Image2</td>\n",
       "      <td>0</td>\n",
       "      <td>8.749969</td>\n",
       "      <td>805.957634</td>\n",
       "      <td>28.389393</td>\n",
       "      <td>0.266538</td>\n",
       "      <td>3.718116</td>\n",
       "      <td>14.464618</td>\n",
       "      <td>63.858816</td>\n",
       "      <td>0.475051</td>\n",
       "      <td>0.225674</td>\n",
       "      <td>0.651352</td>\n",
       "      <td>3.220072</td>\n",
       "      <td>0.988834</td>\n",
       "      <td>7.458341e-155</td>\n",
       "    </tr>\n",
       "    <tr>\n",
       "      <th>2</th>\n",
       "      <td>Image3</td>\n",
       "      <td>1</td>\n",
       "      <td>7.341095</td>\n",
       "      <td>1143.808219</td>\n",
       "      <td>33.820234</td>\n",
       "      <td>0.001467</td>\n",
       "      <td>5.061750</td>\n",
       "      <td>26.479563</td>\n",
       "      <td>81.867206</td>\n",
       "      <td>0.031917</td>\n",
       "      <td>0.001019</td>\n",
       "      <td>0.268275</td>\n",
       "      <td>5.981800</td>\n",
       "      <td>0.978014</td>\n",
       "      <td>7.458341e-155</td>\n",
       "    </tr>\n",
       "    <tr>\n",
       "      <th>3</th>\n",
       "      <td>Image4</td>\n",
       "      <td>1</td>\n",
       "      <td>5.958145</td>\n",
       "      <td>959.711985</td>\n",
       "      <td>30.979219</td>\n",
       "      <td>0.001477</td>\n",
       "      <td>5.677977</td>\n",
       "      <td>33.428845</td>\n",
       "      <td>151.229741</td>\n",
       "      <td>0.032024</td>\n",
       "      <td>0.001026</td>\n",
       "      <td>0.243851</td>\n",
       "      <td>7.700919</td>\n",
       "      <td>0.964189</td>\n",
       "      <td>7.458341e-155</td>\n",
       "    </tr>\n",
       "    <tr>\n",
       "      <th>4</th>\n",
       "      <td>Image5</td>\n",
       "      <td>0</td>\n",
       "      <td>7.315231</td>\n",
       "      <td>729.540579</td>\n",
       "      <td>27.010009</td>\n",
       "      <td>0.146761</td>\n",
       "      <td>4.283221</td>\n",
       "      <td>19.079108</td>\n",
       "      <td>174.988756</td>\n",
       "      <td>0.343849</td>\n",
       "      <td>0.118232</td>\n",
       "      <td>0.501140</td>\n",
       "      <td>6.834689</td>\n",
       "      <td>0.972789</td>\n",
       "      <td>7.458341e-155</td>\n",
       "    </tr>\n",
       "  </tbody>\n",
       "</table>\n",
       "</div>"
      ],
      "text/plain": [
       "    Image  Class      Mean     Variance  Standard Deviation   Entropy  \\\n",
       "0  Image1      0  6.535339   619.587845           24.891522  0.109059   \n",
       "1  Image2      0  8.749969   805.957634           28.389393  0.266538   \n",
       "2  Image3      1  7.341095  1143.808219           33.820234  0.001467   \n",
       "3  Image4      1  5.958145   959.711985           30.979219  0.001477   \n",
       "4  Image5      0  7.315231   729.540579           27.010009  0.146761   \n",
       "\n",
       "   Skewness   Kurtosis    Contrast    Energy       ASM  Homogeneity  \\\n",
       "0  4.276477  18.900575   98.613971  0.293314  0.086033     0.530941   \n",
       "1  3.718116  14.464618   63.858816  0.475051  0.225674     0.651352   \n",
       "2  5.061750  26.479563   81.867206  0.031917  0.001019     0.268275   \n",
       "3  5.677977  33.428845  151.229741  0.032024  0.001026     0.243851   \n",
       "4  4.283221  19.079108  174.988756  0.343849  0.118232     0.501140   \n",
       "\n",
       "   Dissimilarity  Correlation     Coarseness  \n",
       "0       4.473346     0.981939  7.458341e-155  \n",
       "1       3.220072     0.988834  7.458341e-155  \n",
       "2       5.981800     0.978014  7.458341e-155  \n",
       "3       7.700919     0.964189  7.458341e-155  \n",
       "4       6.834689     0.972789  7.458341e-155  "
      ]
     },
     "execution_count": 4,
     "metadata": {},
     "output_type": "execute_result"
    }
   ],
   "source": [
    "data = pd.read_csv(\"/kaggle/input/brain-tumor-csv/Brain Tumor.csv\")\n",
    "data.head()"
   ]
  },
  {
   "cell_type": "code",
   "execution_count": 5,
   "metadata": {
    "execution": {
     "iopub.execute_input": "2024-12-01T13:34:07.589558Z",
     "iopub.status.busy": "2024-12-01T13:34:07.589149Z",
     "iopub.status.idle": "2024-12-01T13:34:07.603129Z",
     "shell.execute_reply": "2024-12-01T13:34:07.601730Z",
     "shell.execute_reply.started": "2024-12-01T13:34:07.589518Z"
    },
    "trusted": true
   },
   "outputs": [],
   "source": [
    "images = data.Image\n",
    "classes = data.Class\n",
    "image_label_dict = data.set_index('Image')['Class'].to_dict()\n",
    "#print(image_label_dict)"
   ]
  },
  {
   "cell_type": "code",
   "execution_count": 6,
   "metadata": {
    "execution": {
     "iopub.execute_input": "2024-12-01T13:34:07.605406Z",
     "iopub.status.busy": "2024-12-01T13:34:07.604937Z",
     "iopub.status.idle": "2024-12-01T13:34:07.621069Z",
     "shell.execute_reply": "2024-12-01T13:34:07.619988Z",
     "shell.execute_reply.started": "2024-12-01T13:34:07.605358Z"
    },
    "trusted": true
   },
   "outputs": [
    {
     "name": "stdout",
     "output_type": "stream",
     "text": [
      "cpu\n"
     ]
    }
   ],
   "source": [
    "device = torch.device(\"cuda\" if torch.cuda.is_available() else \"cpu\")\n",
    "print(device)"
   ]
  },
  {
   "cell_type": "code",
   "execution_count": 7,
   "metadata": {
    "execution": {
     "iopub.execute_input": "2024-12-01T13:34:07.622982Z",
     "iopub.status.busy": "2024-12-01T13:34:07.622486Z",
     "iopub.status.idle": "2024-12-01T13:34:07.640800Z",
     "shell.execute_reply": "2024-12-01T13:34:07.639603Z",
     "shell.execute_reply.started": "2024-12-01T13:34:07.622933Z"
    },
    "trusted": true
   },
   "outputs": [],
   "source": [
    "def preprocess_image(image_path):\n",
    "  image = Image.open(image_path).convert('RGB')\n",
    "  transform = transforms.Compose([\n",
    "      transforms.Resize((224, 224)),\n",
    "      transforms.ToTensor(),\n",
    "      transforms.Normalize(mean=[0.485, 0.456, 0.406], std=[0.229, 0.224, 0.225])\n",
    "  ])\n",
    "  image = transform(image)\n",
    "  image = image.unsqueeze(0)\n",
    "  return image.to(device)\n",
    "def extract_features(image, model):\n",
    "  with torch.no_grad():\n",
    "    feature = model(image).squeeze().cpu().numpy()\n",
    "  return feature\n",
    "def extract_features_from_image(image_path, model):\n",
    "  image = preprocess_image(image_path)\n",
    "  features = extract_features(image, model)\n",
    "  return features\n",
    "def preprocess_image_pca(image_path):\n",
    "    image = Image.open(image_path).convert('RGB')\n",
    "    transform = transforms.Compose([\n",
    "        transforms.Resize((224, 224)),\n",
    "        transforms.ToTensor(),\n",
    "    ])\n",
    "    image = transform(image)\n",
    "    image = image.numpy().flatten()\n",
    "    return image"
   ]
  },
  {
   "cell_type": "markdown",
   "metadata": {},
   "source": [
    "**mobilenet_v3_large**"
   ]
  },
  {
   "cell_type": "code",
   "execution_count": 8,
   "metadata": {
    "execution": {
     "iopub.execute_input": "2024-12-01T13:34:07.643401Z",
     "iopub.status.busy": "2024-12-01T13:34:07.642926Z",
     "iopub.status.idle": "2024-12-01T13:36:49.650587Z",
     "shell.execute_reply": "2024-12-01T13:36:49.649393Z",
     "shell.execute_reply.started": "2024-12-01T13:34:07.643350Z"
    },
    "trusted": true
   },
   "outputs": [
    {
     "name": "stderr",
     "output_type": "stream",
     "text": [
      "/opt/conda/lib/python3.10/site-packages/torchvision/models/_utils.py:208: UserWarning: The parameter 'pretrained' is deprecated since 0.13 and may be removed in the future, please use 'weights' instead.\n",
      "  warnings.warn(\n",
      "/opt/conda/lib/python3.10/site-packages/torchvision/models/_utils.py:223: UserWarning: Arguments other than a weight enum or `None` for 'weights' are deprecated since 0.13 and may be removed in the future. The current behavior is equivalent to passing `weights=MobileNet_V3_Large_Weights.IMAGENET1K_V1`. You can also use `weights=MobileNet_V3_Large_Weights.DEFAULT` to get the most up-to-date weights.\n",
      "  warnings.warn(msg)\n",
      "Downloading: \"https://download.pytorch.org/models/mobilenet_v3_large-8738ca79.pth\" to /root/.cache/torch/hub/checkpoints/mobilenet_v3_large-8738ca79.pth\n",
      "100%|██████████| 21.1M/21.1M [00:00<00:00, 114MB/s]\n",
      "100%|██████████| 3762/3762 [02:40<00:00, 23.45it/s]\n"
     ]
    }
   ],
   "source": [
    "mobilenet_v3_large_model = mobilenet_v3_large(pretrained=True)\n",
    "mobilenet_v3_large_model = nn.Sequential(*list(mobilenet_v3_large_model.children())[:-1])\n",
    "mobilenet_v3_large_model = mobilenet_v3_large_model.to(device)\n",
    "mobilenet_v3_large_model.eval()\n",
    "\n",
    "dir_list = '/kaggle/input/reloaded-crop/Crop/'\n",
    "X_resnet = []\n",
    "X_pca_orig = []\n",
    "Y = []\n",
    "filename_list = []\n",
    "\n",
    "for filename in tqdm(listdir(dir_list)):\n",
    "  if filename.endswith('.jpg'):\n",
    "    filename_list.append(filename)\n",
    "    path = dir_list + filename\n",
    "    label = image_label_dict.get(filename.split('.')[0], None)\n",
    "    if label is not None:\n",
    "      features = extract_features_from_image(path, mobilenet_v3_large_model)\n",
    "      X_resnet.append(features)\n",
    "      feature_pca = preprocess_image_pca(path)\n",
    "      X_pca_orig.append(feature_pca)\n",
    "      Y.append(label)\n",
    "X_resnet = np.array(X_resnet)\n",
    "X_pca_orig = np.array(X_pca_orig)\n",
    "Y = np.array(Y)"
   ]
  },
  {
   "cell_type": "code",
   "execution_count": 9,
   "metadata": {
    "execution": {
     "iopub.execute_input": "2024-12-01T13:36:49.652898Z",
     "iopub.status.busy": "2024-12-01T13:36:49.652451Z",
     "iopub.status.idle": "2024-12-01T13:36:49.658790Z",
     "shell.execute_reply": "2024-12-01T13:36:49.657600Z",
     "shell.execute_reply.started": "2024-12-01T13:36:49.652852Z"
    },
    "trusted": true
   },
   "outputs": [
    {
     "name": "stdout",
     "output_type": "stream",
     "text": [
      "(960,)\n",
      "(150528,)\n"
     ]
    }
   ],
   "source": [
    "print(X_resnet[0].shape)\n",
    "print(X_pca_orig[0].shape)"
   ]
  },
  {
   "cell_type": "code",
   "execution_count": 10,
   "metadata": {
    "execution": {
     "iopub.execute_input": "2024-12-01T13:36:49.660419Z",
     "iopub.status.busy": "2024-12-01T13:36:49.660049Z",
     "iopub.status.idle": "2024-12-01T13:41:54.103575Z",
     "shell.execute_reply": "2024-12-01T13:41:54.102380Z",
     "shell.execute_reply.started": "2024-12-01T13:36:49.660367Z"
    },
    "trusted": true
   },
   "outputs": [
    {
     "name": "stdout",
     "output_type": "stream",
     "text": [
      "(378,)\n"
     ]
    }
   ],
   "source": [
    "n_components = 0.95\n",
    "pca_model = PCA(n_components=n_components, random_state=42)\n",
    "#X_pca = pca_model.fit_transform(X_resnet)\n",
    "X_pca = pca_model.fit_transform(X_pca_orig)\n",
    "print(X_pca[0].shape)\n",
    "X_pca = np.hstack((X_resnet, X_pca))"
   ]
  },
  {
   "cell_type": "code",
   "execution_count": 11,
   "metadata": {
    "execution": {
     "iopub.execute_input": "2024-12-01T13:41:54.108571Z",
     "iopub.status.busy": "2024-12-01T13:41:54.108047Z",
     "iopub.status.idle": "2024-12-01T13:41:54.114805Z",
     "shell.execute_reply": "2024-12-01T13:41:54.113655Z",
     "shell.execute_reply.started": "2024-12-01T13:41:54.108532Z"
    },
    "trusted": true
   },
   "outputs": [
    {
     "name": "stdout",
     "output_type": "stream",
     "text": [
      "(1338,)\n"
     ]
    }
   ],
   "source": [
    "print(X_pca[0].shape)"
   ]
  },
  {
   "cell_type": "code",
   "execution_count": 12,
   "metadata": {
    "execution": {
     "iopub.execute_input": "2024-12-01T13:41:54.116338Z",
     "iopub.status.busy": "2024-12-01T13:41:54.115950Z",
     "iopub.status.idle": "2024-12-01T13:42:42.787375Z",
     "shell.execute_reply": "2024-12-01T13:42:42.786092Z",
     "shell.execute_reply.started": "2024-12-01T13:41:54.116262Z"
    },
    "trusted": true
   },
   "outputs": [
    {
     "name": "stdout",
     "output_type": "stream",
     "text": [
      "Best Hyperparameters: {'C': 5, 'gamma': 'scale'}\n",
      "Validation F1 Score: 0.970464135021097\n",
      "Test F1 Score: 0.9777777777777779\n",
      "Accuracy: 0.9805309734513274\n",
      "Precision: 0.979757085020243\n",
      "Recall: 0.9758064516129032\n",
      "Classification Report:\n",
      "               precision    recall  f1-score   support\n",
      "\n",
      "           0     0.9811    0.9842    0.9827       317\n",
      "           1     0.9798    0.9758    0.9778       248\n",
      "\n",
      "    accuracy                         0.9805       565\n",
      "   macro avg     0.9804    0.9800    0.9802       565\n",
      "weighted avg     0.9805    0.9805    0.9805       565\n",
      "\n"
     ]
    }
   ],
   "source": [
    "#X_train, X_test, y_train, y_test = train_test_split(X_pca, Y, test_size=0.15, random_state=42)\n",
    "X_train, X_test, y_train, y_test = train_test_split(X_resnet, Y, test_size=0.15, random_state=42)\n",
    "X_train, X_val, y_train, y_val = train_test_split(X_train, y_train, test_size=0.1765, random_state=42)\n",
    "\n",
    "scaler = StandardScaler()\n",
    "X_train = scaler.fit_transform(X_train)\n",
    "X_val = scaler.transform(X_val)\n",
    "X_test = scaler.transform(X_test)\n",
    "\n",
    "C_values = [0.1, 0.5, 1, 2, 5, 10, 15, 20, 50]\n",
    "gamma_values = ['scale', 'auto']\n",
    "\n",
    "best_f1 = 0\n",
    "best_params = {}\n",
    "\n",
    "for C in C_values:\n",
    "    for gamma in gamma_values:\n",
    "        svm_model = SVC(kernel='rbf', C=C, gamma=gamma, random_state=42)\n",
    "        svm_model.fit(X_train, y_train)\n",
    "        y_val_pred = svm_model.predict(X_val)\n",
    "        val_f1 = f1_score(y_val, y_val_pred)  \n",
    "        if val_f1 > best_f1:\n",
    "            best_f1 = val_f1\n",
    "            best_params = {'C': C, 'gamma': gamma}\n",
    "\n",
    "best_model = SVC(kernel='rbf', C=best_params['C'], gamma=best_params['gamma'], random_state=42)\n",
    "best_model.fit(X_train, y_train)\n",
    "y_test_pred = best_model.predict(X_test)\n",
    "\n",
    "print(\"Best Hyperparameters:\", best_params)\n",
    "print(\"Validation F1 Score:\", best_f1)\n",
    "print(\"Test F1 Score:\", f1_score(y_test, y_test_pred))\n",
    "print(\"Accuracy:\", accuracy_score(y_test, y_test_pred))\n",
    "print(\"Precision:\", precision_score(y_test, y_test_pred))\n",
    "print(\"Recall:\", recall_score(y_test, y_test_pred))\n",
    "print(\"Classification Report:\\n\", classification_report(y_test, y_test_pred, digits=4))"
   ]
  },
  {
   "cell_type": "code",
   "execution_count": 13,
   "metadata": {
    "execution": {
     "iopub.execute_input": "2024-12-01T13:42:42.789514Z",
     "iopub.status.busy": "2024-12-01T13:42:42.789008Z",
     "iopub.status.idle": "2024-12-01T13:42:43.120527Z",
     "shell.execute_reply": "2024-12-01T13:42:43.119384Z",
     "shell.execute_reply.started": "2024-12-01T13:42:42.789470Z"
    },
    "trusted": true
   },
   "outputs": [
    {
     "data": {
      "image/png": "[encoded data removed]",
      "text/plain": [
       "<Figure size 800x600 with 2 Axes>"
      ]
     },
     "metadata": {},
     "output_type": "display_data"
    }
   ],
   "source": [
    "conf_matrix = confusion_matrix(y_test, y_test_pred)\n",
    "plt.figure(figsize=(8, 6))\n",
    "sns.heatmap(conf_matrix, annot=True, fmt=\"d\", cmap=\"Blues\", xticklabels=np.unique(Y), yticklabels=np.unique(Y))\n",
    "plt.title(\"Confusion Matrix\")\n",
    "plt.xlabel(\"Predicted Labels\")\n",
    "plt.ylabel(\"True Labels\")\n",
    "plt.show()"
   ]
  },
  {
   "cell_type": "code",
   "execution_count": 15,
   "metadata": {
    "execution": {
     "iopub.execute_input": "2024-12-01T13:42:44.604628Z",
     "iopub.status.busy": "2024-12-01T13:42:44.604276Z",
     "iopub.status.idle": "2024-12-01T13:42:44.610446Z",
     "shell.execute_reply": "2024-12-01T13:42:44.609269Z",
     "shell.execute_reply.started": "2024-12-01T13:42:44.604595Z"
    },
    "trusted": true
   },
   "outputs": [
    {
     "name": "stdout",
     "output_type": "stream",
     "text": [
      "(2632, 960)\n"
     ]
    }
   ],
   "source": [
    "print(X_train.shape)"
   ]
  },
  {
   "cell_type": "code",
   "execution_count": 46,
   "metadata": {
    "execution": {
     "iopub.execute_input": "2024-12-01T14:01:23.170294Z",
     "iopub.status.busy": "2024-12-01T14:01:23.169875Z",
     "iopub.status.idle": "2024-12-01T14:01:23.187478Z",
     "shell.execute_reply": "2024-12-01T14:01:23.186390Z",
     "shell.execute_reply.started": "2024-12-01T14:01:23.170258Z"
    },
    "trusted": true
   },
   "outputs": [],
   "source": [
    "#X_train, X_test, y_train, y_test = train_test_split(X_pca, Y, test_size=0.15, random_state=42)\n",
    "X_train, X_test, y_train, y_test = train_test_split(X_resnet, Y, test_size=0.15, random_state=42)\n",
    "X_train, X_val, y_train, y_val = train_test_split(X_train, y_train, test_size=0.1765, random_state=42)\n",
    "scaler = StandardScaler()\n",
    "X_train = scaler.fit_transform(X_train)\n",
    "X_val = scaler.transform(X_val)\n",
    "X_test = scaler.transform(X_test)"
   ]
  },
  {
   "cell_type": "code",
   "execution_count": 47,
   "metadata": {
    "execution": {
     "iopub.execute_input": "2024-12-01T14:01:23.189981Z",
     "iopub.status.busy": "2024-12-01T14:01:23.189596Z",
     "iopub.status.idle": "2024-12-01T14:01:23.197415Z",
     "shell.execute_reply": "2024-12-01T14:01:23.196245Z",
     "shell.execute_reply.started": "2024-12-01T14:01:23.189946Z"
    },
    "trusted": true
   },
   "outputs": [
    {
     "name": "stdout",
     "output_type": "stream",
     "text": [
      "(2632, 960)\n"
     ]
    }
   ],
   "source": [
    "print(X_train.shape)"
   ]
  },
  {
   "cell_type": "code",
   "execution_count": 48,
   "metadata": {
    "execution": {
     "iopub.execute_input": "2024-12-01T14:01:23.199286Z",
     "iopub.status.busy": "2024-12-01T14:01:23.198992Z",
     "iopub.status.idle": "2024-12-01T14:03:35.206792Z",
     "shell.execute_reply": "2024-12-01T14:03:35.205567Z",
     "shell.execute_reply.started": "2024-12-01T14:01:23.199258Z"
    },
    "trusted": true
   },
   "outputs": [
    {
     "name": "stderr",
     "output_type": "stream",
     "text": [
      "/opt/conda/lib/python3.10/site-packages/keras/src/layers/reshaping/reshape.py:39: UserWarning: Do not pass an `input_shape`/`input_dim` argument to a layer. When using Sequential models, prefer using an `Input(shape)` object as the first layer in the model instead.\n",
      "  super().__init__(**kwargs)\n",
      "/opt/conda/lib/python3.10/site-packages/keras/src/layers/convolutional/base_conv.py:107: UserWarning: Do not pass an `input_shape`/`input_dim` argument to a layer. When using Sequential models, prefer using an `Input(shape)` object as the first layer in the model instead.\n",
      "  super().__init__(activity_regularizer=activity_regularizer, **kwargs)\n"
     ]
    },
    {
     "name": "stdout",
     "output_type": "stream",
     "text": [
      "Epoch 1/10\n",
      "\u001b[1m83/83\u001b[0m \u001b[32m━━━━━━━━━━━━━━━━━━━━\u001b[0m\u001b[37m\u001b[0m \u001b[1m5s\u001b[0m 39ms/step - accuracy: 0.6639 - loss: 0.5844 - val_accuracy: 0.9292 - val_loss: 0.2202\n",
      "Epoch 2/10\n",
      "\u001b[1m83/83\u001b[0m \u001b[32m━━━━━━━━━━━━━━━━━━━━\u001b[0m\u001b[37m\u001b[0m \u001b[1m4s\u001b[0m 30ms/step - accuracy: 0.9232 - loss: 0.2086 - val_accuracy: 0.9257 - val_loss: 0.1960\n",
      "Epoch 3/10\n",
      "\u001b[1m83/83\u001b[0m \u001b[32m━━━━━━━━━━━━━━━━━━━━\u001b[0m\u001b[37m\u001b[0m \u001b[1m3s\u001b[0m 30ms/step - accuracy: 0.9348 - loss: 0.1630 - val_accuracy: 0.9540 - val_loss: 0.1437\n",
      "Epoch 4/10\n",
      "\u001b[1m83/83\u001b[0m \u001b[32m━━━━━━━━━━━━━━━━━━━━\u001b[0m\u001b[37m\u001b[0m \u001b[1m3s\u001b[0m 30ms/step - accuracy: 0.9650 - loss: 0.1056 - val_accuracy: 0.9558 - val_loss: 0.1363\n",
      "Epoch 5/10\n",
      "\u001b[1m83/83\u001b[0m \u001b[32m━━━━━━━━━━━━━━━━━━━━\u001b[0m\u001b[37m\u001b[0m \u001b[1m3s\u001b[0m 31ms/step - accuracy: 0.9736 - loss: 0.0760 - val_accuracy: 0.9558 - val_loss: 0.1220\n",
      "Epoch 6/10\n",
      "\u001b[1m83/83\u001b[0m \u001b[32m━━━━━━━━━━━━━━━━━━━━\u001b[0m\u001b[37m\u001b[0m \u001b[1m3s\u001b[0m 31ms/step - accuracy: 0.9805 - loss: 0.0586 - val_accuracy: 0.9628 - val_loss: 0.1165\n",
      "Epoch 7/10\n",
      "\u001b[1m83/83\u001b[0m \u001b[32m━━━━━━━━━━━━━━━━━━━━\u001b[0m\u001b[37m\u001b[0m \u001b[1m3s\u001b[0m 31ms/step - accuracy: 0.9793 - loss: 0.0589 - val_accuracy: 0.9593 - val_loss: 0.1281\n",
      "Epoch 8/10\n",
      "\u001b[1m83/83\u001b[0m \u001b[32m━━━━━━━━━━━━━━━━━━━━\u001b[0m\u001b[37m\u001b[0m \u001b[1m3s\u001b[0m 30ms/step - accuracy: 0.9791 - loss: 0.0576 - val_accuracy: 0.9664 - val_loss: 0.1078\n",
      "Epoch 9/10\n",
      "\u001b[1m83/83\u001b[0m \u001b[32m━━━━━━━━━━━━━━━━━━━━\u001b[0m\u001b[37m\u001b[0m \u001b[1m3s\u001b[0m 31ms/step - accuracy: 0.9908 - loss: 0.0422 - val_accuracy: 0.9611 - val_loss: 0.1176\n",
      "Epoch 10/10\n",
      "\u001b[1m83/83\u001b[0m \u001b[32m━━━━━━━━━━━━━━━━━━━━\u001b[0m\u001b[37m\u001b[0m \u001b[1m3s\u001b[0m 31ms/step - accuracy: 0.9952 - loss: 0.0180 - val_accuracy: 0.9558 - val_loss: 0.1408\n",
      "Epoch 1/10\n",
      "\u001b[1m83/83\u001b[0m \u001b[32m━━━━━━━━━━━━━━━━━━━━\u001b[0m\u001b[37m\u001b[0m \u001b[1m8s\u001b[0m 74ms/step - accuracy: 0.7322 - loss: 0.5112 - val_accuracy: 0.9363 - val_loss: 0.1938\n",
      "Epoch 2/10\n",
      "\u001b[1m83/83\u001b[0m \u001b[32m━━━━━━━━━━━━━━━━━━━━\u001b[0m\u001b[37m\u001b[0m \u001b[1m5s\u001b[0m 64ms/step - accuracy: 0.9404 - loss: 0.1550 - val_accuracy: 0.9504 - val_loss: 0.1529\n",
      "Epoch 3/10\n",
      "\u001b[1m83/83\u001b[0m \u001b[32m━━━━━━━━━━━━━━━━━━━━\u001b[0m\u001b[37m\u001b[0m \u001b[1m5s\u001b[0m 64ms/step - accuracy: 0.9579 - loss: 0.1079 - val_accuracy: 0.9487 - val_loss: 0.1451\n",
      "Epoch 4/10\n",
      "\u001b[1m83/83\u001b[0m \u001b[32m━━━━━━━━━━━━━━━━━━━━\u001b[0m\u001b[37m\u001b[0m \u001b[1m5s\u001b[0m 64ms/step - accuracy: 0.9587 - loss: 0.1159 - val_accuracy: 0.9540 - val_loss: 0.1317\n",
      "Epoch 5/10\n",
      "\u001b[1m83/83\u001b[0m \u001b[32m━━━━━━━━━━━━━━━━━━━━\u001b[0m\u001b[37m\u001b[0m \u001b[1m5s\u001b[0m 64ms/step - accuracy: 0.9761 - loss: 0.0669 - val_accuracy: 0.9558 - val_loss: 0.1289\n",
      "Epoch 6/10\n",
      "\u001b[1m83/83\u001b[0m \u001b[32m━━━━━━━━━━━━━━━━━━━━\u001b[0m\u001b[37m\u001b[0m \u001b[1m5s\u001b[0m 64ms/step - accuracy: 0.9803 - loss: 0.0535 - val_accuracy: 0.9522 - val_loss: 0.1253\n",
      "Epoch 7/10\n",
      "\u001b[1m83/83\u001b[0m \u001b[32m━━━━━━━━━━━━━━━━━━━━\u001b[0m\u001b[37m\u001b[0m \u001b[1m6s\u001b[0m 71ms/step - accuracy: 0.9851 - loss: 0.0415 - val_accuracy: 0.9487 - val_loss: 0.1450\n",
      "Epoch 8/10\n",
      "\u001b[1m83/83\u001b[0m \u001b[32m━━━━━━━━━━━━━━━━━━━━\u001b[0m\u001b[37m\u001b[0m \u001b[1m5s\u001b[0m 65ms/step - accuracy: 0.9897 - loss: 0.0289 - val_accuracy: 0.9558 - val_loss: 0.1473\n",
      "Epoch 9/10\n",
      "\u001b[1m83/83\u001b[0m \u001b[32m━━━━━━━━━━━━━━━━━━━━\u001b[0m\u001b[37m\u001b[0m \u001b[1m5s\u001b[0m 64ms/step - accuracy: 0.9852 - loss: 0.0403 - val_accuracy: 0.9540 - val_loss: 0.1370\n",
      "Epoch 10/10\n",
      "\u001b[1m83/83\u001b[0m \u001b[32m━━━━━━━━━━━━━━━━━━━━\u001b[0m\u001b[37m\u001b[0m \u001b[1m5s\u001b[0m 65ms/step - accuracy: 0.9983 - loss: 0.0105 - val_accuracy: 0.9558 - val_loss: 0.1462\n",
      "Epoch 1/10\n",
      "\u001b[1m83/83\u001b[0m \u001b[32m━━━━━━━━━━━━━━━━━━━━\u001b[0m\u001b[37m\u001b[0m \u001b[1m5s\u001b[0m 47ms/step - accuracy: 0.6181 - loss: 0.6481 - val_accuracy: 0.9186 - val_loss: 0.2359\n",
      "Epoch 2/10\n",
      "\u001b[1m83/83\u001b[0m \u001b[32m━━━━━━━━━━━━━━━━━━━━\u001b[0m\u001b[37m\u001b[0m \u001b[1m4s\u001b[0m 44ms/step - accuracy: 0.9217 - loss: 0.2023 - val_accuracy: 0.9257 - val_loss: 0.2102\n",
      "Epoch 3/10\n",
      "\u001b[1m83/83\u001b[0m \u001b[32m━━━━━━━━━━━━━━━━━━━━\u001b[0m\u001b[37m\u001b[0m \u001b[1m5s\u001b[0m 57ms/step - accuracy: 0.9400 - loss: 0.1515 - val_accuracy: 0.9239 - val_loss: 0.1989\n",
      "Epoch 4/10\n",
      "\u001b[1m83/83\u001b[0m \u001b[32m━━━━━━━━━━━━━━━━━━━━\u001b[0m\u001b[37m\u001b[0m \u001b[1m4s\u001b[0m 51ms/step - accuracy: 0.9529 - loss: 0.1377 - val_accuracy: 0.9469 - val_loss: 0.1534\n",
      "Epoch 5/10\n",
      "\u001b[1m83/83\u001b[0m \u001b[32m━━━━━━━━━━━━━━━━━━━━\u001b[0m\u001b[37m\u001b[0m \u001b[1m4s\u001b[0m 44ms/step - accuracy: 0.9660 - loss: 0.1056 - val_accuracy: 0.9540 - val_loss: 0.1309\n",
      "Epoch 6/10\n",
      "\u001b[1m83/83\u001b[0m \u001b[32m━━━━━━━━━━━━━━━━━━━━\u001b[0m\u001b[37m\u001b[0m \u001b[1m4s\u001b[0m 45ms/step - accuracy: 0.9753 - loss: 0.0719 - val_accuracy: 0.9522 - val_loss: 0.1420\n",
      "Epoch 7/10\n",
      "\u001b[1m83/83\u001b[0m \u001b[32m━━━━━━━━━━━━━━━━━━━━\u001b[0m\u001b[37m\u001b[0m \u001b[1m4s\u001b[0m 44ms/step - accuracy: 0.9831 - loss: 0.0580 - val_accuracy: 0.9150 - val_loss: 0.2410\n",
      "Epoch 8/10\n",
      "\u001b[1m83/83\u001b[0m \u001b[32m━━━━━━━━━━━━━━━━━━━━\u001b[0m\u001b[37m\u001b[0m \u001b[1m4s\u001b[0m 43ms/step - accuracy: 0.9713 - loss: 0.0641 - val_accuracy: 0.9593 - val_loss: 0.1299\n",
      "Epoch 9/10\n",
      "\u001b[1m83/83\u001b[0m \u001b[32m━━━━━━━━━━━━━━━━━━━━\u001b[0m\u001b[37m\u001b[0m \u001b[1m4s\u001b[0m 44ms/step - accuracy: 0.9905 - loss: 0.0329 - val_accuracy: 0.9398 - val_loss: 0.2100\n",
      "Epoch 10/10\n",
      "\u001b[1m83/83\u001b[0m \u001b[32m━━━━━━━━━━━━━━━━━━━━\u001b[0m\u001b[37m\u001b[0m \u001b[1m4s\u001b[0m 43ms/step - accuracy: 0.9815 - loss: 0.0483 - val_accuracy: 0.9593 - val_loss: 0.1309\n",
      "\u001b[1m18/18\u001b[0m \u001b[32m━━━━━━━━━━━━━━━━━━━━\u001b[0m\u001b[37m\u001b[0m \u001b[1m0s\u001b[0m 8ms/step - accuracy: 0.9507 - loss: 0.1455\n",
      "Accuracy1: 95.58%\n",
      "\u001b[1m18/18\u001b[0m \u001b[32m━━━━━━━━━━━━━━━━━━━━\u001b[0m\u001b[37m\u001b[0m \u001b[1m0s\u001b[0m 15ms/step - accuracy: 0.9559 - loss: 0.1354\n",
      "Accuracy2: 96.64%\n",
      "\u001b[1m18/18\u001b[0m \u001b[32m━━━━━━━━━━━━━━━━━━━━\u001b[0m\u001b[37m\u001b[0m \u001b[1m0s\u001b[0m 11ms/step - accuracy: 0.9486 - loss: 0.1554\n",
      "Accuracy3: 96.28%\n"
     ]
    }
   ],
   "source": [
    "def create_cnn_model(input_shape, num_filters):\n",
    "  model = Sequential()\n",
    "  model = Sequential()\n",
    "  model.add(Reshape((input_shape[1], 1), input_shape=input_shape[1:]))\n",
    "  model.add(Conv1D(filters=num_filters, kernel_size=3, activation='relu', input_shape=(500, 1)))\n",
    "  model.add(MaxPooling1D(pool_size=2))\n",
    "  model.add(Conv1D(filters=num_filters * 2, kernel_size=3, activation='relu'))\n",
    "  model.add(MaxPooling1D(pool_size=2))\n",
    "  model.add(Flatten())\n",
    "  model.add(Dense(64, activation='relu'))\n",
    "  model.add(Dense(1, activation='sigmoid'))\n",
    "  model.compile(optimizer='adam', loss='binary_crossentropy', metrics=['accuracy'])\n",
    "  return model\n",
    "\n",
    "model1 = create_cnn_model(X_train.shape, 32)\n",
    "model2 = create_cnn_model(X_train.shape, 64)\n",
    "model3 = create_cnn_model(X_train.shape, 48)\n",
    "\n",
    "X_train = np.array(X_train)\n",
    "X_val = np.array(X_val)\n",
    "X_test = np.array(X_test)\n",
    "\n",
    "# thêm 1 chiều vào ảnh\n",
    "X_train = X_train.reshape(X_train.shape[0], X_train.shape[1], 1)\n",
    "X_val = X_val.reshape(X_val.shape[0], X_val.shape[1], 1)\n",
    "X_test = X_test.reshape(X_test.shape[0], X_test.shape[1], 1)\n",
    "\n",
    "X_train = X_train.astype('float32')\n",
    "X_val = X_val.astype('float32')\n",
    "X_test = X_test.astype('float32')\n",
    "\n",
    "y_train = y_train.astype('float32')\n",
    "y_val = y_val.astype('float32')\n",
    "y_test = y_test.astype('float32')\n",
    "\n",
    "model1.fit(X_train, y_train, epochs=10, batch_size=32, validation_data=(X_val, y_val))\n",
    "model2.fit(X_train, y_train, epochs=10, batch_size=32, validation_data=(X_val, y_val))\n",
    "model3.fit(X_train, y_train, epochs=10, batch_size=32, validation_data=(X_val, y_val))\n",
    "\n",
    "loss, accuracy = model1.evaluate(X_test, y_test)\n",
    "print(f'Accuracy1: {accuracy*100:.2f}%')\n",
    "\n",
    "loss, accuracy = model2.evaluate(X_test, y_test)\n",
    "print(f'Accuracy2: {accuracy*100:.2f}%')\n",
    "\n",
    "loss, accuracy = model3.evaluate(X_test, y_test)\n",
    "print(f'Accuracy3: {accuracy*100:.2f}%')"
   ]
  },
  {
   "cell_type": "code",
   "execution_count": 49,
   "metadata": {
    "execution": {
     "iopub.execute_input": "2024-12-01T14:03:35.209909Z",
     "iopub.status.busy": "2024-12-01T14:03:35.209236Z",
     "iopub.status.idle": "2024-12-01T14:03:37.034673Z",
     "shell.execute_reply": "2024-12-01T14:03:37.033371Z",
     "shell.execute_reply.started": "2024-12-01T14:03:35.209875Z"
    },
    "trusted": true
   },
   "outputs": [
    {
     "name": "stdout",
     "output_type": "stream",
     "text": [
      "\u001b[1m18/18\u001b[0m \u001b[32m━━━━━━━━━━━━━━━━━━━━\u001b[0m\u001b[37m\u001b[0m \u001b[1m0s\u001b[0m 12ms/step\n",
      "\u001b[1m18/18\u001b[0m \u001b[32m━━━━━━━━━━━━━━━━━━━━\u001b[0m\u001b[37m\u001b[0m \u001b[1m0s\u001b[0m 20ms/step\n",
      "\u001b[1m18/18\u001b[0m \u001b[32m━━━━━━━━━━━━━━━━━━━━\u001b[0m\u001b[37m\u001b[0m \u001b[1m0s\u001b[0m 16ms/step\n",
      "F1-score1: 0.9639\n",
      "F1-score2: 0.9680\n",
      "F1-score3: 0.9603\n"
     ]
    }
   ],
   "source": [
    "y_pred1 = model1.predict(X_test)\n",
    "y_pred2 = model2.predict(X_test)\n",
    "y_pred3 = model3.predict(X_test)\n",
    "\n",
    "thresholds = np.arange(0, 1.01, 0.01) # từ 0 đến 1 cách biệt là 0.01\n",
    "best_threshold_1 = 0.0\n",
    "best_f1 = 0.0\n",
    "\n",
    "for threshold in thresholds: # tìm ngưỡng phân loại tốt nhất\n",
    "  y_pred_classes = (y_pred1 >= threshold).astype(int)\n",
    "  f1 = f1_score(y_test, y_pred_classes)\n",
    "  if f1 > best_f1:\n",
    "    best_f1 = f1\n",
    "    best_threshold_1 = threshold\n",
    "print(f'F1-score1: {best_f1:.4f}')\n",
    "y_pred1 = (y_pred1 > best_threshold_1).astype(int)\n",
    "\n",
    "best_threshold_2 = 0.0\n",
    "best_f1 = 0.0\n",
    "\n",
    "for threshold in thresholds:\n",
    "  y_pred_classes = (y_pred2 >= threshold).astype(int)\n",
    "  f1 = f1_score(y_test, y_pred_classes)\n",
    "  if f1 > best_f1:\n",
    "    best_f1 = f1\n",
    "    best_threshold_2 = threshold\n",
    "print(f'F1-score2: {best_f1:.4f}')\n",
    "y_pred2 = (y_pred2 > best_threshold_2).astype(int)\n",
    "\n",
    "best_threshold_3 = 0.0\n",
    "best_f1 = 0.0\n",
    "\n",
    "for threshold in thresholds:\n",
    "  y_pred_classes = (y_pred3 >= threshold).astype(int)\n",
    "  f1 = f1_score(y_test, y_pred_classes)\n",
    "  if f1 > best_f1:\n",
    "    best_f1 = f1\n",
    "    best_threshold_3 = threshold\n",
    "print(f'F1-score3: {best_f1:.4f}')\n",
    "y_pred3 = (y_pred3 > best_threshold_3).astype(int)"
   ]
  },
  {
   "cell_type": "code",
   "execution_count": 50,
   "metadata": {
    "execution": {
     "iopub.execute_input": "2024-12-01T14:03:37.036547Z",
     "iopub.status.busy": "2024-12-01T14:03:37.036170Z",
     "iopub.status.idle": "2024-12-01T14:03:37.044860Z",
     "shell.execute_reply": "2024-12-01T14:03:37.043356Z",
     "shell.execute_reply.started": "2024-12-01T14:03:37.036512Z"
    },
    "trusted": true
   },
   "outputs": [],
   "source": [
    "def print_metrics(y_test, y_pred, model_number):\n",
    "    accuracy = accuracy_score(y_test, y_pred)\n",
    "    precision = precision_score(y_test, y_pred)\n",
    "    recall = recall_score(y_test, y_pred)\n",
    "    f1 = f1_score(y_test, y_pred)\n",
    "    \n",
    "    print(f\"Model {model_number} - Metrics:\")\n",
    "    print(f\"Accuracy: {accuracy * 100:.2f}%\")\n",
    "    print(f\"Precision: {precision:.4f}\")\n",
    "    print(f\"Recall: {recall:.4f}\")\n",
    "    print(f\"F1 Score: {f1:.4f}\")\n",
    "    print(\"\\nClassification Report:\")\n",
    "    print(classification_report(y_test, y_pred))\n",
    "    \n",
    "    cm = confusion_matrix(y_test, y_pred)\n",
    "    plt.figure(figsize=(6, 5))\n",
    "    sns.heatmap(cm, annot=True, fmt='d', cmap='Blues', xticklabels=['Class 0', 'Class 1'], yticklabels=['Class 0', 'Class 1'])\n",
    "    plt.title(f'Confusion Matrix - Model {model_number}')\n",
    "    plt.xlabel('Predicted')\n",
    "    plt.ylabel('True')\n",
    "    plt.show()"
   ]
  },
  {
   "cell_type": "code",
   "execution_count": 51,
   "metadata": {
    "execution": {
     "iopub.execute_input": "2024-12-01T14:03:37.046956Z",
     "iopub.status.busy": "2024-12-01T14:03:37.046489Z",
     "iopub.status.idle": "2024-12-01T14:03:37.352648Z",
     "shell.execute_reply": "2024-12-01T14:03:37.351192Z",
     "shell.execute_reply.started": "2024-12-01T14:03:37.046908Z"
    },
    "trusted": true
   },
   "outputs": [
    {
     "name": "stdout",
     "output_type": "stream",
     "text": [
      "Model 1 - Metrics:\n",
      "Accuracy: 96.81%\n",
      "Precision: 0.9600\n",
      "Recall: 0.9677\n",
      "F1 Score: 0.9639\n",
      "\n",
      "Classification Report:\n",
      "              precision    recall  f1-score   support\n",
      "\n",
      "         0.0       0.97      0.97      0.97       317\n",
      "         1.0       0.96      0.97      0.96       248\n",
      "\n",
      "    accuracy                           0.97       565\n",
      "   macro avg       0.97      0.97      0.97       565\n",
      "weighted avg       0.97      0.97      0.97       565\n",
      "\n"
     ]
    },
    {
     "data": {
      "image/png": "[encoded data removed]",
      "text/plain": [
       "<Figure size 600x500 with 2 Axes>"
      ]
     },
     "metadata": {},
     "output_type": "display_data"
    }
   ],
   "source": [
    "print_metrics(y_test, y_pred1, 1)"
   ]
  },
  {
   "cell_type": "code",
   "execution_count": 52,
   "metadata": {
    "execution": {
     "iopub.execute_input": "2024-12-01T14:03:37.355021Z",
     "iopub.status.busy": "2024-12-01T14:03:37.354549Z",
     "iopub.status.idle": "2024-12-01T14:03:37.667869Z",
     "shell.execute_reply": "2024-12-01T14:03:37.666684Z",
     "shell.execute_reply.started": "2024-12-01T14:03:37.354972Z"
    },
    "trusted": true
   },
   "outputs": [
    {
     "name": "stdout",
     "output_type": "stream",
     "text": [
      "Model 2 - Metrics:\n",
      "Accuracy: 97.17%\n",
      "Precision: 0.9603\n",
      "Recall: 0.9758\n",
      "F1 Score: 0.9680\n",
      "\n",
      "Classification Report:\n",
      "              precision    recall  f1-score   support\n",
      "\n",
      "         0.0       0.98      0.97      0.97       317\n",
      "         1.0       0.96      0.98      0.97       248\n",
      "\n",
      "    accuracy                           0.97       565\n",
      "   macro avg       0.97      0.97      0.97       565\n",
      "weighted avg       0.97      0.97      0.97       565\n",
      "\n"
     ]
    },
    {
     "data": {
      "image/png": "[encoded data removed]",
      "text/plain": [
       "<Figure size 600x500 with 2 Axes>"
      ]
     },
     "metadata": {},
     "output_type": "display_data"
    }
   ],
   "source": [
    "print_metrics(y_test, y_pred2, 2)"
   ]
  },
  {
   "cell_type": "code",
   "execution_count": 53,
   "metadata": {
    "execution": {
     "iopub.execute_input": "2024-12-01T14:03:37.669868Z",
     "iopub.status.busy": "2024-12-01T14:03:37.669466Z",
     "iopub.status.idle": "2024-12-01T14:03:37.963781Z",
     "shell.execute_reply": "2024-12-01T14:03:37.962376Z",
     "shell.execute_reply.started": "2024-12-01T14:03:37.669834Z"
    },
    "trusted": true
   },
   "outputs": [
    {
     "name": "stdout",
     "output_type": "stream",
     "text": [
      "Model 3 - Metrics:\n",
      "Accuracy: 96.46%\n",
      "Precision: 0.9453\n",
      "Recall: 0.9758\n",
      "F1 Score: 0.9603\n",
      "\n",
      "Classification Report:\n",
      "              precision    recall  f1-score   support\n",
      "\n",
      "         0.0       0.98      0.96      0.97       317\n",
      "         1.0       0.95      0.98      0.96       248\n",
      "\n",
      "    accuracy                           0.96       565\n",
      "   macro avg       0.96      0.97      0.96       565\n",
      "weighted avg       0.97      0.96      0.96       565\n",
      "\n"
     ]
    },
    {
     "data": {
      "image/png": "[encoded data removed]",
      "text/plain": [
       "<Figure size 600x500 with 2 Axes>"
      ]
     },
     "metadata": {},
     "output_type": "display_data"
    }
   ],
   "source": [
    "print_metrics(y_test, y_pred3, 3)"
   ]
  },
  {
   "cell_type": "code",
   "execution_count": 54,
   "metadata": {
    "execution": {
     "iopub.execute_input": "2024-12-01T14:03:37.965748Z",
     "iopub.status.busy": "2024-12-01T14:03:37.965394Z",
     "iopub.status.idle": "2024-12-01T14:03:57.506350Z",
     "shell.execute_reply": "2024-12-01T14:03:57.505234Z",
     "shell.execute_reply.started": "2024-12-01T14:03:37.965714Z"
    },
    "trusted": true
   },
   "outputs": [
    {
     "name": "stdout",
     "output_type": "stream",
     "text": [
      "\u001b[1m83/83\u001b[0m \u001b[32m━━━━━━━━━━━━━━━━━━━━\u001b[0m\u001b[37m\u001b[0m \u001b[1m1s\u001b[0m 9ms/step\n",
      "\u001b[1m83/83\u001b[0m \u001b[32m━━━━━━━━━━━━━━━━━━━━\u001b[0m\u001b[37m\u001b[0m \u001b[1m1s\u001b[0m 15ms/step\n",
      "\u001b[1m83/83\u001b[0m \u001b[32m━━━━━━━━━━━━━━━━━━━━\u001b[0m\u001b[37m\u001b[0m \u001b[1m1s\u001b[0m 11ms/step\n",
      "\u001b[1m18/18\u001b[0m \u001b[32m━━━━━━━━━━━━━━━━━━━━\u001b[0m\u001b[37m\u001b[0m \u001b[1m0s\u001b[0m 8ms/step\n",
      "\u001b[1m18/18\u001b[0m \u001b[32m━━━━━━━━━━━━━━━━━━━━\u001b[0m\u001b[37m\u001b[0m \u001b[1m0s\u001b[0m 15ms/step\n",
      "\u001b[1m18/18\u001b[0m \u001b[32m━━━━━━━━━━━━━━━━━━━━\u001b[0m\u001b[37m\u001b[0m \u001b[1m0s\u001b[0m 11ms/step\n",
      "\u001b[1m18/18\u001b[0m \u001b[32m━━━━━━━━━━━━━━━━━━━━\u001b[0m\u001b[37m\u001b[0m \u001b[1m0s\u001b[0m 8ms/step\n",
      "\u001b[1m18/18\u001b[0m \u001b[32m━━━━━━━━━━━━━━━━━━━━\u001b[0m\u001b[37m\u001b[0m \u001b[1m0s\u001b[0m 15ms/step\n",
      "\u001b[1m18/18\u001b[0m \u001b[32m━━━━━━━━━━━━━━━━━━━━\u001b[0m\u001b[37m\u001b[0m \u001b[1m0s\u001b[0m 11ms/step\n",
      "\u001b[1m18/18\u001b[0m \u001b[32m━━━━━━━━━━━━━━━━━━━━\u001b[0m\u001b[37m\u001b[0m \u001b[1m0s\u001b[0m 8ms/step\n",
      "\u001b[1m18/18\u001b[0m \u001b[32m━━━━━━━━━━━━━━━━━━━━\u001b[0m\u001b[37m\u001b[0m \u001b[1m0s\u001b[0m 15ms/step\n",
      "\u001b[1m18/18\u001b[0m \u001b[32m━━━━━━━━━━━━━━━━━━━━\u001b[0m\u001b[37m\u001b[0m \u001b[1m0s\u001b[0m 11ms/step\n",
      "\u001b[1m18/18\u001b[0m \u001b[32m━━━━━━━━━━━━━━━━━━━━\u001b[0m\u001b[37m\u001b[0m \u001b[1m0s\u001b[0m 8ms/step\n",
      "\u001b[1m18/18\u001b[0m \u001b[32m━━━━━━━━━━━━━━━━━━━━\u001b[0m\u001b[37m\u001b[0m \u001b[1m0s\u001b[0m 15ms/step\n",
      "\u001b[1m18/18\u001b[0m \u001b[32m━━━━━━━━━━━━━━━━━━━━\u001b[0m\u001b[37m\u001b[0m \u001b[1m0s\u001b[0m 11ms/step\n",
      "\u001b[1m18/18\u001b[0m \u001b[32m━━━━━━━━━━━━━━━━━━━━\u001b[0m\u001b[37m\u001b[0m \u001b[1m0s\u001b[0m 8ms/step\n",
      "\u001b[1m18/18\u001b[0m \u001b[32m━━━━━━━━━━━━━━━━━━━━\u001b[0m\u001b[37m\u001b[0m \u001b[1m0s\u001b[0m 15ms/step\n",
      "\u001b[1m18/18\u001b[0m \u001b[32m━━━━━━━━━━━━━━━━━━━━\u001b[0m\u001b[37m\u001b[0m \u001b[1m0s\u001b[0m 11ms/step\n",
      "\u001b[1m18/18\u001b[0m \u001b[32m━━━━━━━━━━━━━━━━━━━━\u001b[0m\u001b[37m\u001b[0m \u001b[1m0s\u001b[0m 8ms/step\n",
      "\u001b[1m18/18\u001b[0m \u001b[32m━━━━━━━━━━━━━━━━━━━━\u001b[0m\u001b[37m\u001b[0m \u001b[1m0s\u001b[0m 15ms/step\n",
      "\u001b[1m18/18\u001b[0m \u001b[32m━━━━━━━━━━━━━━━━━━━━\u001b[0m\u001b[37m\u001b[0m \u001b[1m0s\u001b[0m 11ms/step\n",
      "\u001b[1m18/18\u001b[0m \u001b[32m━━━━━━━━━━━━━━━━━━━━\u001b[0m\u001b[37m\u001b[0m \u001b[1m0s\u001b[0m 8ms/step\n",
      "\u001b[1m18/18\u001b[0m \u001b[32m━━━━━━━━━━━━━━━━━━━━\u001b[0m\u001b[37m\u001b[0m \u001b[1m0s\u001b[0m 15ms/step\n",
      "\u001b[1m18/18\u001b[0m \u001b[32m━━━━━━━━━━━━━━━━━━━━\u001b[0m\u001b[37m\u001b[0m \u001b[1m0s\u001b[0m 11ms/step\n",
      "\u001b[1m18/18\u001b[0m \u001b[32m━━━━━━━━━━━━━━━━━━━━\u001b[0m\u001b[37m\u001b[0m \u001b[1m0s\u001b[0m 8ms/step\n",
      "\u001b[1m18/18\u001b[0m \u001b[32m━━━━━━━━━━━━━━━━━━━━\u001b[0m\u001b[37m\u001b[0m \u001b[1m0s\u001b[0m 15ms/step\n",
      "\u001b[1m18/18\u001b[0m \u001b[32m━━━━━━━━━━━━━━━━━━━━\u001b[0m\u001b[37m\u001b[0m \u001b[1m0s\u001b[0m 11ms/step\n",
      "\u001b[1m18/18\u001b[0m \u001b[32m━━━━━━━━━━━━━━━━━━━━\u001b[0m\u001b[37m\u001b[0m \u001b[1m0s\u001b[0m 8ms/step\n",
      "\u001b[1m18/18\u001b[0m \u001b[32m━━━━━━━━━━━━━━━━━━━━\u001b[0m\u001b[37m\u001b[0m \u001b[1m0s\u001b[0m 15ms/step\n",
      "\u001b[1m18/18\u001b[0m \u001b[32m━━━━━━━━━━━━━━━━━━━━\u001b[0m\u001b[37m\u001b[0m \u001b[1m0s\u001b[0m 13ms/step\n",
      "\u001b[1m18/18\u001b[0m \u001b[32m━━━━━━━━━━━━━━━━━━━━\u001b[0m\u001b[37m\u001b[0m \u001b[1m0s\u001b[0m 8ms/step\n",
      "\u001b[1m18/18\u001b[0m \u001b[32m━━━━━━━━━━━━━━━━━━━━\u001b[0m\u001b[37m\u001b[0m \u001b[1m0s\u001b[0m 16ms/step\n",
      "\u001b[1m18/18\u001b[0m \u001b[32m━━━━━━━━━━━━━━━━━━━━\u001b[0m\u001b[37m\u001b[0m \u001b[1m0s\u001b[0m 12ms/step\n",
      "\u001b[1m18/18\u001b[0m \u001b[32m━━━━━━━━━━━━━━━━━━━━\u001b[0m\u001b[37m\u001b[0m \u001b[1m0s\u001b[0m 8ms/step\n",
      "\u001b[1m18/18\u001b[0m \u001b[32m━━━━━━━━━━━━━━━━━━━━\u001b[0m\u001b[37m\u001b[0m \u001b[1m0s\u001b[0m 15ms/step\n",
      "\u001b[1m18/18\u001b[0m \u001b[32m━━━━━━━━━━━━━━━━━━━━\u001b[0m\u001b[37m\u001b[0m \u001b[1m0s\u001b[0m 11ms/step\n",
      "\u001b[1m18/18\u001b[0m \u001b[32m━━━━━━━━━━━━━━━━━━━━\u001b[0m\u001b[37m\u001b[0m \u001b[1m0s\u001b[0m 8ms/step\n",
      "\u001b[1m18/18\u001b[0m \u001b[32m━━━━━━━━━━━━━━━━━━━━\u001b[0m\u001b[37m\u001b[0m \u001b[1m0s\u001b[0m 15ms/step\n",
      "\u001b[1m18/18\u001b[0m \u001b[32m━━━━━━━━━━━━━━━━━━━━\u001b[0m\u001b[37m\u001b[0m \u001b[1m0s\u001b[0m 11ms/step\n",
      "\u001b[1m18/18\u001b[0m \u001b[32m━━━━━━━━━━━━━━━━━━━━\u001b[0m\u001b[37m\u001b[0m \u001b[1m0s\u001b[0m 8ms/step\n",
      "\u001b[1m18/18\u001b[0m \u001b[32m━━━━━━━━━━━━━━━━━━━━\u001b[0m\u001b[37m\u001b[0m \u001b[1m0s\u001b[0m 15ms/step\n",
      "\u001b[1m18/18\u001b[0m \u001b[32m━━━━━━━━━━━━━━━━━━━━\u001b[0m\u001b[37m\u001b[0m \u001b[1m0s\u001b[0m 11ms/step\n",
      "\u001b[1m18/18\u001b[0m \u001b[32m━━━━━━━━━━━━━━━━━━━━\u001b[0m\u001b[37m\u001b[0m \u001b[1m0s\u001b[0m 8ms/step\n",
      "\u001b[1m18/18\u001b[0m \u001b[32m━━━━━━━━━━━━━━━━━━━━\u001b[0m\u001b[37m\u001b[0m \u001b[1m0s\u001b[0m 15ms/step\n",
      "\u001b[1m18/18\u001b[0m \u001b[32m━━━━━━━━━━━━━━━━━━━━\u001b[0m\u001b[37m\u001b[0m \u001b[1m0s\u001b[0m 11ms/step\n",
      "\u001b[1m18/18\u001b[0m \u001b[32m━━━━━━━━━━━━━━━━━━━━\u001b[0m\u001b[37m\u001b[0m \u001b[1m0s\u001b[0m 8ms/step\n",
      "\u001b[1m18/18\u001b[0m \u001b[32m━━━━━━━━━━━━━━━━━━━━\u001b[0m\u001b[37m\u001b[0m \u001b[1m0s\u001b[0m 15ms/step\n",
      "\u001b[1m18/18\u001b[0m \u001b[32m━━━━━━━━━━━━━━━━━━━━\u001b[0m\u001b[37m\u001b[0m \u001b[1m0s\u001b[0m 11ms/step\n",
      "\u001b[1m18/18\u001b[0m \u001b[32m━━━━━━━━━━━━━━━━━━━━\u001b[0m\u001b[37m\u001b[0m \u001b[1m0s\u001b[0m 8ms/step\n",
      "\u001b[1m18/18\u001b[0m \u001b[32m━━━━━━━━━━━━━━━━━━━━\u001b[0m\u001b[37m\u001b[0m \u001b[1m0s\u001b[0m 15ms/step\n",
      "\u001b[1m18/18\u001b[0m \u001b[32m━━━━━━━━━━━━━━━━━━━━\u001b[0m\u001b[37m\u001b[0m \u001b[1m0s\u001b[0m 11ms/step\n",
      "\u001b[1m18/18\u001b[0m \u001b[32m━━━━━━━━━━━━━━━━━━━━\u001b[0m\u001b[37m\u001b[0m \u001b[1m0s\u001b[0m 8ms/step\n",
      "\u001b[1m18/18\u001b[0m \u001b[32m━━━━━━━━━━━━━━━━━━━━\u001b[0m\u001b[37m\u001b[0m \u001b[1m0s\u001b[0m 15ms/step\n",
      "\u001b[1m18/18\u001b[0m \u001b[32m━━━━━━━━━━━━━━━━━━━━\u001b[0m\u001b[37m\u001b[0m \u001b[1m0s\u001b[0m 11ms/step\n",
      "\u001b[1m18/18\u001b[0m \u001b[32m━━━━━━━━━━━━━━━━━━━━\u001b[0m\u001b[37m\u001b[0m \u001b[1m0s\u001b[0m 8ms/step\n",
      "\u001b[1m18/18\u001b[0m \u001b[32m━━━━━━━━━━━━━━━━━━━━\u001b[0m\u001b[37m\u001b[0m \u001b[1m0s\u001b[0m 15ms/step\n",
      "\u001b[1m18/18\u001b[0m \u001b[32m━━━━━━━━━━━━━━━━━━━━\u001b[0m\u001b[37m\u001b[0m \u001b[1m0s\u001b[0m 11ms/step\n",
      "Best Hyperparameters: {'C': 0.1, 'gamma': 'scale'}\n",
      "Best F1-score (Ensemble SVM on Validation): 0.9562\n",
      "\u001b[1m18/18\u001b[0m \u001b[32m━━━━━━━━━━━━━━━━━━━━\u001b[0m\u001b[37m\u001b[0m \u001b[1m0s\u001b[0m 8ms/step\n",
      "\u001b[1m18/18\u001b[0m \u001b[32m━━━━━━━━━━━━━━━━━━━━\u001b[0m\u001b[37m\u001b[0m \u001b[1m0s\u001b[0m 15ms/step\n",
      "\u001b[1m18/18\u001b[0m \u001b[32m━━━━━━━━━━━━━━━━━━━━\u001b[0m\u001b[37m\u001b[0m \u001b[1m0s\u001b[0m 11ms/step\n",
      "Ensemble F1-score (SVM on Test Set): 0.9661\n",
      "Ensemble Accuracy (SVM on Test Set): 0.9699\n",
      "Ensemble Precision (SVM on Test Set): 0.9565\n",
      "Ensemble Recall (SVM on Test Set): 0.9758\n"
     ]
    }
   ],
   "source": [
    "y_pred1_prob = model1.predict(X_train).flatten()  \n",
    "y_pred2_prob = model2.predict(X_train).flatten()  \n",
    "y_pred3_prob = model3.predict(X_train).flatten()  \n",
    "\n",
    "y_pred_probs_train = np.column_stack((y_pred1_prob, y_pred2_prob, y_pred3_prob))\n",
    "\n",
    "C_values = [0.1, 0.5, 1, 2, 5, 10, 15, 20, 50]\n",
    "gamma_values = ['scale', 'auto']\n",
    "\n",
    "best_f1 = 0\n",
    "best_params = {}\n",
    "\n",
    "for C in C_values:\n",
    "    for gamma in gamma_values:\n",
    "        ensemble_model_svm = SVC(kernel='rbf', C=C, gamma=gamma, probability=True, random_state=42)\n",
    "        ensemble_model_svm.fit(y_pred_probs_train, y_train)\n",
    "\n",
    "        y_pred1_prob_val = model1.predict(X_val).flatten()  \n",
    "        y_pred2_prob_val = model2.predict(X_val).flatten()  \n",
    "        y_pred3_prob_val = model3.predict(X_val).flatten()\n",
    "\n",
    "        y_pred_probs_val = np.column_stack((y_pred1_prob_val, y_pred2_prob_val, y_pred3_prob_val))\n",
    "\n",
    "        y_pred_ensemble_svm = ensemble_model_svm.predict(y_pred_probs_val)\n",
    "\n",
    "        f1_ensemble_svm = f1_score(y_val, y_pred_ensemble_svm)\n",
    "\n",
    "        if f1_ensemble_svm > best_f1:\n",
    "            best_f1 = f1_ensemble_svm\n",
    "            best_params = {'C': C, 'gamma': gamma}\n",
    "\n",
    "print(f\"Best Hyperparameters: {best_params}\")\n",
    "print(f\"Best F1-score (Ensemble SVM on Validation): {best_f1:.4f}\")\n",
    "\n",
    "ensemble_model_svm = SVC(kernel='rbf', C=best_params['C'], gamma=best_params['gamma'], probability=True, random_state=42)\n",
    "ensemble_model_svm.fit(y_pred_probs_train, y_train)\n",
    "\n",
    "y_pred1_prob_test = model1.predict(X_test).flatten() \n",
    "y_pred2_prob_test = model2.predict(X_test).flatten()  \n",
    "y_pred3_prob_test = model3.predict(X_test).flatten()\n",
    "\n",
    "y_pred_probs_test = np.column_stack((y_pred1_prob_test, y_pred2_prob_test, y_pred3_prob_test))\n",
    "\n",
    "y_pred_ensemble_svm = ensemble_model_svm.predict(y_pred_probs_test)\n",
    "\n",
    "f1_ensemble_svm_test = f1_score(y_test, y_pred_ensemble_svm)\n",
    "accuracy_ensemble_svm_test = accuracy_score(y_test, y_pred_ensemble_svm)\n",
    "precision_ensemble_svm_test = precision_score(y_test, y_pred_ensemble_svm)\n",
    "recall_ensemble_svm_test = recall_score(y_test, y_pred_ensemble_svm)\n",
    "\n",
    "print(f'Ensemble F1-score (SVM on Test Set): {f1_ensemble_svm_test:.4f}')\n",
    "print(f'Ensemble Accuracy (SVM on Test Set): {accuracy_ensemble_svm_test:.4f}')\n",
    "print(f'Ensemble Precision (SVM on Test Set): {precision_ensemble_svm_test:.4f}')\n",
    "print(f'Ensemble Recall (SVM on Test Set): {recall_ensemble_svm_test:.4f}')"
   ]
  },
  {
   "cell_type": "code",
   "execution_count": 55,
   "metadata": {
    "execution": {
     "iopub.execute_input": "2024-12-01T14:03:57.511079Z",
     "iopub.status.busy": "2024-12-01T14:03:57.510751Z",
     "iopub.status.idle": "2024-12-01T14:03:57.789485Z",
     "shell.execute_reply": "2024-12-01T14:03:57.788413Z",
     "shell.execute_reply.started": "2024-12-01T14:03:57.511049Z"
    },
    "trusted": true
   },
   "outputs": [
    {
     "data": {
      "image/png": "[encoded data removed]",
      "text/plain": [
       "<Figure size 600x600 with 2 Axes>"
      ]
     },
     "metadata": {},
     "output_type": "display_data"
    }
   ],
   "source": [
    "cm = confusion_matrix(y_test, y_pred_ensemble_svm)\n",
    "\n",
    "plt.figure(figsize=(6, 6))\n",
    "sns.heatmap(cm, annot=True, fmt=\"d\", cmap=\"Blues\", xticklabels=[\"Class 0\", \"Class 1\"], yticklabels=[\"Class 0\", \"Class 1\"])\n",
    "plt.xlabel('Predicted')\n",
    "plt.ylabel('True')\n",
    "plt.title('Confusion Matrix - Ensemble SVM (Test Set)')\n",
    "plt.show()"
   ]
  },
  {
   "cell_type": "code",
   "execution_count": 65,
   "metadata": {
    "execution": {
     "iopub.execute_input": "2024-12-01T14:05:01.875777Z",
     "iopub.status.busy": "2024-12-01T14:05:01.875339Z",
     "iopub.status.idle": "2024-12-01T14:05:02.824189Z",
     "shell.execute_reply": "2024-12-01T14:05:02.823025Z",
     "shell.execute_reply.started": "2024-12-01T14:05:01.875739Z"
    },
    "trusted": true
   },
   "outputs": [
    {
     "data": {
      "text/plain": [
       "['/kaggle/working/svm.pkl']"
      ]
     },
     "execution_count": 65,
     "metadata": {},
     "output_type": "execute_result"
    }
   ],
   "source": [
    "import joblib\n",
    "import torch\n",
    "\n",
    "joblib.dump(model1, '/kaggle/working/model1.pkl')\n",
    "joblib.dump(model2, '/kaggle/working/model2.pkl')\n",
    "joblib.dump(model3, '/kaggle/working/model3.pkl')\n",
    "joblib.dump(ensemble_model_svm, '/kaggle/working/ensemble_model_svm.pkl')\n",
    "joblib.dump(pca_model, '/kaggle/working/pca_model.pkl')\n",
    "joblib.dump(scaler, '/kaggle/working/scaler.pkl')\n",
    "joblib.dump(best_model, '/kaggle/working/svm.pkl')"
   ]
  }
 ],
 "metadata": {
  "kaggle": {
   "accelerator": "none",
   "dataSources": [
    {
     "datasetId": 6156537,
     "sourceId": 10001939,
     "sourceType": "datasetVersion"
    },
    {
     "datasetId": 6158688,
     "sourceId": 10005043,
     "sourceType": "datasetVersion"
    },
    {
     "datasetId": 6158722,
     "sourceId": 10005081,
     "sourceType": "datasetVersion"
    }
   ],
   "dockerImageVersionId": 30786,
   "isGpuEnabled": false,
   "isInternetEnabled": true,
   "language": "python",
   "sourceType": "notebook"
  },
  "kernelspec": {
   "display_name": "Python 3",
   "language": "python",
   "name": "python3"
  },
  "language_info": {
   "codemirror_mode": {
    "name": "ipython",
    "version": 3
   },
   "file_extension": ".py",
   "mimetype": "text/x-python",
   "name": "python",
   "nbconvert_exporter": "python",
   "pygments_lexer": "ipython3",
   "version": "3.10.14"
  }
 },
 "nbformat": 4,
 "nbformat_minor": 4
}

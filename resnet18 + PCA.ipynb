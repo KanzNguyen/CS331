{
 "cells": [
  {
   "cell_type": "code",
   "execution_count": 3,
   "metadata": {
    "_cell_guid": "b1076dfc-b9ad-4769-8c92-a6c4dae69d19",
    "_uuid": "8f2839f25d086af736a60e9eeb907d3b93b6e0e5",
    "execution": {
     "iopub.execute_input": "2024-11-30T18:11:07.796640Z",
     "iopub.status.busy": "2024-11-30T18:11:07.796240Z",
     "iopub.status.idle": "2024-11-30T18:11:32.875914Z",
     "shell.execute_reply": "2024-11-30T18:11:32.874762Z",
     "shell.execute_reply.started": "2024-11-30T18:11:07.796607Z"
    },
    "trusted": true
   },
   "outputs": [],
   "source": [
    "import cv2\n",
    "from PIL import Image\n",
    "import numpy as np\n",
    "import pandas as pd\n",
    "import matplotlib.pyplot as plt\n",
    "import matplotlib.image as mpimg\n",
    "import os\n",
    "from sklearn.metrics import accuracy_score, confusion_matrix, classification_report, ConfusionMatrixDisplay, f1_score\n",
    "import joblib\n",
    "import torch\n",
    "import torch.nn as nn\n",
    "from torchvision.transforms import Resize, ToTensor, Compose, Normalize, transforms\n",
    "from torchvision.models import resnet18\n",
    "from tqdm import tqdm\n",
    "from torchvision import transforms\n",
    "from sklearn.decomposition import PCA\n",
    "from sklearn.model_selection import train_test_split\n",
    "from sklearn.metrics import accuracy_score, classification_report\n",
    "from sklearn.svm import SVC\n",
    "from os import listdir\n",
    "from keras.models import Sequential\n",
    "from keras.layers import Conv1D, MaxPooling1D, Flatten, Dense, Dropout\n",
    "from keras.layers import Reshape\n",
    "from keras.layers import Input, Dense, concatenate\n",
    "from keras.models import Model\n",
    "from collections import defaultdict\n",
    "from xgboost import XGBClassifier\n",
    "from sklearn.utils import resample\n",
    "from sklearn.preprocessing import StandardScaler\n",
    "from torchvision.models import mobilenet_v3_large\n",
    "from sklearn.metrics import precision_score, recall_score\n",
    "import seaborn as sns"
   ]
  },
  {
   "cell_type": "code",
   "execution_count": 4,
   "metadata": {
    "execution": {
     "iopub.execute_input": "2024-11-30T18:11:32.879033Z",
     "iopub.status.busy": "2024-11-30T18:11:32.878217Z",
     "iopub.status.idle": "2024-11-30T18:11:32.886288Z",
     "shell.execute_reply": "2024-11-30T18:11:32.884858Z",
     "shell.execute_reply.started": "2024-11-30T18:11:32.878977Z"
    },
    "trusted": true
   },
   "outputs": [
    {
     "name": "stdout",
     "output_type": "stream",
     "text": [
      "Available models in torchvision.models:\n"
     ]
    }
   ],
   "source": [
    "import torchvision.models as models\n",
    "\n",
    "all_models = dir(models)\n",
    "model_names = [model for model in all_models if callable(getattr(models, model))]\n",
    "print(\"Available models in torchvision.models:\")\n",
    "#for name in model_names:\n",
    "#    print(name)"
   ]
  },
  {
   "cell_type": "code",
   "execution_count": 5,
   "metadata": {
    "execution": {
     "iopub.execute_input": "2024-11-30T18:11:32.888820Z",
     "iopub.status.busy": "2024-11-30T18:11:32.888236Z",
     "iopub.status.idle": "2024-11-30T18:11:32.989859Z",
     "shell.execute_reply": "2024-11-30T18:11:32.988655Z",
     "shell.execute_reply.started": "2024-11-30T18:11:32.888757Z"
    },
    "trusted": true
   },
   "outputs": [
    {
     "data": {
      "text/html": [
       "<div>\n",
       "<style scoped>\n",
       "    .dataframe tbody tr th:only-of-type {\n",
       "        vertical-align: middle;\n",
       "    }\n",
       "\n",
       "    .dataframe tbody tr th {\n",
       "        vertical-align: top;\n",
       "    }\n",
       "\n",
       "    .dataframe thead th {\n",
       "        text-align: right;\n",
       "    }\n",
       "</style>\n",
       "<table border=\"1\" class=\"dataframe\">\n",
       "  <thead>\n",
       "    <tr style=\"text-align: right;\">\n",
       "      <th></th>\n",
       "      <th>Image</th>\n",
       "      <th>Class</th>\n",
       "      <th>Mean</th>\n",
       "      <th>Variance</th>\n",
       "      <th>Standard Deviation</th>\n",
       "      <th>Entropy</th>\n",
       "      <th>Skewness</th>\n",
       "      <th>Kurtosis</th>\n",
       "      <th>Contrast</th>\n",
       "      <th>Energy</th>\n",
       "      <th>ASM</th>\n",
       "      <th>Homogeneity</th>\n",
       "      <th>Dissimilarity</th>\n",
       "      <th>Correlation</th>\n",
       "      <th>Coarseness</th>\n",
       "    </tr>\n",
       "  </thead>\n",
       "  <tbody>\n",
       "    <tr>\n",
       "      <th>0</th>\n",
       "      <td>Image1</td>\n",
       "      <td>0</td>\n",
       "      <td>6.535339</td>\n",
       "      <td>619.587845</td>\n",
       "      <td>24.891522</td>\n",
       "      <td>0.109059</td>\n",
       "      <td>4.276477</td>\n",
       "      <td>18.900575</td>\n",
       "      <td>98.613971</td>\n",
       "      <td>0.293314</td>\n",
       "      <td>0.086033</td>\n",
       "      <td>0.530941</td>\n",
       "      <td>4.473346</td>\n",
       "      <td>0.981939</td>\n",
       "      <td>7.458341e-155</td>\n",
       "    </tr>\n",
       "    <tr>\n",
       "      <th>1</th>\n",
       "      <td>Image2</td>\n",
       "      <td>0</td>\n",
       "      <td>8.749969</td>\n",
       "      <td>805.957634</td>\n",
       "      <td>28.389393</td>\n",
       "      <td>0.266538</td>\n",
       "      <td>3.718116</td>\n",
       "      <td>14.464618</td>\n",
       "      <td>63.858816</td>\n",
       "      <td>0.475051</td>\n",
       "      <td>0.225674</td>\n",
       "      <td>0.651352</td>\n",
       "      <td>3.220072</td>\n",
       "      <td>0.988834</td>\n",
       "      <td>7.458341e-155</td>\n",
       "    </tr>\n",
       "    <tr>\n",
       "      <th>2</th>\n",
       "      <td>Image3</td>\n",
       "      <td>1</td>\n",
       "      <td>7.341095</td>\n",
       "      <td>1143.808219</td>\n",
       "      <td>33.820234</td>\n",
       "      <td>0.001467</td>\n",
       "      <td>5.061750</td>\n",
       "      <td>26.479563</td>\n",
       "      <td>81.867206</td>\n",
       "      <td>0.031917</td>\n",
       "      <td>0.001019</td>\n",
       "      <td>0.268275</td>\n",
       "      <td>5.981800</td>\n",
       "      <td>0.978014</td>\n",
       "      <td>7.458341e-155</td>\n",
       "    </tr>\n",
       "    <tr>\n",
       "      <th>3</th>\n",
       "      <td>Image4</td>\n",
       "      <td>1</td>\n",
       "      <td>5.958145</td>\n",
       "      <td>959.711985</td>\n",
       "      <td>30.979219</td>\n",
       "      <td>0.001477</td>\n",
       "      <td>5.677977</td>\n",
       "      <td>33.428845</td>\n",
       "      <td>151.229741</td>\n",
       "      <td>0.032024</td>\n",
       "      <td>0.001026</td>\n",
       "      <td>0.243851</td>\n",
       "      <td>7.700919</td>\n",
       "      <td>0.964189</td>\n",
       "      <td>7.458341e-155</td>\n",
       "    </tr>\n",
       "    <tr>\n",
       "      <th>4</th>\n",
       "      <td>Image5</td>\n",
       "      <td>0</td>\n",
       "      <td>7.315231</td>\n",
       "      <td>729.540579</td>\n",
       "      <td>27.010009</td>\n",
       "      <td>0.146761</td>\n",
       "      <td>4.283221</td>\n",
       "      <td>19.079108</td>\n",
       "      <td>174.988756</td>\n",
       "      <td>0.343849</td>\n",
       "      <td>0.118232</td>\n",
       "      <td>0.501140</td>\n",
       "      <td>6.834689</td>\n",
       "      <td>0.972789</td>\n",
       "      <td>7.458341e-155</td>\n",
       "    </tr>\n",
       "  </tbody>\n",
       "</table>\n",
       "</div>"
      ],
      "text/plain": [
       "    Image  Class      Mean     Variance  Standard Deviation   Entropy  \\\n",
       "0  Image1      0  6.535339   619.587845           24.891522  0.109059   \n",
       "1  Image2      0  8.749969   805.957634           28.389393  0.266538   \n",
       "2  Image3      1  7.341095  1143.808219           33.820234  0.001467   \n",
       "3  Image4      1  5.958145   959.711985           30.979219  0.001477   \n",
       "4  Image5      0  7.315231   729.540579           27.010009  0.146761   \n",
       "\n",
       "   Skewness   Kurtosis    Contrast    Energy       ASM  Homogeneity  \\\n",
       "0  4.276477  18.900575   98.613971  0.293314  0.086033     0.530941   \n",
       "1  3.718116  14.464618   63.858816  0.475051  0.225674     0.651352   \n",
       "2  5.061750  26.479563   81.867206  0.031917  0.001019     0.268275   \n",
       "3  5.677977  33.428845  151.229741  0.032024  0.001026     0.243851   \n",
       "4  4.283221  19.079108  174.988756  0.343849  0.118232     0.501140   \n",
       "\n",
       "   Dissimilarity  Correlation     Coarseness  \n",
       "0       4.473346     0.981939  7.458341e-155  \n",
       "1       3.220072     0.988834  7.458341e-155  \n",
       "2       5.981800     0.978014  7.458341e-155  \n",
       "3       7.700919     0.964189  7.458341e-155  \n",
       "4       6.834689     0.972789  7.458341e-155  "
      ]
     },
     "execution_count": 5,
     "metadata": {},
     "output_type": "execute_result"
    }
   ],
   "source": [
    "data = pd.read_csv(\"/kaggle/input/brain-tumor-csv/Brain Tumor.csv\")\n",
    "data.head()"
   ]
  },
  {
   "cell_type": "code",
   "execution_count": 6,
   "metadata": {
    "execution": {
     "iopub.execute_input": "2024-11-30T18:11:32.992597Z",
     "iopub.status.busy": "2024-11-30T18:11:32.992187Z",
     "iopub.status.idle": "2024-11-30T18:11:33.006585Z",
     "shell.execute_reply": "2024-11-30T18:11:33.005333Z",
     "shell.execute_reply.started": "2024-11-30T18:11:32.992561Z"
    },
    "trusted": true
   },
   "outputs": [],
   "source": [
    "images = data.Image\n",
    "classes = data.Class\n",
    "image_label_dict = data.set_index('Image')['Class'].to_dict()\n",
    "#print(image_label_dict)"
   ]
  },
  {
   "cell_type": "code",
   "execution_count": 7,
   "metadata": {
    "execution": {
     "iopub.execute_input": "2024-11-30T18:11:33.008424Z",
     "iopub.status.busy": "2024-11-30T18:11:33.008033Z",
     "iopub.status.idle": "2024-11-30T18:11:33.024851Z",
     "shell.execute_reply": "2024-11-30T18:11:33.023647Z",
     "shell.execute_reply.started": "2024-11-30T18:11:33.008388Z"
    },
    "trusted": true
   },
   "outputs": [
    {
     "name": "stdout",
     "output_type": "stream",
     "text": [
      "cpu\n"
     ]
    }
   ],
   "source": [
    "device = torch.device(\"cuda\" if torch.cuda.is_available() else \"cpu\")\n",
    "print(device)"
   ]
  },
  {
   "cell_type": "code",
   "execution_count": 8,
   "metadata": {
    "execution": {
     "iopub.execute_input": "2024-11-30T18:11:38.059194Z",
     "iopub.status.busy": "2024-11-30T18:11:38.058768Z",
     "iopub.status.idle": "2024-11-30T18:11:38.070235Z",
     "shell.execute_reply": "2024-11-30T18:11:38.067979Z",
     "shell.execute_reply.started": "2024-11-30T18:11:38.059156Z"
    },
    "trusted": true
   },
   "outputs": [],
   "source": [
    "def preprocess_image(image_path):\n",
    "  image = Image.open(image_path).convert('RGB')\n",
    "  transform = transforms.Compose([\n",
    "      transforms.Resize((224, 224)),\n",
    "      transforms.ToTensor(),\n",
    "      transforms.Normalize(mean=[0.485, 0.456, 0.406], std=[0.229, 0.224, 0.225])\n",
    "  ])\n",
    "  image = transform(image)\n",
    "  image = image.unsqueeze(0)\n",
    "  return image.to(device)\n",
    "def extract_features(image, model):\n",
    "  with torch.no_grad():\n",
    "    feature = model(image).squeeze().cpu().numpy()\n",
    "  return feature\n",
    "def extract_features_from_image(image_path, model):\n",
    "  image = preprocess_image(image_path)\n",
    "  features = extract_features(image, model)\n",
    "  return features\n",
    "def preprocess_image_pca(image_path):\n",
    "    image = Image.open(image_path).convert('RGB')\n",
    "    transform = transforms.Compose([\n",
    "        transforms.Resize((224, 224)),\n",
    "        transforms.ToTensor(),\n",
    "    ])\n",
    "    image = transform(image)\n",
    "    image = image.numpy().flatten()\n",
    "    return image"
   ]
  },
  {
   "cell_type": "markdown",
   "metadata": {},
   "source": [
    "**ResNet 18**"
   ]
  },
  {
   "cell_type": "code",
   "execution_count": 9,
   "metadata": {
    "execution": {
     "iopub.execute_input": "2024-11-30T18:11:40.599004Z",
     "iopub.status.busy": "2024-11-30T18:11:40.598581Z",
     "iopub.status.idle": "2024-11-30T18:16:09.720669Z",
     "shell.execute_reply": "2024-11-30T18:16:09.719519Z",
     "shell.execute_reply.started": "2024-11-30T18:11:40.598965Z"
    },
    "trusted": true
   },
   "outputs": [
    {
     "name": "stderr",
     "output_type": "stream",
     "text": [
      "/opt/conda/lib/python3.10/site-packages/torchvision/models/_utils.py:208: UserWarning: The parameter 'pretrained' is deprecated since 0.13 and may be removed in the future, please use 'weights' instead.\n",
      "  warnings.warn(\n",
      "/opt/conda/lib/python3.10/site-packages/torchvision/models/_utils.py:223: UserWarning: Arguments other than a weight enum or `None` for 'weights' are deprecated since 0.13 and may be removed in the future. The current behavior is equivalent to passing `weights=ResNet18_Weights.IMAGENET1K_V1`. You can also use `weights=ResNet18_Weights.DEFAULT` to get the most up-to-date weights.\n",
      "  warnings.warn(msg)\n",
      "Downloading: \"https://download.pytorch.org/models/resnet18-f37072fd.pth\" to /root/.cache/torch/hub/checkpoints/resnet18-f37072fd.pth\n",
      "100%|██████████| 44.7M/44.7M [00:00<00:00, 99.8MB/s]\n",
      "100%|██████████| 3762/3762 [04:27<00:00, 14.09it/s]\n"
     ]
    }
   ],
   "source": [
    "resnet18_model = resnet18(pretrained=True)\n",
    "resnet18_model = nn.Sequential(*list(resnet18_model.children())[:-1])\n",
    "resnet18_model = resnet18_model.to(device)\n",
    "resnet18_model.eval()\n",
    "\n",
    "dir_list = '/kaggle/input/reloaded-crop/Crop/'\n",
    "X_resnet = []\n",
    "X_pca_orig = []\n",
    "Y = []\n",
    "filename_list = []\n",
    "\n",
    "for filename in tqdm(listdir(dir_list)):\n",
    "  if filename.endswith('.jpg'):\n",
    "    #print(filename)\n",
    "    filename_list.append(filename)\n",
    "    path = dir_list + filename\n",
    "    label = image_label_dict.get(filename.split('.')[0], None)\n",
    "    if label is not None:\n",
    "      features = extract_features_from_image(path, resnet18_model)\n",
    "      X_resnet.append(features)\n",
    "      feature_pca = preprocess_image_pca(path)\n",
    "      X_pca_orig.append(feature_pca)\n",
    "      Y.append(label)\n",
    "X_resnet = np.array(X_resnet)\n",
    "X_pca_orig = np.array(X_pca_orig)\n",
    "Y = np.array(Y)"
   ]
  },
  {
   "cell_type": "code",
   "execution_count": 10,
   "metadata": {
    "execution": {
     "iopub.execute_input": "2024-11-30T18:16:09.723155Z",
     "iopub.status.busy": "2024-11-30T18:16:09.722732Z",
     "iopub.status.idle": "2024-11-30T18:16:09.729734Z",
     "shell.execute_reply": "2024-11-30T18:16:09.728185Z",
     "shell.execute_reply.started": "2024-11-30T18:16:09.723118Z"
    },
    "trusted": true
   },
   "outputs": [
    {
     "name": "stdout",
     "output_type": "stream",
     "text": [
      "(512,)\n",
      "(150528,)\n"
     ]
    }
   ],
   "source": [
    "print(X_resnet[0].shape)\n",
    "print(X_pca_orig[0].shape)"
   ]
  },
  {
   "cell_type": "code",
   "execution_count": 11,
   "metadata": {
    "execution": {
     "iopub.execute_input": "2024-11-30T18:16:09.731634Z",
     "iopub.status.busy": "2024-11-30T18:16:09.731212Z",
     "iopub.status.idle": "2024-11-30T18:21:33.939278Z",
     "shell.execute_reply": "2024-11-30T18:21:33.937841Z",
     "shell.execute_reply.started": "2024-11-30T18:16:09.731584Z"
    },
    "trusted": true
   },
   "outputs": [
    {
     "name": "stdout",
     "output_type": "stream",
     "text": [
      "(378,)\n"
     ]
    }
   ],
   "source": [
    "n_components = 0.95\n",
    "pca_model = PCA(n_components=n_components, random_state=42)\n",
    "X_pca = pca_model.fit_transform(X_pca_orig)\n",
    "print(X_pca[0].shape)\n",
    "X_pca = np.hstack((X_resnet, X_pca))"
   ]
  },
  {
   "cell_type": "code",
   "execution_count": 12,
   "metadata": {
    "execution": {
     "iopub.execute_input": "2024-11-30T18:21:33.942789Z",
     "iopub.status.busy": "2024-11-30T18:21:33.942292Z",
     "iopub.status.idle": "2024-11-30T18:21:33.949189Z",
     "shell.execute_reply": "2024-11-30T18:21:33.947799Z",
     "shell.execute_reply.started": "2024-11-30T18:21:33.942738Z"
    },
    "trusted": true
   },
   "outputs": [
    {
     "name": "stdout",
     "output_type": "stream",
     "text": [
      "(890,)\n"
     ]
    }
   ],
   "source": [
    "print(X_pca[0].shape)"
   ]
  },
  {
   "cell_type": "code",
   "execution_count": 13,
   "metadata": {
    "execution": {
     "iopub.execute_input": "2024-11-30T18:21:33.951739Z",
     "iopub.status.busy": "2024-11-30T18:21:33.951142Z",
     "iopub.status.idle": "2024-11-30T18:22:41.402891Z",
     "shell.execute_reply": "2024-11-30T18:22:41.401536Z",
     "shell.execute_reply.started": "2024-11-30T18:21:33.951666Z"
    },
    "trusted": true
   },
   "outputs": [
    {
     "name": "stdout",
     "output_type": "stream",
     "text": [
      "Best Hyperparameters: {'C': 2, 'gamma': 'scale'}\n",
      "Validation F1 Score: 0.9511677282377919\n",
      "Test F1 Score: 0.9467213114754097\n",
      "Accuracy: 0.9539823008849557\n",
      "Precision: 0.9625\n",
      "Recall: 0.9314516129032258\n",
      "Classification Report:\n",
      "               precision    recall  f1-score   support\n",
      "\n",
      "           0     0.9477    0.9716    0.9595       317\n",
      "           1     0.9625    0.9315    0.9467       248\n",
      "\n",
      "    accuracy                         0.9540       565\n",
      "   macro avg     0.9551    0.9515    0.9531       565\n",
      "weighted avg     0.9542    0.9540    0.9539       565\n",
      "\n"
     ]
    }
   ],
   "source": [
    "X_train, X_test, y_train, y_test = train_test_split(X_pca, Y, test_size=0.15, random_state=42)\n",
    "X_train, X_val, y_train, y_val = train_test_split(X_train, y_train, test_size=0.1765, random_state=42)\n",
    "\n",
    "scaler = StandardScaler()\n",
    "X_train = scaler.fit_transform(X_train)\n",
    "X_val = scaler.transform(X_val)\n",
    "X_test = scaler.transform(X_test)\n",
    "\n",
    "C_values = [0.1, 0.5, 1, 2, 5, 10, 15, 20, 50]\n",
    "gamma_values = ['scale', 'auto']\n",
    "\n",
    "best_f1 = 0\n",
    "best_params = {}\n",
    "\n",
    "for C in C_values:\n",
    "    for gamma in gamma_values:\n",
    "        svm_model = SVC(kernel='rbf', C=C, gamma=gamma, random_state=42)\n",
    "        svm_model.fit(X_train, y_train)\n",
    "        y_val_pred = svm_model.predict(X_val)\n",
    "        val_f1 = f1_score(y_val, y_val_pred)  \n",
    "        if val_f1 > best_f1:\n",
    "            best_f1 = val_f1\n",
    "            best_params = {'C': C, 'gamma': gamma}\n",
    "\n",
    "best_model = SVC(kernel='rbf', C=best_params['C'], gamma=best_params['gamma'], random_state=42)\n",
    "best_model.fit(X_train, y_train)\n",
    "y_test_pred = best_model.predict(X_test)\n",
    "\n",
    "print(\"Best Hyperparameters:\", best_params)\n",
    "print(\"Validation F1 Score:\", best_f1)\n",
    "print(\"Test F1 Score:\", f1_score(y_test, y_test_pred))\n",
    "print(\"Accuracy:\", accuracy_score(y_test, y_test_pred))\n",
    "print(\"Precision:\", precision_score(y_test, y_test_pred))\n",
    "print(\"Recall:\", recall_score(y_test, y_test_pred))\n",
    "print(\"Classification Report:\\n\", classification_report(y_test, y_test_pred, digits=4))"
   ]
  },
  {
   "cell_type": "code",
   "execution_count": 14,
   "metadata": {
    "execution": {
     "iopub.execute_input": "2024-11-30T18:22:41.405096Z",
     "iopub.status.busy": "2024-11-30T18:22:41.404596Z",
     "iopub.status.idle": "2024-11-30T18:22:41.746274Z",
     "shell.execute_reply": "2024-11-30T18:22:41.744872Z",
     "shell.execute_reply.started": "2024-11-30T18:22:41.405037Z"
    },
    "trusted": true
   },
   "outputs": [
    {
     "data": {
      "image/png": "[encoded data removed]",
      "text/plain": [
       "<Figure size 800x600 with 2 Axes>"
      ]
     },
     "metadata": {},
     "output_type": "display_data"
    }
   ],
   "source": [
    "conf_matrix = confusion_matrix(y_test, y_test_pred)\n",
    "plt.figure(figsize=(8, 6))\n",
    "sns.heatmap(conf_matrix, annot=True, fmt=\"d\", cmap=\"Blues\", xticklabels=np.unique(Y), yticklabels=np.unique(Y))\n",
    "plt.title(\"Confusion Matrix\")\n",
    "plt.xlabel(\"Predicted Labels\")\n",
    "plt.ylabel(\"True Labels\")\n",
    "plt.show()"
   ]
  },
  {
   "cell_type": "code",
   "execution_count": 16,
   "metadata": {
    "execution": {
     "iopub.execute_input": "2024-11-30T18:22:43.496531Z",
     "iopub.status.busy": "2024-11-30T18:22:43.495962Z",
     "iopub.status.idle": "2024-11-30T18:22:43.507854Z",
     "shell.execute_reply": "2024-11-30T18:22:43.505788Z",
     "shell.execute_reply.started": "2024-11-30T18:22:43.496460Z"
    },
    "trusted": true
   },
   "outputs": [
    {
     "name": "stdout",
     "output_type": "stream",
     "text": [
      "(2632, 890)\n"
     ]
    }
   ],
   "source": [
    "print(X_train.shape)"
   ]
  },
  {
   "cell_type": "markdown",
   "metadata": {},
   "source": [
    "**ResNet18 + PCA + Model 1, 2, 3**"
   ]
  },
  {
   "cell_type": "code",
   "execution_count": 47,
   "metadata": {
    "execution": {
     "iopub.execute_input": "2024-11-30T18:36:44.656298Z",
     "iopub.status.busy": "2024-11-30T18:36:44.655829Z",
     "iopub.status.idle": "2024-11-30T18:36:44.671377Z",
     "shell.execute_reply": "2024-11-30T18:36:44.670331Z",
     "shell.execute_reply.started": "2024-11-30T18:36:44.656238Z"
    },
    "trusted": true
   },
   "outputs": [],
   "source": [
    "X_train, X_test, y_train, y_test = train_test_split(X_pca, Y, test_size=0.15, random_state=42)\n",
    "X_train, X_val, y_train, y_val = train_test_split(X_train, y_train, test_size=0.1765, random_state=42)\n",
    "scaler = StandardScaler()\n",
    "X_train = scaler.fit_transform(X_train)\n",
    "X_val = scaler.transform(X_val)\n",
    "X_test = scaler.transform(X_test)"
   ]
  },
  {
   "cell_type": "code",
   "execution_count": 18,
   "metadata": {
    "execution": {
     "iopub.execute_input": "2024-11-30T18:22:43.545781Z",
     "iopub.status.busy": "2024-11-30T18:22:43.545345Z",
     "iopub.status.idle": "2024-11-30T18:22:43.553016Z",
     "shell.execute_reply": "2024-11-30T18:22:43.551335Z",
     "shell.execute_reply.started": "2024-11-30T18:22:43.545741Z"
    },
    "trusted": true
   },
   "outputs": [
    {
     "name": "stdout",
     "output_type": "stream",
     "text": [
      "(2632, 890)\n"
     ]
    }
   ],
   "source": [
    "print(X_train.shape)"
   ]
  },
  {
   "cell_type": "code",
   "execution_count": 57,
   "metadata": {
    "execution": {
     "iopub.execute_input": "2024-11-30T18:39:49.220665Z",
     "iopub.status.busy": "2024-11-30T18:39:49.220207Z",
     "iopub.status.idle": "2024-11-30T18:41:46.912374Z",
     "shell.execute_reply": "2024-11-30T18:41:46.911083Z",
     "shell.execute_reply.started": "2024-11-30T18:39:49.220614Z"
    },
    "trusted": true
   },
   "outputs": [
    {
     "name": "stderr",
     "output_type": "stream",
     "text": [
      "/opt/conda/lib/python3.10/site-packages/keras/src/layers/reshaping/reshape.py:39: UserWarning: Do not pass an `input_shape`/`input_dim` argument to a layer. When using Sequential models, prefer using an `Input(shape)` object as the first layer in the model instead.\n",
      "  super().__init__(**kwargs)\n",
      "/opt/conda/lib/python3.10/site-packages/keras/src/layers/convolutional/base_conv.py:107: UserWarning: Do not pass an `input_shape`/`input_dim` argument to a layer. When using Sequential models, prefer using an `Input(shape)` object as the first layer in the model instead.\n",
      "  super().__init__(activity_regularizer=activity_regularizer, **kwargs)\n"
     ]
    },
    {
     "name": "stdout",
     "output_type": "stream",
     "text": [
      "Epoch 1/10\n",
      "\u001b[1m83/83\u001b[0m \u001b[32m━━━━━━━━━━━━━━━━━━━━\u001b[0m\u001b[37m\u001b[0m \u001b[1m4s\u001b[0m 32ms/step - accuracy: 0.7040 - loss: 0.7988 - val_accuracy: 0.8761 - val_loss: 0.2903\n",
      "Epoch 2/10\n",
      "\u001b[1m83/83\u001b[0m \u001b[32m━━━━━━━━━━━━━━━━━━━━\u001b[0m\u001b[37m\u001b[0m \u001b[1m2s\u001b[0m 29ms/step - accuracy: 0.9053 - loss: 0.2381 - val_accuracy: 0.9292 - val_loss: 0.2079\n",
      "Epoch 3/10\n",
      "\u001b[1m83/83\u001b[0m \u001b[32m━━━━━━━━━━━━━━━━━━━━\u001b[0m\u001b[37m\u001b[0m \u001b[1m2s\u001b[0m 29ms/step - accuracy: 0.9546 - loss: 0.1383 - val_accuracy: 0.9062 - val_loss: 0.2146\n",
      "Epoch 4/10\n",
      "\u001b[1m83/83\u001b[0m \u001b[32m━━━━━━━━━━━━━━━━━━━━\u001b[0m\u001b[37m\u001b[0m \u001b[1m3s\u001b[0m 30ms/step - accuracy: 0.9589 - loss: 0.1070 - val_accuracy: 0.9345 - val_loss: 0.1767\n",
      "Epoch 5/10\n",
      "\u001b[1m83/83\u001b[0m \u001b[32m━━━━━━━━━━━━━━━━━━━━\u001b[0m\u001b[37m\u001b[0m \u001b[1m3s\u001b[0m 31ms/step - accuracy: 0.9841 - loss: 0.0580 - val_accuracy: 0.9363 - val_loss: 0.1780\n",
      "Epoch 6/10\n",
      "\u001b[1m83/83\u001b[0m \u001b[32m━━━━━━━━━━━━━━━━━━━━\u001b[0m\u001b[37m\u001b[0m \u001b[1m3s\u001b[0m 33ms/step - accuracy: 0.9923 - loss: 0.0385 - val_accuracy: 0.9451 - val_loss: 0.2188\n",
      "Epoch 7/10\n",
      "\u001b[1m83/83\u001b[0m \u001b[32m━━━━━━━━━━━━━━━━━━━━\u001b[0m\u001b[37m\u001b[0m \u001b[1m3s\u001b[0m 34ms/step - accuracy: 0.9967 - loss: 0.0178 - val_accuracy: 0.9221 - val_loss: 0.2209\n",
      "Epoch 8/10\n",
      "\u001b[1m83/83\u001b[0m \u001b[32m━━━━━━━━━━━━━━━━━━━━\u001b[0m\u001b[37m\u001b[0m \u001b[1m3s\u001b[0m 34ms/step - accuracy: 0.9981 - loss: 0.0146 - val_accuracy: 0.9504 - val_loss: 0.2312\n",
      "Epoch 9/10\n",
      "\u001b[1m83/83\u001b[0m \u001b[32m━━━━━━━━━━━━━━━━━━━━\u001b[0m\u001b[37m\u001b[0m \u001b[1m2s\u001b[0m 29ms/step - accuracy: 1.0000 - loss: 0.0068 - val_accuracy: 0.9434 - val_loss: 0.2252\n",
      "Epoch 10/10\n",
      "\u001b[1m83/83\u001b[0m \u001b[32m━━━━━━━━━━━━━━━━━━━━\u001b[0m\u001b[37m\u001b[0m \u001b[1m2s\u001b[0m 29ms/step - accuracy: 1.0000 - loss: 0.0033 - val_accuracy: 0.9487 - val_loss: 0.2328\n",
      "Epoch 1/10\n",
      "\u001b[1m83/83\u001b[0m \u001b[32m━━━━━━━━━━━━━━━━━━━━\u001b[0m\u001b[37m\u001b[0m \u001b[1m7s\u001b[0m 62ms/step - accuracy: 0.7503 - loss: 0.6242 - val_accuracy: 0.9239 - val_loss: 0.2224\n",
      "Epoch 2/10\n",
      "\u001b[1m83/83\u001b[0m \u001b[32m━━━━━━━━━━━━━━━━━━━━\u001b[0m\u001b[37m\u001b[0m \u001b[1m5s\u001b[0m 61ms/step - accuracy: 0.9396 - loss: 0.1574 - val_accuracy: 0.9062 - val_loss: 0.2785\n",
      "Epoch 3/10\n",
      "\u001b[1m83/83\u001b[0m \u001b[32m━━━━━━━━━━━━━━━━━━━━\u001b[0m\u001b[37m\u001b[0m \u001b[1m5s\u001b[0m 60ms/step - accuracy: 0.9629 - loss: 0.1092 - val_accuracy: 0.9363 - val_loss: 0.1912\n",
      "Epoch 4/10\n",
      "\u001b[1m83/83\u001b[0m \u001b[32m━━━━━━━━━━━━━━━━━━━━\u001b[0m\u001b[37m\u001b[0m \u001b[1m5s\u001b[0m 59ms/step - accuracy: 0.9817 - loss: 0.0548 - val_accuracy: 0.9416 - val_loss: 0.2274\n",
      "Epoch 5/10\n",
      "\u001b[1m83/83\u001b[0m \u001b[32m━━━━━━━━━━━━━━━━━━━━\u001b[0m\u001b[37m\u001b[0m \u001b[1m5s\u001b[0m 64ms/step - accuracy: 0.9973 - loss: 0.0170 - val_accuracy: 0.9310 - val_loss: 0.2427\n",
      "Epoch 6/10\n",
      "\u001b[1m83/83\u001b[0m \u001b[32m━━━━━━━━━━━━━━━━━━━━\u001b[0m\u001b[37m\u001b[0m \u001b[1m5s\u001b[0m 58ms/step - accuracy: 0.9985 - loss: 0.0106 - val_accuracy: 0.9504 - val_loss: 0.2223\n",
      "Epoch 7/10\n",
      "\u001b[1m83/83\u001b[0m \u001b[32m━━━━━━━━━━━━━━━━━━━━\u001b[0m\u001b[37m\u001b[0m \u001b[1m5s\u001b[0m 59ms/step - accuracy: 0.9999 - loss: 0.0043 - val_accuracy: 0.9451 - val_loss: 0.2506\n",
      "Epoch 8/10\n",
      "\u001b[1m83/83\u001b[0m \u001b[32m━━━━━━━━━━━━━━━━━━━━\u001b[0m\u001b[37m\u001b[0m \u001b[1m5s\u001b[0m 59ms/step - accuracy: 0.9993 - loss: 0.0073 - val_accuracy: 0.9434 - val_loss: 0.2596\n",
      "Epoch 9/10\n",
      "\u001b[1m83/83\u001b[0m \u001b[32m━━━━━━━━━━━━━━━━━━━━\u001b[0m\u001b[37m\u001b[0m \u001b[1m5s\u001b[0m 60ms/step - accuracy: 0.9996 - loss: 0.0031 - val_accuracy: 0.9469 - val_loss: 0.2644\n",
      "Epoch 10/10\n",
      "\u001b[1m83/83\u001b[0m \u001b[32m━━━━━━━━━━━━━━━━━━━━\u001b[0m\u001b[37m\u001b[0m \u001b[1m5s\u001b[0m 59ms/step - accuracy: 1.0000 - loss: 0.0024 - val_accuracy: 0.9469 - val_loss: 0.2693\n",
      "Epoch 1/10\n",
      "\u001b[1m83/83\u001b[0m \u001b[32m━━━━━━━━━━━━━━━━━━━━\u001b[0m\u001b[37m\u001b[0m \u001b[1m5s\u001b[0m 44ms/step - accuracy: 0.7330 - loss: 0.7107 - val_accuracy: 0.8743 - val_loss: 0.2813\n",
      "Epoch 2/10\n",
      "\u001b[1m83/83\u001b[0m \u001b[32m━━━━━━━━━━━━━━━━━━━━\u001b[0m\u001b[37m\u001b[0m \u001b[1m4s\u001b[0m 48ms/step - accuracy: 0.9275 - loss: 0.2010 - val_accuracy: 0.9186 - val_loss: 0.1982\n",
      "Epoch 3/10\n",
      "\u001b[1m83/83\u001b[0m \u001b[32m━━━━━━━━━━━━━━━━━━━━\u001b[0m\u001b[37m\u001b[0m \u001b[1m4s\u001b[0m 42ms/step - accuracy: 0.9544 - loss: 0.1361 - val_accuracy: 0.9257 - val_loss: 0.1900\n",
      "Epoch 4/10\n",
      "\u001b[1m83/83\u001b[0m \u001b[32m━━━━━━━━━━━━━━━━━━━━\u001b[0m\u001b[37m\u001b[0m \u001b[1m4s\u001b[0m 44ms/step - accuracy: 0.9691 - loss: 0.0883 - val_accuracy: 0.9434 - val_loss: 0.1681\n",
      "Epoch 5/10\n",
      "\u001b[1m83/83\u001b[0m \u001b[32m━━━━━━━━━━━━━━━━━━━━\u001b[0m\u001b[37m\u001b[0m \u001b[1m3s\u001b[0m 42ms/step - accuracy: 0.9805 - loss: 0.0581 - val_accuracy: 0.9239 - val_loss: 0.2217\n",
      "Epoch 6/10\n",
      "\u001b[1m83/83\u001b[0m \u001b[32m━━━━━━━━━━━━━━━━━━━━\u001b[0m\u001b[37m\u001b[0m \u001b[1m3s\u001b[0m 41ms/step - accuracy: 0.9932 - loss: 0.0262 - val_accuracy: 0.9469 - val_loss: 0.2093\n",
      "Epoch 7/10\n",
      "\u001b[1m83/83\u001b[0m \u001b[32m━━━━━━━━━━━━━━━━━━━━\u001b[0m\u001b[37m\u001b[0m \u001b[1m4s\u001b[0m 42ms/step - accuracy: 0.9993 - loss: 0.0095 - val_accuracy: 0.9469 - val_loss: 0.2062\n",
      "Epoch 8/10\n",
      "\u001b[1m83/83\u001b[0m \u001b[32m━━━━━━━━━━━━━━━━━━━━\u001b[0m\u001b[37m\u001b[0m \u001b[1m3s\u001b[0m 42ms/step - accuracy: 1.0000 - loss: 0.0043 - val_accuracy: 0.9504 - val_loss: 0.2165\n",
      "Epoch 9/10\n",
      "\u001b[1m83/83\u001b[0m \u001b[32m━━━━━━━━━━━━━━━━━━━━\u001b[0m\u001b[37m\u001b[0m \u001b[1m4s\u001b[0m 43ms/step - accuracy: 0.9999 - loss: 0.0036 - val_accuracy: 0.9434 - val_loss: 0.2456\n",
      "Epoch 10/10\n",
      "\u001b[1m83/83\u001b[0m \u001b[32m━━━━━━━━━━━━━━━━━━━━\u001b[0m\u001b[37m\u001b[0m \u001b[1m3s\u001b[0m 42ms/step - accuracy: 0.9990 - loss: 0.0073 - val_accuracy: 0.9434 - val_loss: 0.2818\n",
      "\u001b[1m18/18\u001b[0m \u001b[32m━━━━━━━━━━━━━━━━━━━━\u001b[0m\u001b[37m\u001b[0m \u001b[1m0s\u001b[0m 8ms/step - accuracy: 0.9573 - loss: 0.1913\n",
      "Accuracy1: 95.93%\n",
      "\u001b[1m18/18\u001b[0m \u001b[32m━━━━━━━━━━━━━━━━━━━━\u001b[0m\u001b[37m\u001b[0m \u001b[1m0s\u001b[0m 15ms/step - accuracy: 0.9615 - loss: 0.1459\n",
      "Accuracy2: 95.75%\n",
      "\u001b[1m18/18\u001b[0m \u001b[32m━━━━━━━━━━━━━━━━━━━━\u001b[0m\u001b[37m\u001b[0m \u001b[1m0s\u001b[0m 11ms/step - accuracy: 0.9493 - loss: 0.2560\n",
      "Accuracy3: 94.87%\n"
     ]
    }
   ],
   "source": [
    "def create_cnn_model(input_shape, num_filters):\n",
    "  model = Sequential()\n",
    "  model = Sequential()\n",
    "  model.add(Reshape((input_shape[1], 1), input_shape=input_shape[1:]))\n",
    "  model.add(Conv1D(filters=num_filters, kernel_size=3, activation='relu', input_shape=(500, 1)))\n",
    "  model.add(MaxPooling1D(pool_size=2))\n",
    "  model.add(Conv1D(filters=num_filters * 2, kernel_size=3, activation='relu'))\n",
    "  model.add(MaxPooling1D(pool_size=2))\n",
    "  model.add(Flatten())\n",
    "  model.add(Dense(64, activation='relu'))\n",
    "  model.add(Dense(1, activation='sigmoid'))\n",
    "  model.compile(optimizer='adam', loss='binary_crossentropy', metrics=['accuracy'])\n",
    "  return model\n",
    "\n",
    "model1 = create_cnn_model(X_train.shape, 32)\n",
    "model2 = create_cnn_model(X_train.shape, 64)\n",
    "model3 = create_cnn_model(X_train.shape, 48)\n",
    "\n",
    "X_train = np.array(X_train)\n",
    "X_val = np.array(X_val)\n",
    "X_test = np.array(X_test)\n",
    "\n",
    "X_train = X_train.reshape(X_train.shape[0], X_train.shape[1], 1)\n",
    "X_val = X_val.reshape(X_val.shape[0], X_val.shape[1], 1)\n",
    "X_test = X_test.reshape(X_test.shape[0], X_test.shape[1], 1)\n",
    "\n",
    "X_train = X_train.astype('float32')\n",
    "X_val = X_val.astype('float32')\n",
    "X_test = X_test.astype('float32')\n",
    "\n",
    "y_train = y_train.astype('float32')\n",
    "y_val = y_val.astype('float32')\n",
    "y_test = y_test.astype('float32')\n",
    "\n",
    "model1.fit(X_train, y_train, epochs=10, batch_size=32, validation_data=(X_val, y_val))\n",
    "model2.fit(X_train, y_train, epochs=10, batch_size=32, validation_data=(X_val, y_val))\n",
    "model3.fit(X_train, y_train, epochs=10, batch_size=32, validation_data=(X_val, y_val))\n",
    "\n",
    "loss, accuracy = model1.evaluate(X_test, y_test)\n",
    "print(f'Accuracy1: {accuracy*100:.2f}%')\n",
    "\n",
    "loss, accuracy = model2.evaluate(X_test, y_test)\n",
    "print(f'Accuracy2: {accuracy*100:.2f}%')\n",
    "\n",
    "loss, accuracy = model3.evaluate(X_test, y_test)\n",
    "print(f'Accuracy3: {accuracy*100:.2f}%')"
   ]
  },
  {
   "cell_type": "code",
   "execution_count": 58,
   "metadata": {
    "execution": {
     "iopub.execute_input": "2024-11-30T18:41:46.915147Z",
     "iopub.status.busy": "2024-11-30T18:41:46.914643Z",
     "iopub.status.idle": "2024-11-30T18:41:48.912961Z",
     "shell.execute_reply": "2024-11-30T18:41:48.911745Z",
     "shell.execute_reply.started": "2024-11-30T18:41:46.915091Z"
    },
    "trusted": true
   },
   "outputs": [
    {
     "name": "stdout",
     "output_type": "stream",
     "text": [
      "\u001b[1m18/18\u001b[0m \u001b[32m━━━━━━━━━━━━━━━━━━━━\u001b[0m\u001b[37m\u001b[0m \u001b[1m0s\u001b[0m 16ms/step\n",
      "\u001b[1m18/18\u001b[0m \u001b[32m━━━━━━━━━━━━━━━━━━━━\u001b[0m\u001b[37m\u001b[0m \u001b[1m1s\u001b[0m 24ms/step\n",
      "\u001b[1m18/18\u001b[0m \u001b[32m━━━━━━━━━━━━━━━━━━━━\u001b[0m\u001b[37m\u001b[0m \u001b[1m0s\u001b[0m 19ms/step\n",
      "F1-score1: 0.9522\n",
      "F1-score2: 0.9551\n",
      "F1-score3: 0.9504\n"
     ]
    }
   ],
   "source": [
    "y_pred1 = model1.predict(X_test)\n",
    "y_pred2 = model2.predict(X_test)\n",
    "y_pred3 = model3.predict(X_test)\n",
    "\n",
    "thresholds = np.arange(0, 1.01, 0.01) \n",
    "best_threshold = 0.0\n",
    "best_f1 = 0.0\n",
    "\n",
    "for threshold in thresholds:\n",
    "  y_pred_classes = (y_pred1 >= threshold).astype(int)\n",
    "  f1 = f1_score(y_test, y_pred_classes)\n",
    "  if f1 > best_f1:\n",
    "    best_f1 = f1\n",
    "    best_threshold = threshold\n",
    "print(f'F1-score1: {best_f1:.4f}')\n",
    "y_pred1 = (y_pred1 > best_threshold).astype(int)\n",
    "\n",
    "best_threshold = 0.0\n",
    "best_f1 = 0.0\n",
    "\n",
    "for threshold in thresholds:\n",
    "  y_pred_classes = (y_pred2 >= threshold).astype(int)\n",
    "  f1 = f1_score(y_test, y_pred_classes)\n",
    "  if f1 > best_f1:\n",
    "    best_f1 = f1\n",
    "    best_threshold = threshold\n",
    "print(f'F1-score2: {best_f1:.4f}')\n",
    "y_pred2 = (y_pred2 > best_threshold).astype(int)\n",
    "\n",
    "best_threshold = 0.0\n",
    "best_f1 = 0.0\n",
    "\n",
    "for threshold in thresholds:\n",
    "  y_pred_classes = (y_pred3 >= threshold).astype(int)\n",
    "  f1 = f1_score(y_test, y_pred_classes)\n",
    "  if f1 > best_f1:\n",
    "    best_f1 = f1\n",
    "    best_threshold = threshold\n",
    "print(f'F1-score3: {best_f1:.4f}')\n",
    "y_pred3 = (y_pred3 > best_threshold).astype(int)"
   ]
  },
  {
   "cell_type": "code",
   "execution_count": 59,
   "metadata": {
    "execution": {
     "iopub.execute_input": "2024-11-30T18:41:48.914883Z",
     "iopub.status.busy": "2024-11-30T18:41:48.914434Z",
     "iopub.status.idle": "2024-11-30T18:41:48.923171Z",
     "shell.execute_reply": "2024-11-30T18:41:48.921953Z",
     "shell.execute_reply.started": "2024-11-30T18:41:48.914837Z"
    },
    "trusted": true
   },
   "outputs": [],
   "source": [
    "def print_metrics(y_test, y_pred, model_number):\n",
    "    accuracy = accuracy_score(y_test, y_pred)\n",
    "    precision = precision_score(y_test, y_pred)\n",
    "    recall = recall_score(y_test, y_pred)\n",
    "    f1 = f1_score(y_test, y_pred)\n",
    "    \n",
    "    print(f\"Model {model_number} - Metrics:\")\n",
    "    print(f\"Accuracy: {accuracy * 100:.2f}%\")\n",
    "    print(f\"Precision: {precision:.4f}\")\n",
    "    print(f\"Recall: {recall:.4f}\")\n",
    "    print(f\"F1 Score: {f1:.4f}\")\n",
    "    print(\"\\nClassification Report:\")\n",
    "    print(classification_report(y_test, y_pred))\n",
    "    \n",
    "    cm = confusion_matrix(y_test, y_pred)\n",
    "    plt.figure(figsize=(6, 5))\n",
    "    sns.heatmap(cm, annot=True, fmt='d', cmap='Blues', xticklabels=['Class 0', 'Class 1'], yticklabels=['Class 0', 'Class 1'])\n",
    "    plt.title(f'Confusion Matrix - Model {model_number}')\n",
    "    plt.xlabel('Predicted')\n",
    "    plt.ylabel('True')\n",
    "    plt.show()"
   ]
  },
  {
   "cell_type": "code",
   "execution_count": 60,
   "metadata": {
    "execution": {
     "iopub.execute_input": "2024-11-30T18:41:48.925727Z",
     "iopub.status.busy": "2024-11-30T18:41:48.925258Z",
     "iopub.status.idle": "2024-11-30T18:41:49.229196Z",
     "shell.execute_reply": "2024-11-30T18:41:49.227748Z",
     "shell.execute_reply.started": "2024-11-30T18:41:48.925673Z"
    },
    "trusted": true
   },
   "outputs": [
    {
     "name": "stdout",
     "output_type": "stream",
     "text": [
      "Model 1 - Metrics:\n",
      "Accuracy: 95.93%\n",
      "Precision: 0.9828\n",
      "Recall: 0.9234\n",
      "F1 Score: 0.9522\n",
      "\n",
      "Classification Report:\n",
      "              precision    recall  f1-score   support\n",
      "\n",
      "         0.0       0.94      0.99      0.96       317\n",
      "         1.0       0.98      0.92      0.95       248\n",
      "\n",
      "    accuracy                           0.96       565\n",
      "   macro avg       0.96      0.96      0.96       565\n",
      "weighted avg       0.96      0.96      0.96       565\n",
      "\n"
     ]
    },
    {
     "data": {
      "image/png": "[encoded data removed]",
      "text/plain": [
       "<Figure size 600x500 with 2 Axes>"
      ]
     },
     "metadata": {},
     "output_type": "display_data"
    }
   ],
   "source": [
    "print_metrics(y_test, y_pred1, 1)"
   ]
  },
  {
   "cell_type": "code",
   "execution_count": 61,
   "metadata": {
    "execution": {
     "iopub.execute_input": "2024-11-30T18:41:49.231523Z",
     "iopub.status.busy": "2024-11-30T18:41:49.231022Z",
     "iopub.status.idle": "2024-11-30T18:41:49.459672Z",
     "shell.execute_reply": "2024-11-30T18:41:49.458559Z",
     "shell.execute_reply.started": "2024-11-30T18:41:49.231471Z"
    },
    "trusted": true
   },
   "outputs": [
    {
     "name": "stdout",
     "output_type": "stream",
     "text": [
      "Model 2 - Metrics:\n",
      "Accuracy: 96.11%\n",
      "Precision: 0.9669\n",
      "Recall: 0.9435\n",
      "F1 Score: 0.9551\n",
      "\n",
      "Classification Report:\n",
      "              precision    recall  f1-score   support\n",
      "\n",
      "         0.0       0.96      0.97      0.97       317\n",
      "         1.0       0.97      0.94      0.96       248\n",
      "\n",
      "    accuracy                           0.96       565\n",
      "   macro avg       0.96      0.96      0.96       565\n",
      "weighted avg       0.96      0.96      0.96       565\n",
      "\n"
     ]
    },
    {
     "data": {
      "image/png": "[encoded data removed]",
      "text/plain": [
       "<Figure size 600x500 with 2 Axes>"
      ]
     },
     "metadata": {},
     "output_type": "display_data"
    }
   ],
   "source": [
    "print_metrics(y_test, y_pred2, 2)"
   ]
  },
  {
   "cell_type": "code",
   "execution_count": 62,
   "metadata": {
    "execution": {
     "iopub.execute_input": "2024-11-30T18:41:49.461639Z",
     "iopub.status.busy": "2024-11-30T18:41:49.461248Z",
     "iopub.status.idle": "2024-11-30T18:41:49.683998Z",
     "shell.execute_reply": "2024-11-30T18:41:49.682705Z",
     "shell.execute_reply.started": "2024-11-30T18:41:49.461606Z"
    },
    "trusted": true
   },
   "outputs": [
    {
     "name": "stdout",
     "output_type": "stream",
     "text": [
      "Model 3 - Metrics:\n",
      "Accuracy: 95.75%\n",
      "Precision: 0.9746\n",
      "Recall: 0.9274\n",
      "F1 Score: 0.9504\n",
      "\n",
      "Classification Report:\n",
      "              precision    recall  f1-score   support\n",
      "\n",
      "         0.0       0.95      0.98      0.96       317\n",
      "         1.0       0.97      0.93      0.95       248\n",
      "\n",
      "    accuracy                           0.96       565\n",
      "   macro avg       0.96      0.95      0.96       565\n",
      "weighted avg       0.96      0.96      0.96       565\n",
      "\n"
     ]
    },
    {
     "data": {
      "image/png": "[encoded data removed]",
      "text/plain": [
       "<Figure size 600x500 with 2 Axes>"
      ]
     },
     "metadata": {},
     "output_type": "display_data"
    }
   ],
   "source": [
    "print_metrics(y_test, y_pred3, 3)"
   ]
  },
  {
   "cell_type": "code",
   "execution_count": 63,
   "metadata": {
    "execution": {
     "iopub.execute_input": "2024-11-30T18:41:49.686143Z",
     "iopub.status.busy": "2024-11-30T18:41:49.685684Z",
     "iopub.status.idle": "2024-11-30T18:42:09.498051Z",
     "shell.execute_reply": "2024-11-30T18:42:09.496726Z",
     "shell.execute_reply.started": "2024-11-30T18:41:49.686095Z"
    },
    "trusted": true
   },
   "outputs": [
    {
     "name": "stdout",
     "output_type": "stream",
     "text": [
      "\u001b[1m83/83\u001b[0m \u001b[32m━━━━━━━━━━━━━━━━━━━━\u001b[0m\u001b[37m\u001b[0m \u001b[1m1s\u001b[0m 8ms/step\n",
      "\u001b[1m83/83\u001b[0m \u001b[32m━━━━━━━━━━━━━━━━━━━━\u001b[0m\u001b[37m\u001b[0m \u001b[1m1s\u001b[0m 15ms/step\n",
      "\u001b[1m83/83\u001b[0m \u001b[32m━━━━━━━━━━━━━━━━━━━━\u001b[0m\u001b[37m\u001b[0m \u001b[1m1s\u001b[0m 11ms/step\n",
      "\u001b[1m18/18\u001b[0m \u001b[32m━━━━━━━━━━━━━━━━━━━━\u001b[0m\u001b[37m\u001b[0m \u001b[1m0s\u001b[0m 8ms/step\n",
      "\u001b[1m18/18\u001b[0m \u001b[32m━━━━━━━━━━━━━━━━━━━━\u001b[0m\u001b[37m\u001b[0m \u001b[1m0s\u001b[0m 16ms/step\n",
      "\u001b[1m18/18\u001b[0m \u001b[32m━━━━━━━━━━━━━━━━━━━━\u001b[0m\u001b[37m\u001b[0m \u001b[1m0s\u001b[0m 11ms/step\n",
      "\u001b[1m18/18\u001b[0m \u001b[32m━━━━━━━━━━━━━━━━━━━━\u001b[0m\u001b[37m\u001b[0m \u001b[1m0s\u001b[0m 8ms/step\n",
      "\u001b[1m18/18\u001b[0m \u001b[32m━━━━━━━━━━━━━━━━━━━━\u001b[0m\u001b[37m\u001b[0m \u001b[1m0s\u001b[0m 16ms/step\n",
      "\u001b[1m18/18\u001b[0m \u001b[32m━━━━━━━━━━━━━━━━━━━━\u001b[0m\u001b[37m\u001b[0m \u001b[1m0s\u001b[0m 11ms/step\n",
      "\u001b[1m18/18\u001b[0m \u001b[32m━━━━━━━━━━━━━━━━━━━━\u001b[0m\u001b[37m\u001b[0m \u001b[1m0s\u001b[0m 8ms/step\n",
      "\u001b[1m18/18\u001b[0m \u001b[32m━━━━━━━━━━━━━━━━━━━━\u001b[0m\u001b[37m\u001b[0m \u001b[1m0s\u001b[0m 15ms/step\n",
      "\u001b[1m18/18\u001b[0m \u001b[32m━━━━━━━━━━━━━━━━━━━━\u001b[0m\u001b[37m\u001b[0m \u001b[1m0s\u001b[0m 11ms/step\n",
      "\u001b[1m18/18\u001b[0m \u001b[32m━━━━━━━━━━━━━━━━━━━━\u001b[0m\u001b[37m\u001b[0m \u001b[1m0s\u001b[0m 8ms/step\n",
      "\u001b[1m18/18\u001b[0m \u001b[32m━━━━━━━━━━━━━━━━━━━━\u001b[0m\u001b[37m\u001b[0m \u001b[1m0s\u001b[0m 15ms/step\n",
      "\u001b[1m18/18\u001b[0m \u001b[32m━━━━━━━━━━━━━━━━━━━━\u001b[0m\u001b[37m\u001b[0m \u001b[1m0s\u001b[0m 12ms/step\n",
      "\u001b[1m18/18\u001b[0m \u001b[32m━━━━━━━━━━━━━━━━━━━━\u001b[0m\u001b[37m\u001b[0m \u001b[1m0s\u001b[0m 8ms/step\n",
      "\u001b[1m18/18\u001b[0m \u001b[32m━━━━━━━━━━━━━━━━━━━━\u001b[0m\u001b[37m\u001b[0m \u001b[1m0s\u001b[0m 15ms/step\n",
      "\u001b[1m18/18\u001b[0m \u001b[32m━━━━━━━━━━━━━━━━━━━━\u001b[0m\u001b[37m\u001b[0m \u001b[1m0s\u001b[0m 11ms/step\n",
      "\u001b[1m18/18\u001b[0m \u001b[32m━━━━━━━━━━━━━━━━━━━━\u001b[0m\u001b[37m\u001b[0m \u001b[1m0s\u001b[0m 8ms/step\n",
      "\u001b[1m18/18\u001b[0m \u001b[32m━━━━━━━━━━━━━━━━━━━━\u001b[0m\u001b[37m\u001b[0m \u001b[1m0s\u001b[0m 15ms/step\n",
      "\u001b[1m18/18\u001b[0m \u001b[32m━━━━━━━━━━━━━━━━━━━━\u001b[0m\u001b[37m\u001b[0m \u001b[1m0s\u001b[0m 11ms/step\n",
      "\u001b[1m18/18\u001b[0m \u001b[32m━━━━━━━━━━━━━━━━━━━━\u001b[0m\u001b[37m\u001b[0m \u001b[1m0s\u001b[0m 8ms/step\n",
      "\u001b[1m18/18\u001b[0m \u001b[32m━━━━━━━━━━━━━━━━━━━━\u001b[0m\u001b[37m\u001b[0m \u001b[1m0s\u001b[0m 15ms/step\n",
      "\u001b[1m18/18\u001b[0m \u001b[32m━━━━━━━━━━━━━━━━━━━━\u001b[0m\u001b[37m\u001b[0m \u001b[1m0s\u001b[0m 11ms/step\n",
      "\u001b[1m18/18\u001b[0m \u001b[32m━━━━━━━━━━━━━━━━━━━━\u001b[0m\u001b[37m\u001b[0m \u001b[1m0s\u001b[0m 8ms/step\n",
      "\u001b[1m18/18\u001b[0m \u001b[32m━━━━━━━━━━━━━━━━━━━━\u001b[0m\u001b[37m\u001b[0m \u001b[1m0s\u001b[0m 15ms/step\n",
      "\u001b[1m18/18\u001b[0m \u001b[32m━━━━━━━━━━━━━━━━━━━━\u001b[0m\u001b[37m\u001b[0m \u001b[1m0s\u001b[0m 11ms/step\n",
      "\u001b[1m18/18\u001b[0m \u001b[32m━━━━━━━━━━━━━━━━━━━━\u001b[0m\u001b[37m\u001b[0m \u001b[1m0s\u001b[0m 8ms/step\n",
      "\u001b[1m18/18\u001b[0m \u001b[32m━━━━━━━━━━━━━━━━━━━━\u001b[0m\u001b[37m\u001b[0m \u001b[1m0s\u001b[0m 15ms/step\n",
      "\u001b[1m18/18\u001b[0m \u001b[32m━━━━━━━━━━━━━━━━━━━━\u001b[0m\u001b[37m\u001b[0m \u001b[1m0s\u001b[0m 11ms/step\n",
      "\u001b[1m18/18\u001b[0m \u001b[32m━━━━━━━━━━━━━━━━━━━━\u001b[0m\u001b[37m\u001b[0m \u001b[1m0s\u001b[0m 8ms/step\n",
      "\u001b[1m18/18\u001b[0m \u001b[32m━━━━━━━━━━━━━━━━━━━━\u001b[0m\u001b[37m\u001b[0m \u001b[1m0s\u001b[0m 15ms/step\n",
      "\u001b[1m18/18\u001b[0m \u001b[32m━━━━━━━━━━━━━━━━━━━━\u001b[0m\u001b[37m\u001b[0m \u001b[1m0s\u001b[0m 11ms/step\n",
      "\u001b[1m18/18\u001b[0m \u001b[32m━━━━━━━━━━━━━━━━━━━━\u001b[0m\u001b[37m\u001b[0m \u001b[1m0s\u001b[0m 8ms/step\n",
      "\u001b[1m18/18\u001b[0m \u001b[32m━━━━━━━━━━━━━━━━━━━━\u001b[0m\u001b[37m\u001b[0m \u001b[1m0s\u001b[0m 16ms/step\n",
      "\u001b[1m18/18\u001b[0m \u001b[32m━━━━━━━━━━━━━━━━━━━━\u001b[0m\u001b[37m\u001b[0m \u001b[1m0s\u001b[0m 12ms/step\n",
      "\u001b[1m18/18\u001b[0m \u001b[32m━━━━━━━━━━━━━━━━━━━━\u001b[0m\u001b[37m\u001b[0m \u001b[1m0s\u001b[0m 8ms/step\n",
      "\u001b[1m18/18\u001b[0m \u001b[32m━━━━━━━━━━━━━━━━━━━━\u001b[0m\u001b[37m\u001b[0m \u001b[1m0s\u001b[0m 15ms/step\n",
      "\u001b[1m18/18\u001b[0m \u001b[32m━━━━━━━━━━━━━━━━━━━━\u001b[0m\u001b[37m\u001b[0m \u001b[1m0s\u001b[0m 12ms/step\n",
      "\u001b[1m18/18\u001b[0m \u001b[32m━━━━━━━━━━━━━━━━━━━━\u001b[0m\u001b[37m\u001b[0m \u001b[1m0s\u001b[0m 10ms/step\n",
      "\u001b[1m18/18\u001b[0m \u001b[32m━━━━━━━━━━━━━━━━━━━━\u001b[0m\u001b[37m\u001b[0m \u001b[1m0s\u001b[0m 15ms/step\n",
      "\u001b[1m18/18\u001b[0m \u001b[32m━━━━━━━━━━━━━━━━━━━━\u001b[0m\u001b[37m\u001b[0m \u001b[1m0s\u001b[0m 12ms/step\n",
      "\u001b[1m18/18\u001b[0m \u001b[32m━━━━━━━━━━━━━━━━━━━━\u001b[0m\u001b[37m\u001b[0m \u001b[1m0s\u001b[0m 8ms/step\n",
      "\u001b[1m18/18\u001b[0m \u001b[32m━━━━━━━━━━━━━━━━━━━━\u001b[0m\u001b[37m\u001b[0m \u001b[1m0s\u001b[0m 16ms/step\n",
      "\u001b[1m18/18\u001b[0m \u001b[32m━━━━━━━━━━━━━━━━━━━━\u001b[0m\u001b[37m\u001b[0m \u001b[1m0s\u001b[0m 12ms/step\n",
      "\u001b[1m18/18\u001b[0m \u001b[32m━━━━━━━━━━━━━━━━━━━━\u001b[0m\u001b[37m\u001b[0m \u001b[1m0s\u001b[0m 8ms/step\n",
      "\u001b[1m18/18\u001b[0m \u001b[32m━━━━━━━━━━━━━━━━━━━━\u001b[0m\u001b[37m\u001b[0m \u001b[1m0s\u001b[0m 15ms/step\n",
      "\u001b[1m18/18\u001b[0m \u001b[32m━━━━━━━━━━━━━━━━━━━━\u001b[0m\u001b[37m\u001b[0m \u001b[1m0s\u001b[0m 11ms/step\n",
      "\u001b[1m18/18\u001b[0m \u001b[32m━━━━━━━━━━━━━━━━━━━━\u001b[0m\u001b[37m\u001b[0m \u001b[1m0s\u001b[0m 8ms/step\n",
      "\u001b[1m18/18\u001b[0m \u001b[32m━━━━━━━━━━━━━━━━━━━━\u001b[0m\u001b[37m\u001b[0m \u001b[1m0s\u001b[0m 15ms/step\n",
      "\u001b[1m18/18\u001b[0m \u001b[32m━━━━━━━━━━━━━━━━━━━━\u001b[0m\u001b[37m\u001b[0m \u001b[1m0s\u001b[0m 11ms/step\n",
      "\u001b[1m18/18\u001b[0m \u001b[32m━━━━━━━━━━━━━━━━━━━━\u001b[0m\u001b[37m\u001b[0m \u001b[1m0s\u001b[0m 8ms/step\n",
      "\u001b[1m18/18\u001b[0m \u001b[32m━━━━━━━━━━━━━━━━━━━━\u001b[0m\u001b[37m\u001b[0m \u001b[1m0s\u001b[0m 15ms/step\n",
      "\u001b[1m18/18\u001b[0m \u001b[32m━━━━━━━━━━━━━━━━━━━━\u001b[0m\u001b[37m\u001b[0m \u001b[1m0s\u001b[0m 12ms/step\n",
      "\u001b[1m18/18\u001b[0m \u001b[32m━━━━━━━━━━━━━━━━━━━━\u001b[0m\u001b[37m\u001b[0m \u001b[1m0s\u001b[0m 8ms/step\n",
      "\u001b[1m18/18\u001b[0m \u001b[32m━━━━━━━━━━━━━━━━━━━━\u001b[0m\u001b[37m\u001b[0m \u001b[1m0s\u001b[0m 15ms/step\n",
      "\u001b[1m18/18\u001b[0m \u001b[32m━━━━━━━━━━━━━━━━━━━━\u001b[0m\u001b[37m\u001b[0m \u001b[1m0s\u001b[0m 11ms/step\n",
      "Best Hyperparameters: {'C': 1, 'gamma': 'auto'}\n",
      "Best F1-score (Ensemble SVM on Validation): 0.9454\n",
      "\u001b[1m18/18\u001b[0m \u001b[32m━━━━━━━━━━━━━━━━━━━━\u001b[0m\u001b[37m\u001b[0m \u001b[1m0s\u001b[0m 8ms/step\n",
      "\u001b[1m18/18\u001b[0m \u001b[32m━━━━━━━━━━━━━━━━━━━━\u001b[0m\u001b[37m\u001b[0m \u001b[1m0s\u001b[0m 15ms/step\n",
      "\u001b[1m18/18\u001b[0m \u001b[32m━━━━━━━━━━━━━━━━━━━━\u001b[0m\u001b[37m\u001b[0m \u001b[1m0s\u001b[0m 11ms/step\n",
      "Ensemble F1-score (SVM on Test Set): 0.9528\n",
      "Ensemble Accuracy (SVM on Test Set): 0.9593\n",
      "Ensemble Precision (SVM on Test Set): 0.9707\n",
      "Ensemble Recall (SVM on Test Set): 0.9355\n"
     ]
    }
   ],
   "source": [
    "y_pred1_prob = model1.predict(X_train).flatten()  \n",
    "y_pred2_prob = model2.predict(X_train).flatten()  \n",
    "y_pred3_prob = model3.predict(X_train).flatten()  \n",
    "\n",
    "y_pred_probs_train = np.column_stack((y_pred1_prob, y_pred2_prob, y_pred3_prob))\n",
    "\n",
    "C_values = [0.1, 0.5, 1, 2, 5, 10, 15, 20, 50]\n",
    "gamma_values = ['scale', 'auto']\n",
    "\n",
    "best_f1 = 0\n",
    "best_params = {}\n",
    "\n",
    "for C in C_values:\n",
    "    for gamma in gamma_values:\n",
    "        ensemble_model_svm = SVC(kernel='rbf', C=C, gamma=gamma, probability=True, random_state=42)\n",
    "        ensemble_model_svm.fit(y_pred_probs_train, y_train)\n",
    "\n",
    "        y_pred1_prob_val = model1.predict(X_val).flatten()  \n",
    "        y_pred2_prob_val = model2.predict(X_val).flatten()  \n",
    "        y_pred3_prob_val = model3.predict(X_val).flatten()\n",
    "\n",
    "        y_pred_probs_val = np.column_stack((y_pred1_prob_val, y_pred2_prob_val, y_pred3_prob_val))\n",
    "\n",
    "        y_pred_ensemble_svm = ensemble_model_svm.predict(y_pred_probs_val)\n",
    "\n",
    "        f1_ensemble_svm = f1_score(y_val, y_pred_ensemble_svm)\n",
    "\n",
    "        if f1_ensemble_svm > best_f1:\n",
    "            best_f1 = f1_ensemble_svm\n",
    "            best_params = {'C': C, 'gamma': gamma}\n",
    "\n",
    "print(f\"Best Hyperparameters: {best_params}\")\n",
    "print(f\"Best F1-score (Ensemble SVM on Validation): {best_f1:.4f}\")\n",
    "\n",
    "ensemble_model_svm = SVC(kernel='rbf', C=best_params['C'], gamma=best_params['gamma'], probability=True, random_state=42)\n",
    "ensemble_model_svm.fit(y_pred_probs_train, y_train)\n",
    "\n",
    "y_pred1_prob_test = model1.predict(X_test).flatten() \n",
    "y_pred2_prob_test = model2.predict(X_test).flatten()  \n",
    "y_pred3_prob_test = model3.predict(X_test).flatten()\n",
    "\n",
    "y_pred_probs_test = np.column_stack((y_pred1_prob_test, y_pred2_prob_test, y_pred3_prob_test))\n",
    "\n",
    "y_pred_ensemble_svm = ensemble_model_svm.predict(y_pred_probs_test)\n",
    "\n",
    "f1_ensemble_svm_test = f1_score(y_test, y_pred_ensemble_svm)\n",
    "accuracy_ensemble_svm_test = accuracy_score(y_test, y_pred_ensemble_svm)\n",
    "precision_ensemble_svm_test = precision_score(y_test, y_pred_ensemble_svm)\n",
    "recall_ensemble_svm_test = recall_score(y_test, y_pred_ensemble_svm)\n",
    "\n",
    "print(f'Ensemble F1-score (SVM on Test Set): {f1_ensemble_svm_test:.4f}')\n",
    "print(f'Ensemble Accuracy (SVM on Test Set): {accuracy_ensemble_svm_test:.4f}')\n",
    "print(f'Ensemble Precision (SVM on Test Set): {precision_ensemble_svm_test:.4f}')\n",
    "print(f'Ensemble Recall (SVM on Test Set): {recall_ensemble_svm_test:.4f}')"
   ]
  },
  {
   "cell_type": "code",
   "execution_count": 66,
   "metadata": {
    "execution": {
     "iopub.execute_input": "2024-11-30T18:43:00.076816Z",
     "iopub.status.busy": "2024-11-30T18:43:00.076433Z",
     "iopub.status.idle": "2024-11-30T18:43:00.362104Z",
     "shell.execute_reply": "2024-11-30T18:43:00.361022Z",
     "shell.execute_reply.started": "2024-11-30T18:43:00.076782Z"
    },
    "trusted": true
   },
   "outputs": [
    {
     "data": {
      "image/png": "[encoded data removed]",
      "text/plain": [
       "<Figure size 600x600 with 2 Axes>"
      ]
     },
     "metadata": {},
     "output_type": "display_data"
    }
   ],
   "source": [
    "cm = confusion_matrix(y_test, y_pred_ensemble_svm)\n",
    "\n",
    "plt.figure(figsize=(6, 6))\n",
    "sns.heatmap(cm, annot=True, fmt=\"d\", cmap=\"Blues\", xticklabels=[\"Class 0\", \"Class 1\"], yticklabels=[\"Class 0\", \"Class 1\"])\n",
    "plt.xlabel('Predicted')\n",
    "plt.ylabel('True')\n",
    "plt.title('Confusion Matrix - Ensemble SVM (Test Set)')\n",
    "plt.show()"
   ]
  },
  {
   "cell_type": "code",
   "execution_count": 68,
   "metadata": {
    "execution": {
     "iopub.execute_input": "2024-11-30T18:43:05.082321Z",
     "iopub.status.busy": "2024-11-30T18:43:05.081853Z",
     "iopub.status.idle": "2024-11-30T18:43:06.123800Z",
     "shell.execute_reply": "2024-11-30T18:43:06.122546Z",
     "shell.execute_reply.started": "2024-11-30T18:43:05.082244Z"
    },
    "trusted": true
   },
   "outputs": [
    {
     "data": {
      "text/plain": [
       "['/kaggle/working/svm.pkl']"
      ]
     },
     "execution_count": 68,
     "metadata": {},
     "output_type": "execute_result"
    }
   ],
   "source": [
    "import joblib\n",
    "import torch\n",
    "\n",
    "joblib.dump(model1, '/kaggle/working/model1.pkl')\n",
    "joblib.dump(model2, '/kaggle/working/model2.pkl')\n",
    "joblib.dump(model3, '/kaggle/working/model3.pkl')\n",
    "joblib.dump(ensemble_model_svm, '/kaggle/working/ensemble_model_svm.pkl')\n",
    "joblib.dump(pca_model, '/kaggle/working/pca_model.pkl')\n",
    "joblib.dump(scaler, '/kaggle/working/scaler.pkl')\n",
    "joblib.dump(best_model, '/kaggle/working/svm.pkl')"
   ]
  }
 ],
 "metadata": {
  "kaggle": {
   "accelerator": "none",
   "dataSources": [
    {
     "datasetId": 6156537,
     "sourceId": 10001939,
     "sourceType": "datasetVersion"
    },
    {
     "datasetId": 6158688,
     "sourceId": 10005043,
     "sourceType": "datasetVersion"
    },
    {
     "datasetId": 6158722,
     "sourceId": 10005081,
     "sourceType": "datasetVersion"
    }
   ],
   "dockerImageVersionId": 30787,
   "isGpuEnabled": false,
   "isInternetEnabled": true,
   "language": "python",
   "sourceType": "notebook"
  },
  "kernelspec": {
   "display_name": "Python 3",
   "language": "python",
   "name": "python3"
  },
  "language_info": {
   "codemirror_mode": {
    "name": "ipython",
    "version": 3
   },
   "file_extension": ".py",
   "mimetype": "text/x-python",
   "name": "python",
   "nbconvert_exporter": "python",
   "pygments_lexer": "ipython3",
   "version": "3.10.14"
  }
 },
 "nbformat": 4,
 "nbformat_minor": 4
}

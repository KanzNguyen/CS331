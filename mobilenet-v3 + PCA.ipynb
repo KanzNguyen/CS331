{
 "cells": [
  {
   "cell_type": "code",
   "execution_count": 1,
   "metadata": {
    "_cell_guid": "b1076dfc-b9ad-4769-8c92-a6c4dae69d19",
    "_uuid": "8f2839f25d086af736a60e9eeb907d3b93b6e0e5",
    "execution": {
     "iopub.execute_input": "2024-12-19T18:06:37.749674Z",
     "iopub.status.busy": "2024-12-19T18:06:37.749438Z",
     "iopub.status.idle": "2024-12-19T18:06:55.581894Z",
     "shell.execute_reply": "2024-12-19T18:06:55.581198Z",
     "shell.execute_reply.started": "2024-12-19T18:06:37.749649Z"
    },
    "trusted": true
   },
   "outputs": [],
   "source": [
    "import cv2\n",
    "from PIL import Image\n",
    "import numpy as np\n",
    "import pandas as pd\n",
    "import matplotlib.pyplot as plt\n",
    "import matplotlib.image as mpimg\n",
    "import os\n",
    "from sklearn.metrics import accuracy_score, confusion_matrix, classification_report, ConfusionMatrixDisplay, f1_score\n",
    "import joblib\n",
    "import torch\n",
    "import torch.nn as nn\n",
    "from torchvision.transforms import Resize, ToTensor, Compose, Normalize, transforms\n",
    "from torchvision.models import resnet18\n",
    "from tqdm import tqdm\n",
    "from torchvision import transforms\n",
    "from sklearn.decomposition import PCA\n",
    "from sklearn.decomposition import SparsePCA\n",
    "from sklearn.model_selection import train_test_split\n",
    "from sklearn.metrics import accuracy_score, classification_report\n",
    "from sklearn.svm import SVC\n",
    "from os import listdir\n",
    "from keras.models import Sequential\n",
    "from keras.layers import Conv1D, MaxPooling1D, Flatten, Dense, Dropout\n",
    "from keras.layers import Reshape\n",
    "from keras.layers import Input, Dense, concatenate\n",
    "from keras.models import Model\n",
    "from collections import defaultdict\n",
    "from xgboost import XGBClassifier\n",
    "from sklearn.utils import resample\n",
    "from sklearn.preprocessing import StandardScaler\n",
    "from torchvision.models import mobilenet_v3_large\n",
    "from sklearn.metrics import precision_score, recall_score\n",
    "import seaborn as sns"
   ]
  },
  {
   "cell_type": "code",
   "execution_count": 2,
   "metadata": {
    "execution": {
     "iopub.execute_input": "2024-12-19T18:06:55.584269Z",
     "iopub.status.busy": "2024-12-19T18:06:55.583830Z",
     "iopub.status.idle": "2024-12-19T18:06:55.589776Z",
     "shell.execute_reply": "2024-12-19T18:06:55.588558Z",
     "shell.execute_reply.started": "2024-12-19T18:06:55.584241Z"
    },
    "trusted": true
   },
   "outputs": [
    {
     "name": "stdout",
     "output_type": "stream",
     "text": [
      "Available models in torchvision.models:\n"
     ]
    }
   ],
   "source": [
    "import torchvision.models as models\n",
    "\n",
    "all_models = dir(models)\n",
    "model_names = [model for model in all_models if callable(getattr(models, model))]\n",
    "print(\"Available models in torchvision.models:\")\n",
    "#for name in model_names:\n",
    "#    print(name)"
   ]
  },
  {
   "cell_type": "code",
   "execution_count": 3,
   "metadata": {
    "execution": {
     "iopub.execute_input": "2024-12-19T18:06:55.590981Z",
     "iopub.status.busy": "2024-12-19T18:06:55.590725Z",
     "iopub.status.idle": "2024-12-19T18:06:55.668333Z",
     "shell.execute_reply": "2024-12-19T18:06:55.667507Z",
     "shell.execute_reply.started": "2024-12-19T18:06:55.590959Z"
    },
    "trusted": true
   },
   "outputs": [
    {
     "data": {
      "text/html": [
       "<div>\n",
       "<style scoped>\n",
       "    .dataframe tbody tr th:only-of-type {\n",
       "        vertical-align: middle;\n",
       "    }\n",
       "\n",
       "    .dataframe tbody tr th {\n",
       "        vertical-align: top;\n",
       "    }\n",
       "\n",
       "    .dataframe thead th {\n",
       "        text-align: right;\n",
       "    }\n",
       "</style>\n",
       "<table border=\"1\" class=\"dataframe\">\n",
       "  <thead>\n",
       "    <tr style=\"text-align: right;\">\n",
       "      <th></th>\n",
       "      <th>Image</th>\n",
       "      <th>Class</th>\n",
       "      <th>Mean</th>\n",
       "      <th>Variance</th>\n",
       "      <th>Standard Deviation</th>\n",
       "      <th>Entropy</th>\n",
       "      <th>Skewness</th>\n",
       "      <th>Kurtosis</th>\n",
       "      <th>Contrast</th>\n",
       "      <th>Energy</th>\n",
       "      <th>ASM</th>\n",
       "      <th>Homogeneity</th>\n",
       "      <th>Dissimilarity</th>\n",
       "      <th>Correlation</th>\n",
       "      <th>Coarseness</th>\n",
       "    </tr>\n",
       "  </thead>\n",
       "  <tbody>\n",
       "    <tr>\n",
       "      <th>0</th>\n",
       "      <td>Image1</td>\n",
       "      <td>0</td>\n",
       "      <td>6.535339</td>\n",
       "      <td>619.587845</td>\n",
       "      <td>24.891522</td>\n",
       "      <td>0.109059</td>\n",
       "      <td>4.276477</td>\n",
       "      <td>18.900575</td>\n",
       "      <td>98.613971</td>\n",
       "      <td>0.293314</td>\n",
       "      <td>0.086033</td>\n",
       "      <td>0.530941</td>\n",
       "      <td>4.473346</td>\n",
       "      <td>0.981939</td>\n",
       "      <td>7.458341e-155</td>\n",
       "    </tr>\n",
       "    <tr>\n",
       "      <th>1</th>\n",
       "      <td>Image2</td>\n",
       "      <td>0</td>\n",
       "      <td>8.749969</td>\n",
       "      <td>805.957634</td>\n",
       "      <td>28.389393</td>\n",
       "      <td>0.266538</td>\n",
       "      <td>3.718116</td>\n",
       "      <td>14.464618</td>\n",
       "      <td>63.858816</td>\n",
       "      <td>0.475051</td>\n",
       "      <td>0.225674</td>\n",
       "      <td>0.651352</td>\n",
       "      <td>3.220072</td>\n",
       "      <td>0.988834</td>\n",
       "      <td>7.458341e-155</td>\n",
       "    </tr>\n",
       "    <tr>\n",
       "      <th>2</th>\n",
       "      <td>Image3</td>\n",
       "      <td>1</td>\n",
       "      <td>7.341095</td>\n",
       "      <td>1143.808219</td>\n",
       "      <td>33.820234</td>\n",
       "      <td>0.001467</td>\n",
       "      <td>5.061750</td>\n",
       "      <td>26.479563</td>\n",
       "      <td>81.867206</td>\n",
       "      <td>0.031917</td>\n",
       "      <td>0.001019</td>\n",
       "      <td>0.268275</td>\n",
       "      <td>5.981800</td>\n",
       "      <td>0.978014</td>\n",
       "      <td>7.458341e-155</td>\n",
       "    </tr>\n",
       "    <tr>\n",
       "      <th>3</th>\n",
       "      <td>Image4</td>\n",
       "      <td>1</td>\n",
       "      <td>5.958145</td>\n",
       "      <td>959.711985</td>\n",
       "      <td>30.979219</td>\n",
       "      <td>0.001477</td>\n",
       "      <td>5.677977</td>\n",
       "      <td>33.428845</td>\n",
       "      <td>151.229741</td>\n",
       "      <td>0.032024</td>\n",
       "      <td>0.001026</td>\n",
       "      <td>0.243851</td>\n",
       "      <td>7.700919</td>\n",
       "      <td>0.964189</td>\n",
       "      <td>7.458341e-155</td>\n",
       "    </tr>\n",
       "    <tr>\n",
       "      <th>4</th>\n",
       "      <td>Image5</td>\n",
       "      <td>0</td>\n",
       "      <td>7.315231</td>\n",
       "      <td>729.540579</td>\n",
       "      <td>27.010009</td>\n",
       "      <td>0.146761</td>\n",
       "      <td>4.283221</td>\n",
       "      <td>19.079108</td>\n",
       "      <td>174.988756</td>\n",
       "      <td>0.343849</td>\n",
       "      <td>0.118232</td>\n",
       "      <td>0.501140</td>\n",
       "      <td>6.834689</td>\n",
       "      <td>0.972789</td>\n",
       "      <td>7.458341e-155</td>\n",
       "    </tr>\n",
       "  </tbody>\n",
       "</table>\n",
       "</div>"
      ],
      "text/plain": [
       "    Image  Class      Mean     Variance  Standard Deviation   Entropy  \\\n",
       "0  Image1      0  6.535339   619.587845           24.891522  0.109059   \n",
       "1  Image2      0  8.749969   805.957634           28.389393  0.266538   \n",
       "2  Image3      1  7.341095  1143.808219           33.820234  0.001467   \n",
       "3  Image4      1  5.958145   959.711985           30.979219  0.001477   \n",
       "4  Image5      0  7.315231   729.540579           27.010009  0.146761   \n",
       "\n",
       "   Skewness   Kurtosis    Contrast    Energy       ASM  Homogeneity  \\\n",
       "0  4.276477  18.900575   98.613971  0.293314  0.086033     0.530941   \n",
       "1  3.718116  14.464618   63.858816  0.475051  0.225674     0.651352   \n",
       "2  5.061750  26.479563   81.867206  0.031917  0.001019     0.268275   \n",
       "3  5.677977  33.428845  151.229741  0.032024  0.001026     0.243851   \n",
       "4  4.283221  19.079108  174.988756  0.343849  0.118232     0.501140   \n",
       "\n",
       "   Dissimilarity  Correlation     Coarseness  \n",
       "0       4.473346     0.981939  7.458341e-155  \n",
       "1       3.220072     0.988834  7.458341e-155  \n",
       "2       5.981800     0.978014  7.458341e-155  \n",
       "3       7.700919     0.964189  7.458341e-155  \n",
       "4       6.834689     0.972789  7.458341e-155  "
      ]
     },
     "execution_count": 3,
     "metadata": {},
     "output_type": "execute_result"
    }
   ],
   "source": [
    "data = pd.read_csv(\"/kaggle/input/brain-tumor-csv/Brain Tumor.csv\")\n",
    "data.head()"
   ]
  },
  {
   "cell_type": "code",
   "execution_count": 4,
   "metadata": {
    "execution": {
     "iopub.execute_input": "2024-12-19T18:06:55.670091Z",
     "iopub.status.busy": "2024-12-19T18:06:55.669495Z",
     "iopub.status.idle": "2024-12-19T18:06:55.678735Z",
     "shell.execute_reply": "2024-12-19T18:06:55.677933Z",
     "shell.execute_reply.started": "2024-12-19T18:06:55.670053Z"
    },
    "trusted": true
   },
   "outputs": [],
   "source": [
    "images = data.Image\n",
    "classes = data.Class\n",
    "image_label_dict = data.set_index('Image')['Class'].to_dict()\n",
    "#print(image_label_dict)"
   ]
  },
  {
   "cell_type": "code",
   "execution_count": 5,
   "metadata": {
    "execution": {
     "iopub.execute_input": "2024-12-19T18:06:55.680138Z",
     "iopub.status.busy": "2024-12-19T18:06:55.679821Z",
     "iopub.status.idle": "2024-12-19T18:06:55.720804Z",
     "shell.execute_reply": "2024-12-19T18:06:55.719955Z",
     "shell.execute_reply.started": "2024-12-19T18:06:55.680100Z"
    },
    "trusted": true
   },
   "outputs": [
    {
     "name": "stdout",
     "output_type": "stream",
     "text": [
      "cuda\n"
     ]
    }
   ],
   "source": [
    "device = torch.device(\"cuda\" if torch.cuda.is_available() else \"cpu\")\n",
    "print(device)"
   ]
  },
  {
   "cell_type": "code",
   "execution_count": 6,
   "metadata": {
    "execution": {
     "iopub.execute_input": "2024-12-19T18:06:55.721886Z",
     "iopub.status.busy": "2024-12-19T18:06:55.721636Z",
     "iopub.status.idle": "2024-12-19T18:06:55.730224Z",
     "shell.execute_reply": "2024-12-19T18:06:55.729457Z",
     "shell.execute_reply.started": "2024-12-19T18:06:55.721864Z"
    },
    "trusted": true
   },
   "outputs": [],
   "source": [
    "def preprocess_image(image_path):\n",
    "  image = Image.open(image_path).convert('RGB')\n",
    "  transform = transforms.Compose([\n",
    "      transforms.Resize((224, 224)),\n",
    "      transforms.ToTensor(),\n",
    "      transforms.Normalize(mean=[0.485, 0.456, 0.406], std=[0.229, 0.224, 0.225])\n",
    "  ])\n",
    "  image = transform(image)\n",
    "  image = image.unsqueeze(0)\n",
    "  return image.to(device)\n",
    "def extract_features(image, model):\n",
    "  with torch.no_grad():\n",
    "    feature = model(image).squeeze().cpu().numpy()\n",
    "  return feature\n",
    "def extract_features_from_image(image_path, model):\n",
    "  image = preprocess_image(image_path)\n",
    "  features = extract_features(image, model)\n",
    "  return features\n",
    "def preprocess_image_pca(image_path):\n",
    "    image = Image.open(image_path).convert('RGB')\n",
    "    transform = transforms.Compose([\n",
    "        transforms.Resize((224, 224)),\n",
    "        transforms.ToTensor(),\n",
    "    ])\n",
    "    image = transform(image)\n",
    "    image = image.numpy().flatten()\n",
    "    return image"
   ]
  },
  {
   "cell_type": "markdown",
   "metadata": {},
   "source": [
    "**mobilenet_v3_large**"
   ]
  },
  {
   "cell_type": "code",
   "execution_count": 7,
   "metadata": {
    "execution": {
     "iopub.execute_input": "2024-12-19T18:06:55.733617Z",
     "iopub.status.busy": "2024-12-19T18:06:55.733396Z",
     "iopub.status.idle": "2024-12-19T18:07:54.054911Z",
     "shell.execute_reply": "2024-12-19T18:07:54.053764Z",
     "shell.execute_reply.started": "2024-12-19T18:06:55.733596Z"
    },
    "trusted": true
   },
   "outputs": [
    {
     "name": "stderr",
     "output_type": "stream",
     "text": [
      "/opt/conda/lib/python3.10/site-packages/torchvision/models/_utils.py:208: UserWarning: The parameter 'pretrained' is deprecated since 0.13 and may be removed in the future, please use 'weights' instead.\n",
      "  warnings.warn(\n",
      "/opt/conda/lib/python3.10/site-packages/torchvision/models/_utils.py:223: UserWarning: Arguments other than a weight enum or `None` for 'weights' are deprecated since 0.13 and may be removed in the future. The current behavior is equivalent to passing `weights=MobileNet_V3_Large_Weights.IMAGENET1K_V1`. You can also use `weights=MobileNet_V3_Large_Weights.DEFAULT` to get the most up-to-date weights.\n",
      "  warnings.warn(msg)\n",
      "Downloading: \"https://download.pytorch.org/models/mobilenet_v3_large-8738ca79.pth\" to /root/.cache/torch/hub/checkpoints/mobilenet_v3_large-8738ca79.pth\n",
      "100%|██████████| 21.1M/21.1M [00:00<00:00, 174MB/s]\n",
      "100%|██████████| 3762/3762 [00:57<00:00, 65.94it/s]\n"
     ]
    }
   ],
   "source": [
    "mobilenet_v3_large_model = mobilenet_v3_large(pretrained=True)\n",
    "mobilenet_v3_large_model = nn.Sequential(*list(mobilenet_v3_large_model.children())[:-1])\n",
    "mobilenet_v3_large_model = mobilenet_v3_large_model.to(device)\n",
    "mobilenet_v3_large_model.eval()\n",
    "\n",
    "dir_list = '/kaggle/input/reloaded-crop/Crop/'\n",
    "X_resnet = []\n",
    "X_pca_orig = []\n",
    "Y = []\n",
    "filename_list = []\n",
    "\n",
    "for filename in tqdm(listdir(dir_list)):\n",
    "  if filename.endswith('.jpg'):\n",
    "    filename_list.append(filename)\n",
    "    path = dir_list + filename\n",
    "    label = image_label_dict.get(filename.split('.')[0], None)\n",
    "    if label is not None:\n",
    "      features = extract_features_from_image(path, mobilenet_v3_large_model)\n",
    "      X_resnet.append(features)\n",
    "      feature_pca = preprocess_image_pca(path)\n",
    "      X_pca_orig.append(feature_pca)\n",
    "      Y.append(label)\n",
    "X_resnet = np.array(X_resnet)\n",
    "X_pca_orig = np.array(X_pca_orig)\n",
    "Y = np.array(Y)"
   ]
  },
  {
   "cell_type": "code",
   "execution_count": 8,
   "metadata": {
    "execution": {
     "iopub.execute_input": "2024-12-19T18:07:54.056502Z",
     "iopub.status.busy": "2024-12-19T18:07:54.056106Z",
     "iopub.status.idle": "2024-12-19T18:07:54.061465Z",
     "shell.execute_reply": "2024-12-19T18:07:54.060769Z",
     "shell.execute_reply.started": "2024-12-19T18:07:54.056454Z"
    },
    "trusted": true
   },
   "outputs": [
    {
     "name": "stdout",
     "output_type": "stream",
     "text": [
      "(960,)\n",
      "(150528,)\n"
     ]
    }
   ],
   "source": [
    "print(X_resnet[0].shape)\n",
    "print(X_pca_orig[0].shape)"
   ]
  },
  {
   "cell_type": "code",
   "execution_count": 9,
   "metadata": {
    "execution": {
     "iopub.execute_input": "2024-12-19T18:07:54.062969Z",
     "iopub.status.busy": "2024-12-19T18:07:54.062687Z",
     "iopub.status.idle": "2024-12-19T18:11:34.689085Z",
     "shell.execute_reply": "2024-12-19T18:11:34.688197Z",
     "shell.execute_reply.started": "2024-12-19T18:07:54.062946Z"
    },
    "trusted": true
   },
   "outputs": [
    {
     "name": "stdout",
     "output_type": "stream",
     "text": [
      "(378,)\n"
     ]
    }
   ],
   "source": [
    "n_components = 0.95\n",
    "pca_model = PCA(n_components=n_components, random_state=42)\n",
    "#X_pca = pca_model.fit_transform(X_resnet)\n",
    "X_pca = pca_model.fit_transform(X_pca_orig)\n",
    "print(X_pca[0].shape)\n",
    "X_pca = np.hstack((X_resnet, X_pca))"
   ]
  },
  {
   "cell_type": "code",
   "execution_count": 10,
   "metadata": {
    "execution": {
     "iopub.execute_input": "2024-12-19T18:11:34.691028Z",
     "iopub.status.busy": "2024-12-19T18:11:34.690402Z",
     "iopub.status.idle": "2024-12-19T18:11:34.695524Z",
     "shell.execute_reply": "2024-12-19T18:11:34.694688Z",
     "shell.execute_reply.started": "2024-12-19T18:11:34.690985Z"
    },
    "trusted": true
   },
   "outputs": [
    {
     "name": "stdout",
     "output_type": "stream",
     "text": [
      "(1338,)\n"
     ]
    }
   ],
   "source": [
    "print(X_pca[0].shape)"
   ]
  },
  {
   "cell_type": "code",
   "execution_count": 11,
   "metadata": {
    "execution": {
     "iopub.execute_input": "2024-12-19T18:11:34.696935Z",
     "iopub.status.busy": "2024-12-19T18:11:34.696595Z",
     "iopub.status.idle": "2024-12-19T18:12:24.741845Z",
     "shell.execute_reply": "2024-12-19T18:12:24.740897Z",
     "shell.execute_reply.started": "2024-12-19T18:11:34.696911Z"
    },
    "trusted": true
   },
   "outputs": [
    {
     "name": "stdout",
     "output_type": "stream",
     "text": [
      "Best Hyperparameters: {'C': 2, 'gamma': 'scale'}\n",
      "Validation F1 Score: 0.9682875264270614\n",
      "Test F1 Score: 0.9673469387755103\n",
      "Accuracy: 0.9716814159292035\n",
      "Precision: 0.9793388429752066\n",
      "Recall: 0.9556451612903226\n",
      "Classification Report:\n",
      "               precision    recall  f1-score   support\n",
      "\n",
      "           0     0.9659    0.9842    0.9750       317\n",
      "           1     0.9793    0.9556    0.9673       248\n",
      "\n",
      "    accuracy                         0.9717       565\n",
      "   macro avg     0.9726    0.9699    0.9712       565\n",
      "weighted avg     0.9718    0.9717    0.9716       565\n",
      "\n"
     ]
    }
   ],
   "source": [
    "X_train, X_test, y_train, y_test = train_test_split(X_pca, Y, test_size=0.15, random_state=42)\n",
    "#X_train, X_test, y_train, y_test = train_test_split(X_resnet, Y, test_size=0.15, random_state=42)\n",
    "X_train, X_val, y_train, y_val = train_test_split(X_train, y_train, test_size=0.1765, random_state=42)\n",
    "\n",
    "scaler = StandardScaler()\n",
    "X_train = scaler.fit_transform(X_train)\n",
    "X_val = scaler.transform(X_val)\n",
    "X_test = scaler.transform(X_test)\n",
    "\n",
    "C_values = [0.1, 0.5, 1, 2, 5, 10, 15, 20, 50]\n",
    "gamma_values = ['scale', 'auto']\n",
    "\n",
    "best_f1 = 0\n",
    "best_params = {}\n",
    "\n",
    "for C in C_values:\n",
    "    for gamma in gamma_values:\n",
    "        svm_model = SVC(kernel='rbf', C=C, gamma=gamma, random_state=42)\n",
    "        svm_model.fit(X_train, y_train)\n",
    "        y_val_pred = svm_model.predict(X_val)\n",
    "        val_f1 = f1_score(y_val, y_val_pred)  \n",
    "        if val_f1 > best_f1:\n",
    "            best_f1 = val_f1\n",
    "            best_params = {'C': C, 'gamma': gamma}\n",
    "\n",
    "best_model = SVC(kernel='rbf', C=best_params['C'], gamma=best_params['gamma'], random_state=42)\n",
    "best_model.fit(X_train, y_train)\n",
    "y_test_pred = best_model.predict(X_test)\n",
    "\n",
    "print(\"Best Hyperparameters:\", best_params)\n",
    "print(\"Validation F1 Score:\", best_f1)\n",
    "print(\"Test F1 Score:\", f1_score(y_test, y_test_pred))\n",
    "print(\"Accuracy:\", accuracy_score(y_test, y_test_pred))\n",
    "print(\"Precision:\", precision_score(y_test, y_test_pred))\n",
    "print(\"Recall:\", recall_score(y_test, y_test_pred))\n",
    "print(\"Classification Report:\\n\", classification_report(y_test, y_test_pred, digits=4))"
   ]
  },
  {
   "cell_type": "code",
   "execution_count": 12,
   "metadata": {
    "execution": {
     "iopub.execute_input": "2024-12-19T18:12:24.743130Z",
     "iopub.status.busy": "2024-12-19T18:12:24.742878Z",
     "iopub.status.idle": "2024-12-19T18:12:25.019690Z",
     "shell.execute_reply": "2024-12-19T18:12:25.018752Z",
     "shell.execute_reply.started": "2024-12-19T18:12:24.743105Z"
    },
    "trusted": true
   },
   "outputs": [
    {
     "data": {
      "image/png": "[encoded data removed]",
      "text/plain": [
       "<Figure size 800x600 with 2 Axes>"
      ]
     },
     "metadata": {},
     "output_type": "display_data"
    }
   ],
   "source": [
    "conf_matrix = confusion_matrix(y_test, y_test_pred)\n",
    "plt.figure(figsize=(8, 6))\n",
    "sns.heatmap(conf_matrix, annot=True, fmt=\"d\", cmap=\"Blues\", xticklabels=np.unique(Y), yticklabels=np.unique(Y))\n",
    "plt.title(\"Confusion Matrix\")\n",
    "plt.xlabel(\"Predicted Labels\")\n",
    "plt.ylabel(\"True Labels\")\n",
    "plt.show()"
   ]
  },
  {
   "cell_type": "code",
   "execution_count": 14,
   "metadata": {
    "execution": {
     "iopub.execute_input": "2024-12-19T18:12:26.438778Z",
     "iopub.status.busy": "2024-12-19T18:12:26.438514Z",
     "iopub.status.idle": "2024-12-19T18:12:26.442871Z",
     "shell.execute_reply": "2024-12-19T18:12:26.442108Z",
     "shell.execute_reply.started": "2024-12-19T18:12:26.438752Z"
    },
    "trusted": true
   },
   "outputs": [
    {
     "name": "stdout",
     "output_type": "stream",
     "text": [
      "(2632, 1338)\n"
     ]
    }
   ],
   "source": [
    "print(X_train.shape)"
   ]
  },
  {
   "cell_type": "code",
   "execution_count": 63,
   "metadata": {
    "execution": {
     "iopub.execute_input": "2024-12-19T18:21:53.761825Z",
     "iopub.status.busy": "2024-12-19T18:21:53.761083Z",
     "iopub.status.idle": "2024-12-19T18:21:53.818256Z",
     "shell.execute_reply": "2024-12-19T18:21:53.817285Z",
     "shell.execute_reply.started": "2024-12-19T18:21:53.761782Z"
    },
    "trusted": true
   },
   "outputs": [],
   "source": [
    "X_train, X_test, y_train, y_test = train_test_split(X_pca, Y, test_size=0.15, random_state=42)\n",
    "#X_train, X_test, y_train, y_test = train_test_split(X_resnet, Y, test_size=0.15, random_state=42)\n",
    "X_train, X_val, y_train, y_val = train_test_split(X_train, y_train, test_size=0.1765, random_state=42)\n",
    "scaler = StandardScaler()\n",
    "X_train = scaler.fit_transform(X_train)\n",
    "X_val = scaler.transform(X_val)\n",
    "X_test = scaler.transform(X_test)"
   ]
  },
  {
   "cell_type": "code",
   "execution_count": 64,
   "metadata": {
    "execution": {
     "iopub.execute_input": "2024-12-19T18:21:53.820288Z",
     "iopub.status.busy": "2024-12-19T18:21:53.820003Z",
     "iopub.status.idle": "2024-12-19T18:21:53.824791Z",
     "shell.execute_reply": "2024-12-19T18:21:53.823867Z",
     "shell.execute_reply.started": "2024-12-19T18:21:53.820261Z"
    },
    "trusted": true
   },
   "outputs": [
    {
     "name": "stdout",
     "output_type": "stream",
     "text": [
      "(2632, 1338)\n"
     ]
    }
   ],
   "source": [
    "print(X_train.shape)"
   ]
  },
  {
   "cell_type": "code",
   "execution_count": 65,
   "metadata": {
    "execution": {
     "iopub.execute_input": "2024-12-19T18:21:53.826009Z",
     "iopub.status.busy": "2024-12-19T18:21:53.825753Z",
     "iopub.status.idle": "2024-12-19T18:22:24.192005Z",
     "shell.execute_reply": "2024-12-19T18:22:24.191141Z",
     "shell.execute_reply.started": "2024-12-19T18:21:53.825986Z"
    },
    "trusted": true
   },
   "outputs": [
    {
     "name": "stderr",
     "output_type": "stream",
     "text": [
      "/opt/conda/lib/python3.10/site-packages/keras/src/layers/reshaping/reshape.py:39: UserWarning: Do not pass an `input_shape`/`input_dim` argument to a layer. When using Sequential models, prefer using an `Input(shape)` object as the first layer in the model instead.\n",
      "  super().__init__(**kwargs)\n",
      "/opt/conda/lib/python3.10/site-packages/keras/src/layers/convolutional/base_conv.py:107: UserWarning: Do not pass an `input_shape`/`input_dim` argument to a layer. When using Sequential models, prefer using an `Input(shape)` object as the first layer in the model instead.\n",
      "  super().__init__(activity_regularizer=activity_regularizer, **kwargs)\n"
     ]
    },
    {
     "name": "stdout",
     "output_type": "stream",
     "text": [
      "Epoch 1/10\n",
      "\u001b[1m83/83\u001b[0m \u001b[32m━━━━━━━━━━━━━━━━━━━━\u001b[0m\u001b[37m\u001b[0m \u001b[1m3s\u001b[0m 19ms/step - accuracy: 0.7383 - loss: 0.5704 - val_accuracy: 0.9274 - val_loss: 0.2076\n",
      "Epoch 2/10\n",
      "\u001b[1m83/83\u001b[0m \u001b[32m━━━━━━━━━━━━━━━━━━━━\u001b[0m\u001b[37m\u001b[0m \u001b[1m1s\u001b[0m 8ms/step - accuracy: 0.9633 - loss: 0.1015 - val_accuracy: 0.9540 - val_loss: 0.1462\n",
      "Epoch 3/10\n",
      "\u001b[1m83/83\u001b[0m \u001b[32m━━━━━━━━━━━━━━━━━━━━\u001b[0m\u001b[37m\u001b[0m \u001b[1m1s\u001b[0m 8ms/step - accuracy: 0.9884 - loss: 0.0379 - val_accuracy: 0.9487 - val_loss: 0.1319\n",
      "Epoch 4/10\n",
      "\u001b[1m83/83\u001b[0m \u001b[32m━━━━━━━━━━━━━━━━━━━━\u001b[0m\u001b[37m\u001b[0m \u001b[1m1s\u001b[0m 8ms/step - accuracy: 0.9964 - loss: 0.0144 - val_accuracy: 0.9310 - val_loss: 0.2898\n",
      "Epoch 5/10\n",
      "\u001b[1m83/83\u001b[0m \u001b[32m━━━━━━━━━━━━━━━━━━━━\u001b[0m\u001b[37m\u001b[0m \u001b[1m1s\u001b[0m 8ms/step - accuracy: 0.9956 - loss: 0.0181 - val_accuracy: 0.9522 - val_loss: 0.1594\n",
      "Epoch 6/10\n",
      "\u001b[1m83/83\u001b[0m \u001b[32m━━━━━━━━━━━━━━━━━━━━\u001b[0m\u001b[37m\u001b[0m \u001b[1m1s\u001b[0m 8ms/step - accuracy: 1.0000 - loss: 0.0024 - val_accuracy: 0.9504 - val_loss: 0.1712\n",
      "Epoch 7/10\n",
      "\u001b[1m83/83\u001b[0m \u001b[32m━━━━━━━━━━━━━━━━━━━━\u001b[0m\u001b[37m\u001b[0m \u001b[1m1s\u001b[0m 8ms/step - accuracy: 1.0000 - loss: 7.1727e-04 - val_accuracy: 0.9522 - val_loss: 0.1836\n",
      "Epoch 8/10\n",
      "\u001b[1m83/83\u001b[0m \u001b[32m━━━━━━━━━━━━━━━━━━━━\u001b[0m\u001b[37m\u001b[0m \u001b[1m1s\u001b[0m 8ms/step - accuracy: 1.0000 - loss: 5.7293e-04 - val_accuracy: 0.9540 - val_loss: 0.1896\n",
      "Epoch 9/10\n",
      "\u001b[1m83/83\u001b[0m \u001b[32m━━━━━━━━━━━━━━━━━━━━\u001b[0m\u001b[37m\u001b[0m \u001b[1m1s\u001b[0m 8ms/step - accuracy: 1.0000 - loss: 3.7764e-04 - val_accuracy: 0.9540 - val_loss: 0.1961\n",
      "Epoch 10/10\n",
      "\u001b[1m83/83\u001b[0m \u001b[32m━━━━━━━━━━━━━━━━━━━━\u001b[0m\u001b[37m\u001b[0m \u001b[1m1s\u001b[0m 8ms/step - accuracy: 1.0000 - loss: 3.1295e-04 - val_accuracy: 0.9522 - val_loss: 0.1975\n",
      "Epoch 1/10\n",
      "\u001b[1m83/83\u001b[0m \u001b[32m━━━━━━━━━━━━━━━━━━━━\u001b[0m\u001b[37m\u001b[0m \u001b[1m3s\u001b[0m 21ms/step - accuracy: 0.7933 - loss: 0.5231 - val_accuracy: 0.9274 - val_loss: 0.1828\n",
      "Epoch 2/10\n",
      "\u001b[1m83/83\u001b[0m \u001b[32m━━━━━━━━━━━━━━━━━━━━\u001b[0m\u001b[37m\u001b[0m \u001b[1m1s\u001b[0m 9ms/step - accuracy: 0.9571 - loss: 0.1100 - val_accuracy: 0.9469 - val_loss: 0.1568\n",
      "Epoch 3/10\n",
      "\u001b[1m83/83\u001b[0m \u001b[32m━━━━━━━━━━━━━━━━━━━━\u001b[0m\u001b[37m\u001b[0m \u001b[1m1s\u001b[0m 9ms/step - accuracy: 0.9907 - loss: 0.0374 - val_accuracy: 0.9504 - val_loss: 0.1298\n",
      "Epoch 4/10\n",
      "\u001b[1m83/83\u001b[0m \u001b[32m━━━━━━━━━━━━━━━━━━━━\u001b[0m\u001b[37m\u001b[0m \u001b[1m1s\u001b[0m 9ms/step - accuracy: 0.9958 - loss: 0.0191 - val_accuracy: 0.9504 - val_loss: 0.1666\n",
      "Epoch 5/10\n",
      "\u001b[1m83/83\u001b[0m \u001b[32m━━━━━━━━━━━━━━━━━━━━\u001b[0m\u001b[37m\u001b[0m \u001b[1m1s\u001b[0m 9ms/step - accuracy: 0.9999 - loss: 0.0034 - val_accuracy: 0.9540 - val_loss: 0.1911\n",
      "Epoch 6/10\n",
      "\u001b[1m83/83\u001b[0m \u001b[32m━━━━━━━━━━━━━━━━━━━━\u001b[0m\u001b[37m\u001b[0m \u001b[1m1s\u001b[0m 9ms/step - accuracy: 1.0000 - loss: 0.0021 - val_accuracy: 0.9522 - val_loss: 0.1771\n",
      "Epoch 7/10\n",
      "\u001b[1m83/83\u001b[0m \u001b[32m━━━━━━━━━━━━━━━━━━━━\u001b[0m\u001b[37m\u001b[0m \u001b[1m1s\u001b[0m 9ms/step - accuracy: 1.0000 - loss: 8.1904e-04 - val_accuracy: 0.9593 - val_loss: 0.1989\n",
      "Epoch 8/10\n",
      "\u001b[1m83/83\u001b[0m \u001b[32m━━━━━━━━━━━━━━━━━━━━\u001b[0m\u001b[37m\u001b[0m \u001b[1m1s\u001b[0m 9ms/step - accuracy: 1.0000 - loss: 3.2364e-04 - val_accuracy: 0.9540 - val_loss: 0.2009\n",
      "Epoch 9/10\n",
      "\u001b[1m83/83\u001b[0m \u001b[32m━━━━━━━━━━━━━━━━━━━━\u001b[0m\u001b[37m\u001b[0m \u001b[1m1s\u001b[0m 9ms/step - accuracy: 1.0000 - loss: 2.2860e-04 - val_accuracy: 0.9575 - val_loss: 0.2137\n",
      "Epoch 10/10\n",
      "\u001b[1m83/83\u001b[0m \u001b[32m━━━━━━━━━━━━━━━━━━━━\u001b[0m\u001b[37m\u001b[0m \u001b[1m1s\u001b[0m 9ms/step - accuracy: 1.0000 - loss: 1.8450e-04 - val_accuracy: 0.9575 - val_loss: 0.2188\n",
      "Epoch 1/10\n",
      "\u001b[1m83/83\u001b[0m \u001b[32m━━━━━━━━━━━━━━━━━━━━\u001b[0m\u001b[37m\u001b[0m \u001b[1m3s\u001b[0m 20ms/step - accuracy: 0.6625 - loss: 0.7840 - val_accuracy: 0.9257 - val_loss: 0.2009\n",
      "Epoch 2/10\n",
      "\u001b[1m83/83\u001b[0m \u001b[32m━━━━━━━━━━━━━━━━━━━━\u001b[0m\u001b[37m\u001b[0m \u001b[1m1s\u001b[0m 9ms/step - accuracy: 0.9401 - loss: 0.1602 - val_accuracy: 0.9522 - val_loss: 0.1561\n",
      "Epoch 3/10\n",
      "\u001b[1m83/83\u001b[0m \u001b[32m━━━━━━━━━━━━━━━━━━━━\u001b[0m\u001b[37m\u001b[0m \u001b[1m1s\u001b[0m 9ms/step - accuracy: 0.9703 - loss: 0.0808 - val_accuracy: 0.9487 - val_loss: 0.1516\n",
      "Epoch 4/10\n",
      "\u001b[1m83/83\u001b[0m \u001b[32m━━━━━━━━━━━━━━━━━━━━\u001b[0m\u001b[37m\u001b[0m \u001b[1m1s\u001b[0m 9ms/step - accuracy: 0.9916 - loss: 0.0342 - val_accuracy: 0.9522 - val_loss: 0.1429\n",
      "Epoch 5/10\n",
      "\u001b[1m83/83\u001b[0m \u001b[32m━━━━━━━━━━━━━━━━━━━━\u001b[0m\u001b[37m\u001b[0m \u001b[1m1s\u001b[0m 9ms/step - accuracy: 0.9975 - loss: 0.0135 - val_accuracy: 0.9628 - val_loss: 0.1318\n",
      "Epoch 6/10\n",
      "\u001b[1m83/83\u001b[0m \u001b[32m━━━━━━━━━━━━━━━━━━━━\u001b[0m\u001b[37m\u001b[0m \u001b[1m1s\u001b[0m 9ms/step - accuracy: 1.0000 - loss: 0.0025 - val_accuracy: 0.9575 - val_loss: 0.1347\n",
      "Epoch 7/10\n",
      "\u001b[1m83/83\u001b[0m \u001b[32m━━━━━━━━━━━━━━━━━━━━\u001b[0m\u001b[37m\u001b[0m \u001b[1m1s\u001b[0m 9ms/step - accuracy: 1.0000 - loss: 0.0013 - val_accuracy: 0.9611 - val_loss: 0.1553\n",
      "Epoch 8/10\n",
      "\u001b[1m83/83\u001b[0m \u001b[32m━━━━━━━━━━━━━━━━━━━━\u001b[0m\u001b[37m\u001b[0m \u001b[1m1s\u001b[0m 9ms/step - accuracy: 1.0000 - loss: 7.7897e-04 - val_accuracy: 0.9558 - val_loss: 0.1633\n",
      "Epoch 9/10\n",
      "\u001b[1m83/83\u001b[0m \u001b[32m━━━━━━━━━━━━━━━━━━━━\u001b[0m\u001b[37m\u001b[0m \u001b[1m1s\u001b[0m 9ms/step - accuracy: 1.0000 - loss: 5.6984e-04 - val_accuracy: 0.9593 - val_loss: 0.1641\n",
      "Epoch 10/10\n",
      "\u001b[1m83/83\u001b[0m \u001b[32m━━━━━━━━━━━━━━━━━━━━\u001b[0m\u001b[37m\u001b[0m \u001b[1m1s\u001b[0m 9ms/step - accuracy: 1.0000 - loss: 4.1535e-04 - val_accuracy: 0.9575 - val_loss: 0.1706\n",
      "\u001b[1m18/18\u001b[0m \u001b[32m━━━━━━━━━━━━━━━━━━━━\u001b[0m\u001b[37m\u001b[0m \u001b[1m0s\u001b[0m 1ms/step - accuracy: 0.9597 - loss: 0.1550 \n",
      "Accuracy1: 97.17%\n",
      "\u001b[1m18/18\u001b[0m \u001b[32m━━━━━━━━━━━━━━━━━━━━\u001b[0m\u001b[37m\u001b[0m \u001b[1m0s\u001b[0m 2ms/step - accuracy: 0.9572 - loss: 0.1719 \n",
      "Accuracy2: 96.99%\n",
      "\u001b[1m18/18\u001b[0m \u001b[32m━━━━━━━━━━━━━━━━━━━━\u001b[0m\u001b[37m\u001b[0m \u001b[1m0s\u001b[0m 2ms/step - accuracy: 0.9605 - loss: 0.1867 \n",
      "Accuracy3: 97.35%\n"
     ]
    }
   ],
   "source": [
    "def create_cnn_model(input_shape, num_filters):\n",
    "  model = Sequential()\n",
    "  model = Sequential()\n",
    "  model.add(Reshape((input_shape[1], 1), input_shape=input_shape[1:]))\n",
    "  model.add(Conv1D(filters=num_filters, kernel_size=3, activation='relu', input_shape=(500, 1)))\n",
    "  model.add(MaxPooling1D(pool_size=2))\n",
    "  model.add(Conv1D(filters=num_filters * 2, kernel_size=3, activation='relu'))\n",
    "  model.add(MaxPooling1D(pool_size=2))\n",
    "  model.add(Flatten())\n",
    "  model.add(Dense(64, activation='relu'))\n",
    "  model.add(Dense(1, activation='sigmoid'))\n",
    "  model.compile(optimizer='adam', loss='binary_crossentropy', metrics=['accuracy'])\n",
    "  return model\n",
    "\n",
    "model1 = create_cnn_model(X_train.shape, 32)\n",
    "model2 = create_cnn_model(X_train.shape, 64)\n",
    "model3 = create_cnn_model(X_train.shape, 48)\n",
    "\n",
    "X_train = np.array(X_train)\n",
    "X_val = np.array(X_val)\n",
    "X_test = np.array(X_test)\n",
    "\n",
    "# thêm 1 chiều vào ảnh\n",
    "X_train = X_train.reshape(X_train.shape[0], X_train.shape[1], 1)\n",
    "X_val = X_val.reshape(X_val.shape[0], X_val.shape[1], 1)\n",
    "X_test = X_test.reshape(X_test.shape[0], X_test.shape[1], 1)\n",
    "\n",
    "X_train = X_train.astype('float32')\n",
    "X_val = X_val.astype('float32')\n",
    "X_test = X_test.astype('float32')\n",
    "\n",
    "y_train = y_train.astype('float32')\n",
    "y_val = y_val.astype('float32')\n",
    "y_test = y_test.astype('float32')\n",
    "\n",
    "model1.fit(X_train, y_train, epochs=10, batch_size=32, validation_data=(X_val, y_val))\n",
    "model2.fit(X_train, y_train, epochs=10, batch_size=32, validation_data=(X_val, y_val))\n",
    "model3.fit(X_train, y_train, epochs=10, batch_size=32, validation_data=(X_val, y_val))\n",
    "\n",
    "loss, accuracy = model1.evaluate(X_test, y_test)\n",
    "print(f'Accuracy1: {accuracy*100:.2f}%')\n",
    "\n",
    "loss, accuracy = model2.evaluate(X_test, y_test)\n",
    "print(f'Accuracy2: {accuracy*100:.2f}%')\n",
    "\n",
    "loss, accuracy = model3.evaluate(X_test, y_test)\n",
    "print(f'Accuracy3: {accuracy*100:.2f}%')"
   ]
  },
  {
   "cell_type": "code",
   "execution_count": 66,
   "metadata": {
    "execution": {
     "iopub.execute_input": "2024-12-19T18:22:24.193573Z",
     "iopub.status.busy": "2024-12-19T18:22:24.193208Z",
     "iopub.status.idle": "2024-12-19T18:22:25.705265Z",
     "shell.execute_reply": "2024-12-19T18:22:25.704376Z",
     "shell.execute_reply.started": "2024-12-19T18:22:24.193533Z"
    },
    "trusted": true
   },
   "outputs": [
    {
     "name": "stdout",
     "output_type": "stream",
     "text": [
      "\u001b[1m18/18\u001b[0m \u001b[32m━━━━━━━━━━━━━━━━━━━━\u001b[0m\u001b[37m\u001b[0m \u001b[1m0s\u001b[0m 10ms/step\n",
      "\u001b[1m18/18\u001b[0m \u001b[32m━━━━━━━━━━━━━━━━━━━━\u001b[0m\u001b[37m\u001b[0m \u001b[1m0s\u001b[0m 10ms/step\n",
      "\u001b[1m18/18\u001b[0m \u001b[32m━━━━━━━━━━━━━━━━━━━━\u001b[0m\u001b[37m\u001b[0m \u001b[1m0s\u001b[0m 10ms/step\n",
      "F1-score1: 0.9696\n",
      "F1-score2: 0.9677\n",
      "F1-score3: 0.9697\n"
     ]
    }
   ],
   "source": [
    "y_pred1 = model1.predict(X_test)\n",
    "y_pred2 = model2.predict(X_test)\n",
    "y_pred3 = model3.predict(X_test)\n",
    "\n",
    "thresholds = np.arange(0, 1.01, 0.01) # từ 0 đến 1 cách biệt là 0.01\n",
    "best_threshold_1 = 0.0\n",
    "best_f1 = 0.0\n",
    "\n",
    "for threshold in thresholds: # tìm ngưỡng phân loại tốt nhất\n",
    "  y_pred_classes = (y_pred1 >= threshold).astype(int)\n",
    "  f1 = f1_score(y_test, y_pred_classes)\n",
    "  if f1 > best_f1:\n",
    "    best_f1 = f1\n",
    "    best_threshold_1 = threshold\n",
    "print(f'F1-score1: {best_f1:.4f}')\n",
    "y_pred1 = (y_pred1 > best_threshold_1).astype(int)\n",
    "\n",
    "best_threshold_2 = 0.0\n",
    "best_f1 = 0.0\n",
    "\n",
    "for threshold in thresholds:\n",
    "  y_pred_classes = (y_pred2 >= threshold).astype(int)\n",
    "  f1 = f1_score(y_test, y_pred_classes)\n",
    "  if f1 > best_f1:\n",
    "    best_f1 = f1\n",
    "    best_threshold_2 = threshold\n",
    "print(f'F1-score2: {best_f1:.4f}')\n",
    "y_pred2 = (y_pred2 > best_threshold_2).astype(int)\n",
    "\n",
    "best_threshold_3 = 0.0\n",
    "best_f1 = 0.0\n",
    "\n",
    "for threshold in thresholds:\n",
    "  y_pred_classes = (y_pred3 >= threshold).astype(int)\n",
    "  f1 = f1_score(y_test, y_pred_classes)\n",
    "  if f1 > best_f1:\n",
    "    best_f1 = f1\n",
    "    best_threshold_3 = threshold\n",
    "print(f'F1-score3: {best_f1:.4f}')\n",
    "y_pred3 = (y_pred3 > best_threshold_3).astype(int)"
   ]
  },
  {
   "cell_type": "code",
   "execution_count": 67,
   "metadata": {
    "execution": {
     "iopub.execute_input": "2024-12-19T18:22:25.707517Z",
     "iopub.status.busy": "2024-12-19T18:22:25.707236Z",
     "iopub.status.idle": "2024-12-19T18:22:25.713881Z",
     "shell.execute_reply": "2024-12-19T18:22:25.712981Z",
     "shell.execute_reply.started": "2024-12-19T18:22:25.707491Z"
    },
    "trusted": true
   },
   "outputs": [],
   "source": [
    "def print_metrics(y_test, y_pred, model_number):\n",
    "    accuracy = accuracy_score(y_test, y_pred)\n",
    "    precision = precision_score(y_test, y_pred)\n",
    "    recall = recall_score(y_test, y_pred)\n",
    "    f1 = f1_score(y_test, y_pred)\n",
    "    \n",
    "    print(f\"Model {model_number} - Metrics:\")\n",
    "    print(f\"Accuracy: {accuracy * 100:.2f}%\")\n",
    "    print(f\"Precision: {precision:.4f}\")\n",
    "    print(f\"Recall: {recall:.4f}\")\n",
    "    print(f\"F1 Score: {f1:.4f}\")\n",
    "    print(\"\\nClassification Report:\")\n",
    "    print(classification_report(y_test, y_pred))\n",
    "    \n",
    "    cm = confusion_matrix(y_test, y_pred)\n",
    "    plt.figure(figsize=(6, 5))\n",
    "    sns.heatmap(cm, annot=True, fmt='d', cmap='Blues', xticklabels=['Class 0', 'Class 1'], yticklabels=['Class 0', 'Class 1'])\n",
    "    plt.title(f'Confusion Matrix - Model {model_number}')\n",
    "    plt.xlabel('Predicted')\n",
    "    plt.ylabel('True')\n",
    "    plt.show()"
   ]
  },
  {
   "cell_type": "code",
   "execution_count": 68,
   "metadata": {
    "execution": {
     "iopub.execute_input": "2024-12-19T18:22:25.715157Z",
     "iopub.status.busy": "2024-12-19T18:22:25.714920Z",
     "iopub.status.idle": "2024-12-19T18:22:25.965350Z",
     "shell.execute_reply": "2024-12-19T18:22:25.964553Z",
     "shell.execute_reply.started": "2024-12-19T18:22:25.715122Z"
    },
    "trusted": true
   },
   "outputs": [
    {
     "name": "stdout",
     "output_type": "stream",
     "text": [
      "Model 1 - Metrics:\n",
      "Accuracy: 97.35%\n",
      "Precision: 0.9755\n",
      "Recall: 0.9637\n",
      "F1 Score: 0.9696\n",
      "\n",
      "Classification Report:\n",
      "              precision    recall  f1-score   support\n",
      "\n",
      "         0.0       0.97      0.98      0.98       317\n",
      "         1.0       0.98      0.96      0.97       248\n",
      "\n",
      "    accuracy                           0.97       565\n",
      "   macro avg       0.97      0.97      0.97       565\n",
      "weighted avg       0.97      0.97      0.97       565\n",
      "\n"
     ]
    },
    {
     "data": {
      "image/png": "[encoded data removed]",
      "text/plain": [
       "<Figure size 600x500 with 2 Axes>"
      ]
     },
     "metadata": {},
     "output_type": "display_data"
    }
   ],
   "source": [
    "print_metrics(y_test, y_pred1, 1)"
   ]
  },
  {
   "cell_type": "code",
   "execution_count": 69,
   "metadata": {
    "execution": {
     "iopub.execute_input": "2024-12-19T18:22:25.966599Z",
     "iopub.status.busy": "2024-12-19T18:22:25.966357Z",
     "iopub.status.idle": "2024-12-19T18:22:26.139441Z",
     "shell.execute_reply": "2024-12-19T18:22:26.138347Z",
     "shell.execute_reply.started": "2024-12-19T18:22:25.966559Z"
    },
    "trusted": true
   },
   "outputs": [
    {
     "name": "stdout",
     "output_type": "stream",
     "text": [
      "Model 2 - Metrics:\n",
      "Accuracy: 97.17%\n",
      "Precision: 0.9677\n",
      "Recall: 0.9677\n",
      "F1 Score: 0.9677\n",
      "\n",
      "Classification Report:\n",
      "              precision    recall  f1-score   support\n",
      "\n",
      "         0.0       0.97      0.97      0.97       317\n",
      "         1.0       0.97      0.97      0.97       248\n",
      "\n",
      "    accuracy                           0.97       565\n",
      "   macro avg       0.97      0.97      0.97       565\n",
      "weighted avg       0.97      0.97      0.97       565\n",
      "\n"
     ]
    },
    {
     "data": {
      "image/png": "[encoded data removed]",
      "text/plain": [
       "<Figure size 600x500 with 2 Axes>"
      ]
     },
     "metadata": {},
     "output_type": "display_data"
    }
   ],
   "source": [
    "print_metrics(y_test, y_pred2, 2)"
   ]
  },
  {
   "cell_type": "code",
   "execution_count": 70,
   "metadata": {
    "execution": {
     "iopub.execute_input": "2024-12-19T18:22:26.141271Z",
     "iopub.status.busy": "2024-12-19T18:22:26.140818Z",
     "iopub.status.idle": "2024-12-19T18:22:26.390842Z",
     "shell.execute_reply": "2024-12-19T18:22:26.390089Z",
     "shell.execute_reply.started": "2024-12-19T18:22:26.141220Z"
    },
    "trusted": true
   },
   "outputs": [
    {
     "name": "stdout",
     "output_type": "stream",
     "text": [
      "Model 3 - Metrics:\n",
      "Accuracy: 97.35%\n",
      "Precision: 0.9717\n",
      "Recall: 0.9677\n",
      "F1 Score: 0.9697\n",
      "\n",
      "Classification Report:\n",
      "              precision    recall  f1-score   support\n",
      "\n",
      "         0.0       0.97      0.98      0.98       317\n",
      "         1.0       0.97      0.97      0.97       248\n",
      "\n",
      "    accuracy                           0.97       565\n",
      "   macro avg       0.97      0.97      0.97       565\n",
      "weighted avg       0.97      0.97      0.97       565\n",
      "\n"
     ]
    },
    {
     "data": {
      "image/png": "[encoded data removed]",
      "text/plain": [
       "<Figure size 600x500 with 2 Axes>"
      ]
     },
     "metadata": {},
     "output_type": "display_data"
    }
   ],
   "source": [
    "print_metrics(y_test, y_pred3, 3)"
   ]
  },
  {
   "cell_type": "code",
   "execution_count": 71,
   "metadata": {
    "execution": {
     "iopub.execute_input": "2024-12-19T18:22:26.392129Z",
     "iopub.status.busy": "2024-12-19T18:22:26.391910Z",
     "iopub.status.idle": "2024-12-19T18:22:32.109484Z",
     "shell.execute_reply": "2024-12-19T18:22:32.108596Z",
     "shell.execute_reply.started": "2024-12-19T18:22:26.392107Z"
    },
    "trusted": true
   },
   "outputs": [
    {
     "name": "stdout",
     "output_type": "stream",
     "text": [
      "\u001b[1m83/83\u001b[0m \u001b[32m━━━━━━━━━━━━━━━━━━━━\u001b[0m\u001b[37m\u001b[0m \u001b[1m0s\u001b[0m 2ms/step\n",
      "\u001b[1m83/83\u001b[0m \u001b[32m━━━━━━━━━━━━━━━━━━━━\u001b[0m\u001b[37m\u001b[0m \u001b[1m0s\u001b[0m 2ms/step\n",
      "\u001b[1m83/83\u001b[0m \u001b[32m━━━━━━━━━━━━━━━━━━━━\u001b[0m\u001b[37m\u001b[0m \u001b[1m0s\u001b[0m 2ms/step\n",
      "\u001b[1m18/18\u001b[0m \u001b[32m━━━━━━━━━━━━━━━━━━━━\u001b[0m\u001b[37m\u001b[0m \u001b[1m0s\u001b[0m 1ms/step \n",
      "\u001b[1m18/18\u001b[0m \u001b[32m━━━━━━━━━━━━━━━━━━━━\u001b[0m\u001b[37m\u001b[0m \u001b[1m0s\u001b[0m 1ms/step \n",
      "\u001b[1m18/18\u001b[0m \u001b[32m━━━━━━━━━━━━━━━━━━━━\u001b[0m\u001b[37m\u001b[0m \u001b[1m0s\u001b[0m 1ms/step \n",
      "\u001b[1m18/18\u001b[0m \u001b[32m━━━━━━━━━━━━━━━━━━━━\u001b[0m\u001b[37m\u001b[0m \u001b[1m0s\u001b[0m 1ms/step \n",
      "\u001b[1m18/18\u001b[0m \u001b[32m━━━━━━━━━━━━━━━━━━━━\u001b[0m\u001b[37m\u001b[0m \u001b[1m0s\u001b[0m 1ms/step \n",
      "\u001b[1m18/18\u001b[0m \u001b[32m━━━━━━━━━━━━━━━━━━━━\u001b[0m\u001b[37m\u001b[0m \u001b[1m0s\u001b[0m 1ms/step \n",
      "\u001b[1m18/18\u001b[0m \u001b[32m━━━━━━━━━━━━━━━━━━━━\u001b[0m\u001b[37m\u001b[0m \u001b[1m0s\u001b[0m 1ms/step \n",
      "\u001b[1m18/18\u001b[0m \u001b[32m━━━━━━━━━━━━━━━━━━━━\u001b[0m\u001b[37m\u001b[0m \u001b[1m0s\u001b[0m 1ms/step \n",
      "\u001b[1m18/18\u001b[0m \u001b[32m━━━━━━━━━━━━━━━━━━━━\u001b[0m\u001b[37m\u001b[0m \u001b[1m0s\u001b[0m 1ms/step \n",
      "\u001b[1m18/18\u001b[0m \u001b[32m━━━━━━━━━━━━━━━━━━━━\u001b[0m\u001b[37m\u001b[0m \u001b[1m0s\u001b[0m 1ms/step \n",
      "\u001b[1m18/18\u001b[0m \u001b[32m━━━━━━━━━━━━━━━━━━━━\u001b[0m\u001b[37m\u001b[0m \u001b[1m0s\u001b[0m 1ms/step \n",
      "\u001b[1m18/18\u001b[0m \u001b[32m━━━━━━━━━━━━━━━━━━━━\u001b[0m\u001b[37m\u001b[0m \u001b[1m0s\u001b[0m 1ms/step \n",
      "\u001b[1m18/18\u001b[0m \u001b[32m━━━━━━━━━━━━━━━━━━━━\u001b[0m\u001b[37m\u001b[0m \u001b[1m0s\u001b[0m 1ms/step \n",
      "\u001b[1m18/18\u001b[0m \u001b[32m━━━━━━━━━━━━━━━━━━━━\u001b[0m\u001b[37m\u001b[0m \u001b[1m0s\u001b[0m 1ms/step \n",
      "\u001b[1m18/18\u001b[0m \u001b[32m━━━━━━━━━━━━━━━━━━━━\u001b[0m\u001b[37m\u001b[0m \u001b[1m0s\u001b[0m 1ms/step \n",
      "\u001b[1m18/18\u001b[0m \u001b[32m━━━━━━━━━━━━━━━━━━━━\u001b[0m\u001b[37m\u001b[0m \u001b[1m0s\u001b[0m 1ms/step \n",
      "\u001b[1m18/18\u001b[0m \u001b[32m━━━━━━━━━━━━━━━━━━━━\u001b[0m\u001b[37m\u001b[0m \u001b[1m0s\u001b[0m 1ms/step \n",
      "\u001b[1m18/18\u001b[0m \u001b[32m━━━━━━━━━━━━━━━━━━━━\u001b[0m\u001b[37m\u001b[0m \u001b[1m0s\u001b[0m 1ms/step \n",
      "\u001b[1m18/18\u001b[0m \u001b[32m━━━━━━━━━━━━━━━━━━━━\u001b[0m\u001b[37m\u001b[0m \u001b[1m0s\u001b[0m 1ms/step \n",
      "\u001b[1m18/18\u001b[0m \u001b[32m━━━━━━━━━━━━━━━━━━━━\u001b[0m\u001b[37m\u001b[0m \u001b[1m0s\u001b[0m 1ms/step \n",
      "\u001b[1m18/18\u001b[0m \u001b[32m━━━━━━━━━━━━━━━━━━━━\u001b[0m\u001b[37m\u001b[0m \u001b[1m0s\u001b[0m 1ms/step \n",
      "\u001b[1m18/18\u001b[0m \u001b[32m━━━━━━━━━━━━━━━━━━━━\u001b[0m\u001b[37m\u001b[0m \u001b[1m0s\u001b[0m 1ms/step \n",
      "\u001b[1m18/18\u001b[0m \u001b[32m━━━━━━━━━━━━━━━━━━━━\u001b[0m\u001b[37m\u001b[0m \u001b[1m0s\u001b[0m 1ms/step \n",
      "\u001b[1m18/18\u001b[0m \u001b[32m━━━━━━━━━━━━━━━━━━━━\u001b[0m\u001b[37m\u001b[0m \u001b[1m0s\u001b[0m 1ms/step \n",
      "\u001b[1m18/18\u001b[0m \u001b[32m━━━━━━━━━━━━━━━━━━━━\u001b[0m\u001b[37m\u001b[0m \u001b[1m0s\u001b[0m 1ms/step \n",
      "\u001b[1m18/18\u001b[0m \u001b[32m━━━━━━━━━━━━━━━━━━━━\u001b[0m\u001b[37m\u001b[0m \u001b[1m0s\u001b[0m 1ms/step \n",
      "\u001b[1m18/18\u001b[0m \u001b[32m━━━━━━━━━━━━━━━━━━━━\u001b[0m\u001b[37m\u001b[0m \u001b[1m0s\u001b[0m 1ms/step \n",
      "\u001b[1m18/18\u001b[0m \u001b[32m━━━━━━━━━━━━━━━━━━━━\u001b[0m\u001b[37m\u001b[0m \u001b[1m0s\u001b[0m 1ms/step \n",
      "\u001b[1m18/18\u001b[0m \u001b[32m━━━━━━━━━━━━━━━━━━━━\u001b[0m\u001b[37m\u001b[0m \u001b[1m0s\u001b[0m 1ms/step \n",
      "\u001b[1m18/18\u001b[0m \u001b[32m━━━━━━━━━━━━━━━━━━━━\u001b[0m\u001b[37m\u001b[0m \u001b[1m0s\u001b[0m 1ms/step \n",
      "\u001b[1m18/18\u001b[0m \u001b[32m━━━━━━━━━━━━━━━━━━━━\u001b[0m\u001b[37m\u001b[0m \u001b[1m0s\u001b[0m 1ms/step \n",
      "\u001b[1m18/18\u001b[0m \u001b[32m━━━━━━━━━━━━━━━━━━━━\u001b[0m\u001b[37m\u001b[0m \u001b[1m0s\u001b[0m 1ms/step \n",
      "\u001b[1m18/18\u001b[0m \u001b[32m━━━━━━━━━━━━━━━━━━━━\u001b[0m\u001b[37m\u001b[0m \u001b[1m0s\u001b[0m 1ms/step \n",
      "\u001b[1m18/18\u001b[0m \u001b[32m━━━━━━━━━━━━━━━━━━━━\u001b[0m\u001b[37m\u001b[0m \u001b[1m0s\u001b[0m 1ms/step \n",
      "\u001b[1m18/18\u001b[0m \u001b[32m━━━━━━━━━━━━━━━━━━━━\u001b[0m\u001b[37m\u001b[0m \u001b[1m0s\u001b[0m 1ms/step \n",
      "\u001b[1m18/18\u001b[0m \u001b[32m━━━━━━━━━━━━━━━━━━━━\u001b[0m\u001b[37m\u001b[0m \u001b[1m0s\u001b[0m 1ms/step \n",
      "\u001b[1m18/18\u001b[0m \u001b[32m━━━━━━━━━━━━━━━━━━━━\u001b[0m\u001b[37m\u001b[0m \u001b[1m0s\u001b[0m 1ms/step \n",
      "\u001b[1m18/18\u001b[0m \u001b[32m━━━━━━━━━━━━━━━━━━━━\u001b[0m\u001b[37m\u001b[0m \u001b[1m0s\u001b[0m 1ms/step \n",
      "\u001b[1m18/18\u001b[0m \u001b[32m━━━━━━━━━━━━━━━━━━━━\u001b[0m\u001b[37m\u001b[0m \u001b[1m0s\u001b[0m 1ms/step \n",
      "\u001b[1m18/18\u001b[0m \u001b[32m━━━━━━━━━━━━━━━━━━━━\u001b[0m\u001b[37m\u001b[0m \u001b[1m0s\u001b[0m 1ms/step \n",
      "\u001b[1m18/18\u001b[0m \u001b[32m━━━━━━━━━━━━━━━━━━━━\u001b[0m\u001b[37m\u001b[0m \u001b[1m0s\u001b[0m 1ms/step \n",
      "\u001b[1m18/18\u001b[0m \u001b[32m━━━━━━━━━━━━━━━━━━━━\u001b[0m\u001b[37m\u001b[0m \u001b[1m0s\u001b[0m 1ms/step \n",
      "\u001b[1m18/18\u001b[0m \u001b[32m━━━━━━━━━━━━━━━━━━━━\u001b[0m\u001b[37m\u001b[0m \u001b[1m0s\u001b[0m 1ms/step \n",
      "\u001b[1m18/18\u001b[0m \u001b[32m━━━━━━━━━━━━━━━━━━━━\u001b[0m\u001b[37m\u001b[0m \u001b[1m0s\u001b[0m 1ms/step \n",
      "\u001b[1m18/18\u001b[0m \u001b[32m━━━━━━━━━━━━━━━━━━━━\u001b[0m\u001b[37m\u001b[0m \u001b[1m0s\u001b[0m 1ms/step \n",
      "\u001b[1m18/18\u001b[0m \u001b[32m━━━━━━━━━━━━━━━━━━━━\u001b[0m\u001b[37m\u001b[0m \u001b[1m0s\u001b[0m 1ms/step \n",
      "\u001b[1m18/18\u001b[0m \u001b[32m━━━━━━━━━━━━━━━━━━━━\u001b[0m\u001b[37m\u001b[0m \u001b[1m0s\u001b[0m 1ms/step \n",
      "\u001b[1m18/18\u001b[0m \u001b[32m━━━━━━━━━━━━━━━━━━━━\u001b[0m\u001b[37m\u001b[0m \u001b[1m0s\u001b[0m 1ms/step \n",
      "\u001b[1m18/18\u001b[0m \u001b[32m━━━━━━━━━━━━━━━━━━━━\u001b[0m\u001b[37m\u001b[0m \u001b[1m0s\u001b[0m 1ms/step \n",
      "\u001b[1m18/18\u001b[0m \u001b[32m━━━━━━━━━━━━━━━━━━━━\u001b[0m\u001b[37m\u001b[0m \u001b[1m0s\u001b[0m 1ms/step \n",
      "\u001b[1m18/18\u001b[0m \u001b[32m━━━━━━━━━━━━━━━━━━━━\u001b[0m\u001b[37m\u001b[0m \u001b[1m0s\u001b[0m 1ms/step \n",
      "\u001b[1m18/18\u001b[0m \u001b[32m━━━━━━━━━━━━━━━━━━━━\u001b[0m\u001b[37m\u001b[0m \u001b[1m0s\u001b[0m 1ms/step \n",
      "\u001b[1m18/18\u001b[0m \u001b[32m━━━━━━━━━━━━━━━━━━━━\u001b[0m\u001b[37m\u001b[0m \u001b[1m0s\u001b[0m 1ms/step \n",
      "\u001b[1m18/18\u001b[0m \u001b[32m━━━━━━━━━━━━━━━━━━━━\u001b[0m\u001b[37m\u001b[0m \u001b[1m0s\u001b[0m 1ms/step \n",
      "Best Hyperparameters: {'C': 0.1, 'gamma': 'scale'}\n",
      "Best F1-score (Ensemble SVM on Validation): 0.9471\n",
      "\u001b[1m18/18\u001b[0m \u001b[32m━━━━━━━━━━━━━━━━━━━━\u001b[0m\u001b[37m\u001b[0m \u001b[1m0s\u001b[0m 1ms/step \n",
      "\u001b[1m18/18\u001b[0m \u001b[32m━━━━━━━━━━━━━━━━━━━━\u001b[0m\u001b[37m\u001b[0m \u001b[1m0s\u001b[0m 1ms/step \n"
     ]
    },
    {
     "name": "stderr",
     "output_type": "stream",
     "text": [
      "/opt/conda/lib/python3.10/site-packages/sklearn/svm/_base.py:299: ConvergenceWarning: Solver terminated early (max_iter=20).  Consider pre-processing your data with StandardScaler or MinMaxScaler.\n",
      "  warnings.warn(\n"
     ]
    },
    {
     "name": "stdout",
     "output_type": "stream",
     "text": [
      "\u001b[1m18/18\u001b[0m \u001b[32m━━━━━━━━━━━━━━━━━━━━\u001b[0m\u001b[37m\u001b[0m \u001b[1m0s\u001b[0m 1ms/step \n",
      "Ensemble F1-score (SVM on Test Set): 0.9697\n",
      "Ensemble Accuracy (SVM on Test Set): 0.9735\n",
      "Ensemble Precision (SVM on Test Set): 0.9717\n",
      "Ensemble Recall (SVM on Test Set): 0.9677\n"
     ]
    }
   ],
   "source": [
    "y_pred1_prob = model1.predict(X_train).flatten()  \n",
    "y_pred2_prob = model2.predict(X_train).flatten()  \n",
    "y_pred3_prob = model3.predict(X_train).flatten()  \n",
    "\n",
    "y_pred_probs_train = np.column_stack((y_pred1_prob, y_pred2_prob, y_pred3_prob))\n",
    "\n",
    "C_values = [0.1, 0.5, 1, 2, 5, 10, 15, 20, 50]\n",
    "gamma_values = ['scale', 'auto']\n",
    "\n",
    "best_f1 = 0\n",
    "best_params = {}\n",
    "\n",
    "for C in C_values:\n",
    "    for gamma in gamma_values:\n",
    "        ensemble_model_svm = SVC(kernel='rbf', C=C, gamma=gamma, probability=True, random_state=42)\n",
    "        ensemble_model_svm.fit(y_pred_probs_train, y_train)\n",
    "\n",
    "        y_pred1_prob_val = model1.predict(X_val).flatten()  \n",
    "        y_pred2_prob_val = model2.predict(X_val).flatten()  \n",
    "        y_pred3_prob_val = model3.predict(X_val).flatten()\n",
    "\n",
    "        y_pred_probs_val = np.column_stack((y_pred1_prob_val, y_pred2_prob_val, y_pred3_prob_val))\n",
    "\n",
    "        y_pred_ensemble_svm = ensemble_model_svm.predict(y_pred_probs_val)\n",
    "\n",
    "        f1_ensemble_svm = f1_score(y_val, y_pred_ensemble_svm)\n",
    "\n",
    "        if f1_ensemble_svm > best_f1:\n",
    "            best_f1 = f1_ensemble_svm\n",
    "            best_params = {'C': C, 'gamma': gamma}\n",
    "\n",
    "print(f\"Best Hyperparameters: {best_params}\")\n",
    "print(f\"Best F1-score (Ensemble SVM on Validation): {best_f1:.4f}\")\n",
    "\n",
    "ensemble_model_svm = SVC(kernel='rbf', C=best_params['C'], gamma=best_params['gamma'], probability=True, random_state=42)\n",
    "ensemble_model_svm.fit(y_pred_probs_train, y_train)\n",
    "\n",
    "y_pred1_prob_test = model1.predict(X_test).flatten() \n",
    "y_pred2_prob_test = model2.predict(X_test).flatten()  \n",
    "y_pred3_prob_test = model3.predict(X_test).flatten()\n",
    "\n",
    "y_pred_probs_test = np.column_stack((y_pred1_prob_test, y_pred2_prob_test, y_pred3_prob_test))\n",
    "\n",
    "y_pred_ensemble_svm = ensemble_model_svm.predict(y_pred_probs_test)\n",
    "\n",
    "f1_ensemble_svm_test = f1_score(y_test, y_pred_ensemble_svm)\n",
    "accuracy_ensemble_svm_test = accuracy_score(y_test, y_pred_ensemble_svm)\n",
    "precision_ensemble_svm_test = precision_score(y_test, y_pred_ensemble_svm)\n",
    "recall_ensemble_svm_test = recall_score(y_test, y_pred_ensemble_svm)\n",
    "\n",
    "print(f'Ensemble F1-score (SVM on Test Set): {f1_ensemble_svm_test:.4f}')\n",
    "print(f'Ensemble Accuracy (SVM on Test Set): {accuracy_ensemble_svm_test:.4f}')\n",
    "print(f'Ensemble Precision (SVM on Test Set): {precision_ensemble_svm_test:.4f}')\n",
    "print(f'Ensemble Recall (SVM on Test Set): {recall_ensemble_svm_test:.4f}')"
   ]
  },
  {
   "cell_type": "code",
   "execution_count": 83,
   "metadata": {
    "execution": {
     "iopub.execute_input": "2024-12-19T18:25:01.472141Z",
     "iopub.status.busy": "2024-12-19T18:25:01.471792Z",
     "iopub.status.idle": "2024-12-19T18:25:01.642120Z",
     "shell.execute_reply": "2024-12-19T18:25:01.641365Z",
     "shell.execute_reply.started": "2024-12-19T18:25:01.472113Z"
    },
    "trusted": true
   },
   "outputs": [
    {
     "data": {
      "image/png": "[encoded data removed]",
      "text/plain": [
       "<Figure size 600x600 with 2 Axes>"
      ]
     },
     "metadata": {},
     "output_type": "display_data"
    }
   ],
   "source": [
    "cm = confusion_matrix(y_test, y_pred_ensemble_svm)\n",
    "\n",
    "plt.figure(figsize=(6, 6))\n",
    "sns.heatmap(cm, annot=True, fmt=\"d\", cmap=\"Blues\", xticklabels=[\"Class 0\", \"Class 1\"], yticklabels=[\"Class 0\", \"Class 1\"])\n",
    "plt.xlabel('Predicted')\n",
    "plt.ylabel('True')\n",
    "plt.title('Confusion Matrix - Ensemble SVM (Test Set)')\n",
    "plt.show()"
   ]
  },
  {
   "cell_type": "code",
   "execution_count": 82,
   "metadata": {
    "execution": {
     "iopub.execute_input": "2024-12-19T18:24:03.852856Z",
     "iopub.status.busy": "2024-12-19T18:24:03.852041Z",
     "iopub.status.idle": "2024-12-19T18:24:04.600930Z",
     "shell.execute_reply": "2024-12-19T18:24:04.600054Z",
     "shell.execute_reply.started": "2024-12-19T18:24:03.852824Z"
    },
    "trusted": true
   },
   "outputs": [
    {
     "data": {
      "text/plain": [
       "['/kaggle/working/svm.pkl']"
      ]
     },
     "execution_count": 82,
     "metadata": {},
     "output_type": "execute_result"
    }
   ],
   "source": [
    "import joblib\n",
    "import torch\n",
    "\n",
    "joblib.dump(model1, '/kaggle/working/model1.pkl')\n",
    "joblib.dump(model2, '/kaggle/working/model2.pkl')\n",
    "joblib.dump(model3, '/kaggle/working/model3.pkl')\n",
    "joblib.dump(ensemble_model_svm, '/kaggle/working/ensemble_model_svm.pkl')\n",
    "joblib.dump(pca_model, '/kaggle/working/pca_model.pkl')\n",
    "joblib.dump(scaler, '/kaggle/working/scaler.pkl')\n",
    "joblib.dump(best_model, '/kaggle/working/svm.pkl')"
   ]
  }
 ],
 "metadata": {
  "kaggle": {
   "accelerator": "gpu",
   "dataSources": [
    {
     "datasetId": 6156537,
     "sourceId": 10001939,
     "sourceType": "datasetVersion"
    },
    {
     "datasetId": 6158688,
     "sourceId": 10005043,
     "sourceType": "datasetVersion"
    },
    {
     "datasetId": 6158722,
     "sourceId": 10005081,
     "sourceType": "datasetVersion"
    }
   ],
   "dockerImageVersionId": 30787,
   "isGpuEnabled": true,
   "isInternetEnabled": true,
   "language": "python",
   "sourceType": "notebook"
  },
  "kernelspec": {
   "display_name": "Python 3",
   "language": "python",
   "name": "python3"
  },
  "language_info": {
   "codemirror_mode": {
    "name": "ipython",
    "version": 3
   },
   "file_extension": ".py",
   "mimetype": "text/x-python",
   "name": "python",
   "nbconvert_exporter": "python",
   "pygments_lexer": "ipython3",
   "version": "3.10.14"
  }
 },
 "nbformat": 4,
 "nbformat_minor": 4
}
